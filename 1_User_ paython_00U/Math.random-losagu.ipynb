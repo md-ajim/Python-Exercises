{
 "cells": [
  {
   "cell_type": "code",
   "execution_count": 24,
   "id": "622e47b3",
   "metadata": {},
   "outputs": [
    {
     "name": "stdout",
     "output_type": "stream",
     "text": [
      "240\n"
     ]
    }
   ],
   "source": [
    "import math\n",
    "\n",
    "import numpy as np\n",
    "\n",
    "Lcm = np.lcm(30,80)\n",
    "\n",
    "print(Lcm)\n",
    "\n"
   ]
  },
  {
   "cell_type": "code",
   "execution_count": 15,
   "id": "f013129a",
   "metadata": {},
   "outputs": [
    {
     "name": "stdout",
     "output_type": "stream",
     "text": [
      "enter number frist number :- 30\n",
      "enter number Secend number :- 80\n",
      "240\n"
     ]
    }
   ],
   "source": [
    "import math\n",
    "\n",
    "x = int(input('enter number frist number :- '))\n",
    "y = int(input('enter number Secend number :- '))\n",
    "\n",
    "Lcm =int((x*y)/math.gcd(x,y)) # 2 ta sonkahr losagu ber korlam\n",
    "\n",
    "print(Lcm)\n"
   ]
  },
  {
   "cell_type": "code",
   "execution_count": 31,
   "id": "8b82cfdc",
   "metadata": {},
   "outputs": [
    {
     "name": "stdout",
     "output_type": "stream",
     "text": [
      "0.12074579572824484\n"
     ]
    }
   ],
   "source": [
    "import random as rd\n",
    "\n",
    "x = rd.random()\n",
    "\n",
    "print(x)\n"
   ]
  },
  {
   "cell_type": "code",
   "execution_count": 46,
   "id": "164fa97c",
   "metadata": {},
   "outputs": [
    {
     "name": "stdout",
     "output_type": "stream",
     "text": [
      "6\n"
     ]
    }
   ],
   "source": [
    "import random as rd\n",
    "\n",
    "x = rd.randint(0,6) # ludo gram\n",
    "\n",
    "print(x)\n"
   ]
  },
  {
   "cell_type": "code",
   "execution_count": null,
   "id": "debb3dd4",
   "metadata": {},
   "outputs": [],
   "source": []
  }
 ],
 "metadata": {
  "kernelspec": {
   "display_name": "Python 3",
   "language": "python",
   "name": "python3"
  },
  "language_info": {
   "codemirror_mode": {
    "name": "ipython",
    "version": 3
   },
   "file_extension": ".py",
   "mimetype": "text/x-python",
   "name": "python",
   "nbconvert_exporter": "python",
   "pygments_lexer": "ipython3",
   "version": "3.8.8"
  }
 },
 "nbformat": 4,
 "nbformat_minor": 5
}
