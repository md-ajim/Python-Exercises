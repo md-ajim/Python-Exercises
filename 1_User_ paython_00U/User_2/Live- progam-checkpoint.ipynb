{
 "cells": [
  {
   "cell_type": "code",
   "execution_count": 11,
   "id": "2c6a5c1f",
   "metadata": {},
   "outputs": [
    {
     "name": "stdout",
     "output_type": "stream",
     "text": [
      "4 2\n"
     ]
    },
    {
     "ename": "AttributeError",
     "evalue": "module 'math' has no attribute 'cot'",
     "output_type": "error",
     "traceback": [
      "\u001b[1;31m---------------------------------------------------------------------------\u001b[0m",
      "\u001b[1;31mAttributeError\u001b[0m                            Traceback (most recent call last)",
      "\u001b[1;32m<ipython-input-11-512a39f88363>\u001b[0m in \u001b[0;36m<module>\u001b[1;34m\u001b[0m\n\u001b[0;32m     29\u001b[0m \u001b[1;32melif\u001b[0m\u001b[1;33m(\u001b[0m\u001b[0mx\u001b[0m\u001b[1;33m==\u001b[0m\u001b[1;36m4\u001b[0m\u001b[1;33m)\u001b[0m\u001b[1;33m:\u001b[0m\u001b[1;33m\u001b[0m\u001b[1;33m\u001b[0m\u001b[0m\n\u001b[0;32m     30\u001b[0m \u001b[1;33m\u001b[0m\u001b[0m\n\u001b[1;32m---> 31\u001b[1;33m     \u001b[0mprint\u001b[0m\u001b[1;33m(\u001b[0m\u001b[0mmath\u001b[0m\u001b[1;33m.\u001b[0m\u001b[0mcot\u001b[0m\u001b[1;33m(\u001b[0m\u001b[0my\u001b[0m\u001b[1;33m)\u001b[0m\u001b[1;33m)\u001b[0m\u001b[1;33m\u001b[0m\u001b[1;33m\u001b[0m\u001b[0m\n\u001b[0m\u001b[0;32m     32\u001b[0m \u001b[1;33m\u001b[0m\u001b[0m\n\u001b[0;32m     33\u001b[0m \u001b[1;32melif\u001b[0m\u001b[1;33m(\u001b[0m\u001b[0mx\u001b[0m\u001b[1;33m==\u001b[0m\u001b[1;36m5\u001b[0m\u001b[1;33m)\u001b[0m\u001b[1;33m:\u001b[0m\u001b[1;33m\u001b[0m\u001b[1;33m\u001b[0m\u001b[0m\n",
      "\u001b[1;31mAttributeError\u001b[0m: module 'math' has no attribute 'cot'"
     ]
    }
   ],
   "source": [
    "textExam = 'sin, cos , tan ,cot , sec ,cosec'\n",
    "\n",
    "\n",
    "import math\n",
    "\n",
    "x , y = input().split()\n",
    "\n",
    "x = int(x)\n",
    "y = float(y)\n",
    "\n",
    "y = (y * math.pi)/180\n",
    "\n",
    "if(x==1):\n",
    "    \n",
    "    print(y)\n",
    "\n",
    "elif(x==2):\n",
    "    \n",
    "    print(math.sin(y)) # input 30 redan sin-oputput\n",
    "    \n",
    "elif(x==3):\n",
    "    \n",
    "    print(math.cos(y)) # input 0, output -1\n",
    "    \n",
    "elif(x==4):\n",
    "    \n",
    "    print(math.tan(y))# input 45 , output 0.99999999999999\n",
    "    \n",
    "elif(x==5):\n",
    "    \n",
    "      print(1 / math.tan(y))\n",
    "    \n",
    "elif(x==6):\n",
    "    \n",
    "    print(1 / math.cos(y))\n",
    "    \n",
    "elif(x==7):\n",
    "    \n",
    "       print(1/math.sin(y))\n",
    "        \n",
    "        \n",
    "else:print('Not inveld number')"
   ]
  },
  {
   "cell_type": "code",
   "execution_count": null,
   "id": "7b14fc42",
   "metadata": {},
   "outputs": [],
   "source": []
  }
 ],
 "metadata": {
  "kernelspec": {
   "display_name": "Python 3",
   "language": "python",
   "name": "python3"
  },
  "language_info": {
   "codemirror_mode": {
    "name": "ipython",
    "version": 3
   },
   "file_extension": ".py",
   "mimetype": "text/x-python",
   "name": "python",
   "nbconvert_exporter": "python",
   "pygments_lexer": "ipython3",
   "version": "3.8.10"
  }
 },
 "nbformat": 4,
 "nbformat_minor": 5
}
