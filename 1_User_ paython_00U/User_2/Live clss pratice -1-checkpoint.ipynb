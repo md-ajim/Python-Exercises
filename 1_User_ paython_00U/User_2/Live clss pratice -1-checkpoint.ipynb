{
 "cells": [
  {
   "cell_type": "code",
   "execution_count": null,
   "id": "5bb880ed",
   "metadata": {},
   "outputs": [],
   "source": [
    "y =  int(input('Enter a year'))\n",
    "\n",
    "if  y%100==0:\n",
    "    \n",
    "    y = y/100\n",
    "    if y%4==0:\n",
    "        print('leap year')\n",
    "        \n",
    "    else:\n",
    "        \n",
    "        print('Not leap year')\n",
    "        \n",
    "else:\n",
    "    \n",
    "    if y%4==0:\n",
    "        print('lep year')\n",
    "    else:\n",
    "            print('not leap year')\n",
    "     \n",
    "    \n",
    "    "
   ]
  },
  {
   "cell_type": "code",
   "execution_count": 11,
   "id": "afc60f3d",
   "metadata": {},
   "outputs": [
    {
     "name": "stdout",
     "output_type": "stream",
     "text": [
      "21\n"
     ]
    }
   ],
   "source": [
    "x = 2021\n",
    "\n",
    "y = x%100\n",
    "\n",
    "print(y)\n"
   ]
  },
  {
   "cell_type": "code",
   "execution_count": null,
   "id": "29714381",
   "metadata": {},
   "outputs": [],
   "source": [
    "\n",
    "x = int (input('enter a number'))\n",
    "\n",
    "\n",
    "y = x/ 4\n",
    "\n",
    "w = y % 4\n",
    "\n",
    "if w==0:\n",
    "    \n",
    "    print('lep year')\n",
    "    \n",
    "\n",
    "else:\n",
    "    \n",
    "    print('Not lepyear')\n",
    "     "
   ]
  },
  {
   "cell_type": "code",
   "execution_count": null,
   "id": "7abbcab1",
   "metadata": {},
   "outputs": [],
   "source": []
  },
  {
   "cell_type": "code",
   "execution_count": null,
   "id": "ec8ab97a",
   "metadata": {},
   "outputs": [],
   "source": [
    "x = int (input('enter a number'))\n",
    "\n",
    "\n",
    "y = x/ 4\n",
    "\n",
    "w = y % 4\n",
    "\n",
    "if w==0:\n",
    "    \n",
    "    print('lep year')\n",
    "    \n",
    "\n",
    "else:\n",
    "    \n",
    "    print('Not lepyear')\n",
    "     "
   ]
  },
  {
   "cell_type": "code",
   "execution_count": null,
   "id": "04be3ea0",
   "metadata": {},
   "outputs": [],
   "source": []
  }
 ],
 "metadata": {
  "kernelspec": {
   "display_name": "Python 3",
   "language": "python",
   "name": "python3"
  },
  "language_info": {
   "codemirror_mode": {
    "name": "ipython",
    "version": 3
   },
   "file_extension": ".py",
   "mimetype": "text/x-python",
   "name": "python",
   "nbconvert_exporter": "python",
   "pygments_lexer": "ipython3",
   "version": "3.8.10"
  }
 },
 "nbformat": 4,
 "nbformat_minor": 5
}
