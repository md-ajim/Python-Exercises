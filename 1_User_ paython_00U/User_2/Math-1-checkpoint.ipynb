{
 "cells": [
  {
   "cell_type": "code",
   "execution_count": 1,
   "id": "b0f44493",
   "metadata": {},
   "outputs": [
    {
     "data": {
      "text/plain": [
       "int"
      ]
     },
     "execution_count": 1,
     "metadata": {},
     "output_type": "execute_result"
    }
   ],
   "source": [
    "x = 5 \n",
    "\n",
    "type(x)"
   ]
  },
  {
   "cell_type": "code",
   "execution_count": 4,
   "id": "1b10fae8",
   "metadata": {},
   "outputs": [
    {
     "data": {
      "text/plain": [
       "float"
      ]
     },
     "execution_count": 4,
     "metadata": {},
     "output_type": "execute_result"
    }
   ],
   "source": [
    "x =5-.60111111;\n",
    "\n",
    "type(x)"
   ]
  },
  {
   "cell_type": "code",
   "execution_count": 5,
   "id": "efa9a421",
   "metadata": {},
   "outputs": [
    {
     "data": {
      "text/plain": [
       "str"
      ]
     },
     "execution_count": 5,
     "metadata": {},
     "output_type": "execute_result"
    }
   ],
   "source": [
    "x = \"this is a stirng\"\n",
    "\n",
    "type(x)"
   ]
  },
  {
   "cell_type": "code",
   "execution_count": 6,
   "id": "9564fd4c",
   "metadata": {},
   "outputs": [
    {
     "data": {
      "text/plain": [
       "bool"
      ]
     },
     "execution_count": 6,
     "metadata": {},
     "output_type": "execute_result"
    }
   ],
   "source": [
    "x = True\n",
    "\n",
    "type(x)"
   ]
  },
  {
   "cell_type": "code",
   "execution_count": 7,
   "id": "21434cc0",
   "metadata": {},
   "outputs": [
    {
     "name": "stdout",
     "output_type": "stream",
     "text": [
      "This is a program\n"
     ]
    }
   ],
   "source": [
    "print(\"This is a program\") # i wrote this time to emlnd my selfe"
   ]
  },
  {
   "cell_type": "code",
   "execution_count": 8,
   "id": "56d02bf0",
   "metadata": {},
   "outputs": [
    {
     "name": "stdout",
     "output_type": "stream",
     "text": [
      "this is a program\n"
     ]
    },
    {
     "ename": "NameError",
     "evalue": "name 'sddf' is not defined",
     "output_type": "error",
     "traceback": [
      "\u001b[1;31m---------------------------------------------------------------------------\u001b[0m",
      "\u001b[1;31mNameError\u001b[0m                                 Traceback (most recent call last)",
      "\u001b[1;32m<ipython-input-8-29188beed53b>\u001b[0m in \u001b[0;36m<module>\u001b[1;34m\u001b[0m\n\u001b[0;32m      3\u001b[0m \u001b[1;33m\u001b[0m\u001b[0m\n\u001b[0;32m      4\u001b[0m \u001b[1;34m\"\"\"\"\"\"\u001b[0m\u001b[1;33m\u001b[0m\u001b[1;33m\u001b[0m\u001b[0m\n\u001b[1;32m----> 5\u001b[1;33m \u001b[0msddf\u001b[0m\u001b[1;33m\u001b[0m\u001b[1;33m\u001b[0m\u001b[0m\n\u001b[0m\u001b[0;32m      6\u001b[0m \u001b[1;34m\"\"\"\"\"\"\u001b[0m\u001b[1;33m\u001b[0m\u001b[1;33m\u001b[0m\u001b[0m\n",
      "\u001b[1;31mNameError\u001b[0m: name 'sddf' is not defined"
     ]
    }
   ],
   "source": [
    "print(\"this is a program\")\n",
    "\n",
    "\n",
    "\"\"\"\"\"\"\n",
    "sddf\n",
    "\"\"\"\"\"\""
   ]
  },
  {
   "cell_type": "code",
   "execution_count": 9,
   "id": "10c0d598",
   "metadata": {},
   "outputs": [
    {
     "name": "stdout",
     "output_type": "stream",
     "text": [
      "this is multipal commnet\n"
     ]
    },
    {
     "data": {
      "text/plain": [
       "' \\nthis is a multipal commnet\\n\\n'"
      ]
     },
     "execution_count": 9,
     "metadata": {},
     "output_type": "execute_result"
    }
   ],
   "source": [
    "print(\"this is multipal commnet\")\n",
    "\n",
    "\"\"\" \n",
    "this is a multipal commnet\n",
    "\n",
    "\"\"\""
   ]
  },
  {
   "cell_type": "code",
   "execution_count": 10,
   "id": "210e8be3",
   "metadata": {},
   "outputs": [
    {
     "name": "stdout",
     "output_type": "stream",
     "text": [
      "this is a multipul commnet\n"
     ]
    },
    {
     "data": {
      "text/plain": [
       "'\\\\ this is a multipul commnet       \\\\'"
      ]
     },
     "execution_count": 10,
     "metadata": {},
     "output_type": "execute_result"
    }
   ],
   "source": [
    "print(\"this is a multipul commnet\")\n",
    "\n",
    "'\\ this is a multipul commnet       \\\\'"
   ]
  },
  {
   "cell_type": "code",
   "execution_count": 11,
   "id": "6ed2e8ca",
   "metadata": {},
   "outputs": [
    {
     "name": "stdout",
     "output_type": "stream",
     "text": [
      "this is a jog koro\n"
     ]
    }
   ],
   "source": [
    "\n",
    "x = 10;\n",
    "\n",
    "j = 20;\n",
    "\n",
    "c = x + j;\n",
    "\n",
    "print(\"this is a jog koro\")\n"
   ]
  },
  {
   "cell_type": "code",
   "execution_count": 12,
   "id": "7b0d47d6",
   "metadata": {},
   "outputs": [
    {
     "name": "stdout",
     "output_type": "stream",
     "text": [
      "this is jog Koro 30\n"
     ]
    }
   ],
   "source": [
    "print(\"this is jog Koro\", c)"
   ]
  },
  {
   "cell_type": "code",
   "execution_count": 13,
   "id": "efe0fc67",
   "metadata": {},
   "outputs": [
    {
     "name": "stdout",
     "output_type": "stream",
     "text": [
      "200\n"
     ]
    }
   ],
   "source": [
    "x = 10;\n",
    "\n",
    "y = 20;\n",
    "\n",
    "s = x * y;\n",
    "\n",
    "print(s)"
   ]
  },
  {
   "cell_type": "code",
   "execution_count": 14,
   "id": "eba1f290",
   "metadata": {},
   "outputs": [
    {
     "name": "stdout",
     "output_type": "stream",
     "text": [
      "0.5\n"
     ]
    }
   ],
   "source": [
    "x = 10;\n",
    "\n",
    "y = 20;\n",
    "\n",
    "s = x / y;\n",
    "\n",
    "print(s)"
   ]
  },
  {
   "cell_type": "code",
   "execution_count": 18,
   "id": "8bc81196",
   "metadata": {},
   "outputs": [
    {
     "name": "stdout",
     "output_type": "stream",
     "text": [
      "1000\n"
     ]
    }
   ],
   "source": [
    "x = 10\n",
    "s = x**3\n",
    "\n",
    "\n",
    "# ami jodi 2 deya power dai thole amar rejult 100 asbe se punno sonkhay neya jabe\n",
    "\n",
    "print(s)"
   ]
  },
  {
   "cell_type": "code",
   "execution_count": 27,
   "id": "21f9f393",
   "metadata": {},
   "outputs": [
    {
     "name": "stdout",
     "output_type": "stream",
     "text": [
      "100\n"
     ]
    }
   ],
   "source": [
    " x  =10;\n",
    "    \n",
    "    \n",
    "s = x **2;\n",
    "\n",
    "\n",
    "print(s)"
   ]
  },
  {
   "cell_type": "code",
   "execution_count": 22,
   "id": "b08ad0a3",
   "metadata": {},
   "outputs": [
    {
     "name": "stdout",
     "output_type": "stream",
     "text": [
      "100\n"
     ]
    }
   ],
   "source": [
    " x  =10;\n",
    "    \n",
    "    \n",
    "s = x ** 2;\n",
    "\n",
    "\n",
    "print(s)"
   ]
  },
  {
   "cell_type": "code",
   "execution_count": 45,
   "id": "340ded64",
   "metadata": {},
   "outputs": [
    {
     "name": "stdout",
     "output_type": "stream",
     "text": [
      "32\n"
     ]
    }
   ],
   "source": [
    " x  =2;\n",
    "    \n",
    "    \n",
    "s = x **5;\n",
    "\n",
    "\n",
    "print(s) # akhane pawar mane tar punno sonkaty neya jabe  ami koto sonka deya pawar decce tar punno sonkay se neyya jabne\n"
   ]
  },
  {
   "cell_type": "code",
   "execution_count": 47,
   "id": "f62bfd94",
   "metadata": {},
   "outputs": [
    {
     "name": "stdout",
     "output_type": "stream",
     "text": [
      "3.3333333333333335\n"
     ]
    }
   ],
   "source": [
    " x  =10;\n",
    "    \n",
    " c = 3\n",
    "s = x / c\n",
    "\n",
    "\n",
    "print(s)"
   ]
  },
  {
   "cell_type": "code",
   "execution_count": 48,
   "id": "edcddb9a",
   "metadata": {},
   "outputs": [
    {
     "name": "stdout",
     "output_type": "stream",
     "text": [
      "1\n"
     ]
    }
   ],
   "source": [
    "# ami jodi bag bol ta ber korta chi thole amke jayta korta hobe\n",
    "\n",
    "\n",
    "x = 22;\n",
    "\n",
    "c = 6;\n",
    "\n",
    "\n",
    "j = c //  c;\n",
    "\n",
    "print(j)\n",
    "\n",
    "\n",
    "# tho ami dabol slese deya bag ses ta ber korlam"
   ]
  },
  {
   "cell_type": "code",
   "execution_count": 49,
   "id": "e8d26942",
   "metadata": {},
   "outputs": [
    {
     "name": "stdout",
     "output_type": "stream",
     "text": [
      "1\n"
     ]
    }
   ],
   "source": [
    "#  ami jodi vag ses dekta chi thole amke jayta korta hobe tar exampol\n",
    "\n",
    "\n",
    "x = 17;\n",
    "\n",
    "c = 4;\n",
    "\n",
    "rejult = x % c;\n",
    "\n",
    "print( rejult) // % deya ami bag ses ta ber korta prlam"
   ]
  },
  {
   "cell_type": "code",
   "execution_count": 50,
   "id": "54436b62",
   "metadata": {},
   "outputs": [
    {
     "name": "stdout",
     "output_type": "stream",
     "text": [
      "4\n"
     ]
    }
   ],
   "source": [
    "print(100%8)"
   ]
  },
  {
   "cell_type": "code",
   "execution_count": 52,
   "id": "01913548",
   "metadata": {},
   "outputs": [
    {
     "name": "stdout",
     "output_type": "stream",
     "text": [
      "12.5\n"
     ]
    }
   ],
   "source": [
    "print(100/8)"
   ]
  },
  {
   "cell_type": "code",
   "execution_count": null,
   "id": "a064fccd",
   "metadata": {},
   "outputs": [],
   "source": []
  },
  {
   "cell_type": "code",
   "execution_count": null,
   "id": "22d97148",
   "metadata": {},
   "outputs": [],
   "source": []
  }
 ],
 "metadata": {
  "kernelspec": {
   "display_name": "Python 3",
   "language": "python",
   "name": "python3"
  },
  "language_info": {
   "codemirror_mode": {
    "name": "ipython",
    "version": 3
   },
   "file_extension": ".py",
   "mimetype": "text/x-python",
   "name": "python",
   "nbconvert_exporter": "python",
   "pygments_lexer": "ipython3",
   "version": "3.8.10"
  }
 },
 "nbformat": 4,
 "nbformat_minor": 5
}
