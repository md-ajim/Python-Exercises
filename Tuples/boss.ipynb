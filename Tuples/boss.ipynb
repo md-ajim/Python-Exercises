{
 "cells": [
  {
   "cell_type": "code",
   "execution_count": null,
   "metadata": {},
   "outputs": [
    {
     "name": "stdout",
     "output_type": "stream",
     "text": [
      "Reshad,Sakil,RomjaReshad,Sakil,Romja\n"
     ]
    }
   ],
   "source": [
    "TupleMultipal = 'Reshad,Sakil,Romja'\n",
    "print(TupleMultipal*2)"
   ]
  },
  {
   "cell_type": "code",
   "execution_count": null,
   "metadata": {},
   "outputs": [
    {
     "name": "stdout",
     "output_type": "stream",
     "text": [
      "('1', '2', ' 3', '4', '5', 'apple', 'banana', 'mango', 'pen', 'goyaba', 'ciciga', 'Kola')\n",
      "(' 3', 'mango')\n",
      "('4', 'mango')\n",
      "('1', '2', ' 3', '4', '5', 'apple', 'banana', 'mango', 'pen', 'goyaba', 'ciciga', 'Kola')\n"
     ]
    }
   ],
   "source": [
    "\n",
    "#add tapol tapol ami jodi kono element add korta chi\n",
    "# thole list convert korta hobe \n",
    "\n",
    "my_tuple = ('apple','banana','mango','pen','goyaba','ciciga')\n",
    "\n",
    "my_tuple = list(my_tuple) #convert tupol to list\n",
    "# my_tuple.remove('mango') #removed tupol, \n",
    "\n",
    "my_tuple.append('Kola') # add list       \n",
    "my_tuple = tuple(my_tuple) # convert list to tupol\n",
    "x= my_tuple.index('goyaba') # tapol indexing \n",
    "\n",
    "tapol = ('1', '2', ' 3', '4','5')\n",
    "\n",
    "ConcatTuple = tapol+my_tuple\n",
    "                             \n",
    "print(ConcatTuple)\n",
    "type(my_tuple)\n",
    "\n",
    "print(ConcatTuple [2 : : 5])\n",
    "print(ConcatTuple [ 3:8:4 ])\n",
    "\n",
    "\n"
   ]
  },
  {
   "cell_type": "code",
   "execution_count": null,
   "metadata": {},
   "outputs": [],
   "source": [
    "print('hello')"
   ]
  },
  {
   "cell_type": "code",
   "execution_count": 4,
   "metadata": {},
   "outputs": [
    {
     "name": "stdout",
     "output_type": "stream",
     "text": [
      "6\n",
      "ciciga\n"
     ]
    },
    {
     "data": {
      "text/plain": [
       "str"
      ]
     },
     "execution_count": 4,
     "metadata": {},
     "output_type": "execute_result"
    }
   ],
   "source": [
    "my_tapol = ('apple','banana','mango','pen','goyaba','ciciga')\n",
    "\n",
    "Len = len(my_tapol)\n",
    "print(Len)\n",
    "my_tapol= my_tapol[5]\n",
    "\n",
    "print(my_tapol)\n",
    "type(my_tapol) # ami jodi dekta chi tapol a koyta eliment ace exampol\n",
    "\n",
    "\n",
    "\n",
    "\n",
    "\n"
   ]
  }
 ],
 "metadata": {
  "interpreter": {
   "hash": "6070b739bda494cd05c55c4dd1fefe4bc7f51a70f6d608882e1910222e9cc2a3"
  },
  "kernelspec": {
   "display_name": "Python 3.8.8 64-bit ('base': conda)",
   "name": "python3"
  },
  "language_info": {
   "codemirror_mode": {
    "name": "ipython",
    "version": 3
   },
   "file_extension": ".py",
   "mimetype": "text/x-python",
   "name": "python",
   "nbconvert_exporter": "python",
   "pygments_lexer": "ipython3",
   "version": "3.8.8"
  },
  "orig_nbformat": 4
 },
 "nbformat": 4,
 "nbformat_minor": 2
}
