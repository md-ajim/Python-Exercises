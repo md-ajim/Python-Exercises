{
 "cells": [
  {
   "cell_type": "code",
   "execution_count": null,
   "source": [
    "def myfunction():\r\n",
    "    print('This is my function')\r\n",
    "    \r\n",
    "    \r\n"
   ],
   "outputs": [],
   "metadata": {}
  },
  {
   "cell_type": "code",
   "execution_count": null,
   "source": [
    "def secure(i):\r\n",
    "    return i **2\r\n",
    "secure(2)"
   ],
   "outputs": [],
   "metadata": {}
  },
  {
   "cell_type": "code",
   "execution_count": null,
   "source": [
    "\r\n",
    "def secure(i,j,L):\r\n",
    "    return i **2 , j + 5 , L %2 ,type(i)\r\n",
    "secure(2,4,6)"
   ],
   "outputs": [],
   "metadata": {}
  },
  {
   "cell_type": "code",
   "execution_count": null,
   "source": [
    "# secure fuction deya function ar jay kono vlaou retan korano jabe\r\n",
    "\r\n",
    "def secure (x):\r\n",
    "    \r\n",
    "    return x * 10\r\n",
    "\r\n",
    "secure(' 2 ')"
   ],
   "outputs": [],
   "metadata": {}
  },
  {
   "cell_type": "code",
   "execution_count": null,
   "source": [
    "def secure (x):\r\n",
    "    \r\n",
    "    return x * 2\r\n",
    "\r\n",
    "print(secure([1,2,3,4,5,6,7,8,9]), end='')"
   ],
   "outputs": [],
   "metadata": {}
  },
  {
   "cell_type": "code",
   "execution_count": null,
   "source": [
    "\r\n",
    "\r\n",
    "\r\n",
    "def mult(x,y):\r\n",
    "    return x*y\r\n",
    "\r\n",
    "print(mult(10,20))"
   ],
   "outputs": [],
   "metadata": {}
  },
  {
   "cell_type": "code",
   "execution_count": null,
   "source": [
    "def mult(str,y):\r\n",
    "    return str*y # str ka gun korca  exampol str * 2\r\n",
    " \r\n",
    "print(mult('2',20))"
   ],
   "outputs": [],
   "metadata": {}
  },
  {
   "cell_type": "code",
   "execution_count": null,
   "source": [
    "\r\n",
    "\r\n",
    "def isPrime(x):\r\n",
    "    for I in range(2,x):\r\n",
    "        if x%I==0:\r\n",
    "            return False\r\n",
    "        return True\r\n",
    "    \r\n",
    "isPrime(9)    \r\n",
    "        \r\n"
   ],
   "outputs": [],
   "metadata": {}
  },
  {
   "cell_type": "code",
   "execution_count": null,
   "source": [
    "\r\n",
    "\r\n",
    "\r\n",
    "def IsProme(P):\r\n",
    "    for x in range(2,P):\r\n",
    "        if x%P==0:\r\n",
    "            return False\r\n",
    "        return True\r\n",
    "    \r\n",
    "    \r\n",
    "IsProme(9)\r\n",
    "            \r\n",
    "            "
   ],
   "outputs": [],
   "metadata": {}
  },
  {
   "cell_type": "code",
   "execution_count": null,
   "source": [
    "x = int(input('Enter a number'))\r\n",
    "\r\n",
    "for i in range(2,x):\r\n",
    "    \r\n",
    "    if x%i==0:\r\n",
    "        \r\n",
    "        print('Not Prime',x)\r\n",
    "        break\r\n",
    "    \r\n",
    "    elif x%i==1:\r\n",
    "        \r\n",
    "        print('Prime',x)\r\n",
    "        break   \r\n",
    "\r\n"
   ],
   "outputs": [],
   "metadata": {}
  },
  {
   "cell_type": "code",
   "execution_count": null,
   "source": [
    "\r\n",
    "\r\n",
    "x  = int(input('Ente a Prime Number'))\r\n",
    "\r\n",
    "if x>1:\r\n",
    "    Of = False\r\n",
    "    for i in range(2,x):\r\n",
    "        if x%i==0:\r\n",
    "            Of = True\r\n",
    "            \r\n",
    "    if Of == True:\r\n",
    "        print('The number is not prime')\r\n",
    "        \r\n",
    "    else:\r\n",
    "        print('The number is prime')           \r\n",
    "            \r\n"
   ],
   "outputs": [],
   "metadata": {}
  },
  {
   "cell_type": "code",
   "execution_count": null,
   "source": [
    "\r\n",
    "x = input ('')"
   ],
   "outputs": [],
   "metadata": {}
  },
  {
   "cell_type": "code",
   "execution_count": 8,
   "source": [
    "1\r\n",
    "\r\n",
    "def Name(x):\r\n",
    "    for i in range(2,x):\r\n",
    "       if x%i==0:\r\n",
    "            return False\r\n",
    "       else:\r\n",
    "           return True\r\n",
    "       \r\n",
    "Name(7)       \r\n",
    "        \r\n",
    "        \r\n",
    "   \r\n",
    "  \r\n",
    "  \r\n",
    "        \r\n",
    "        \r\n",
    "        \r\n",
    "    \r\n"
   ],
   "outputs": [
    {
     "output_type": "execute_result",
     "data": {
      "text/plain": [
       "True"
      ]
     },
     "metadata": {},
     "execution_count": 8
    }
   ],
   "metadata": {}
  },
  {
   "cell_type": "code",
   "execution_count": 6,
   "source": [
    "Name(9)"
   ],
   "outputs": [
    {
     "output_type": "execute_result",
     "data": {
      "text/plain": [
       "True"
      ]
     },
     "metadata": {},
     "execution_count": 6
    }
   ],
   "metadata": {}
  },
  {
   "cell_type": "code",
   "execution_count": null,
   "source": [],
   "outputs": [],
   "metadata": {}
  }
 ],
 "metadata": {
  "orig_nbformat": 4,
  "language_info": {
   "name": "python",
   "version": "3.8.8",
   "mimetype": "text/x-python",
   "codemirror_mode": {
    "name": "ipython",
    "version": 3
   },
   "pygments_lexer": "ipython3",
   "nbconvert_exporter": "python",
   "file_extension": ".py"
  },
  "kernelspec": {
   "name": "python3",
   "display_name": "Python 3.8.8 64-bit ('base': conda)"
  },
  "interpreter": {
   "hash": "6070b739bda494cd05c55c4dd1fefe4bc7f51a70f6d608882e1910222e9cc2a3"
  }
 },
 "nbformat": 4,
 "nbformat_minor": 2
}