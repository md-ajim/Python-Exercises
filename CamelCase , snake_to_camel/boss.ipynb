{
 "cells": [
  {
   "cell_type": "code",
   "execution_count": 2,
   "metadata": {
    "ExecuteTime": {
     "end_time": "2024-03-04T02:19:57.070475700Z",
     "start_time": "2024-03-04T02:19:57.048455Z"
    }
   },
   "outputs": [
    {
     "name": "stdout",
     "output_type": "stream",
     "text": [
      "I LOVE MY COUNTRY\n"
     ]
    }
   ],
   "source": [
    "def snake_to_camel(word):\n",
    "\n",
    "        return ''.join(x.upper()for x in word.split('_'))\n",
    "\n",
    "print(snake_to_camel('I love my country'))\n",
    "\n",
    "\n",
    "\n"
   ]
  },
  {
   "cell_type": "code",
   "execution_count": 13,
   "metadata": {
    "ExecuteTime": {
     "end_time": "2024-03-04T02:28:14.476323400Z",
     "start_time": "2024-03-04T02:28:14.248190200Z"
    },
    "collapsed": false
   },
   "outputs": [
    {
     "name": "stdout",
     "output_type": "stream",
     "text": [
      "2\n",
      "0\n"
     ]
    }
   ],
   "source": [
    "\n",
    "\n",
    "x = 20\n",
    "\n",
    "x = str(x)\n",
    "\n",
    "\n",
    "for y in x:\n",
    "        print(y)\n",
    "\n",
    "\n",
    "\n"
   ]
  },
  {
   "cell_type": "code",
   "execution_count": 37,
   "metadata": {
    "ExecuteTime": {
     "end_time": "2024-03-04T02:52:11.015256Z",
     "start_time": "2024-03-04T02:52:10.977258300Z"
    },
    "collapsed": false
   },
   "outputs": [
    {
     "name": "stdout",
     "output_type": "stream",
     "text": [
      "i love you speak english\n"
     ]
    }
   ],
   "source": [
    "def function(add):\n",
    "        print(add)\n",
    "        \n",
    "        \n",
    "        \n",
    "        \n",
    "        \n",
    "\n",
    "\n",
    "\n",
    "\n",
    "def spl(word):\n",
    "        return  ''.join(x.lower() for x in word.split('-'))\n",
    "\n",
    "\n",
    "\n",
    "\n",
    "f = spl('I love you speak english')\n",
    "\n",
    "for y in f:\n",
    "        if y == ' ':\n",
    "                break\n",
    "        function(add=f)\n",
    "        \n",
    "        \n",
    "       \n",
    "                \n",
    "        \n",
    "        \n",
    "\n",
    "        \n",
    "\n"
   ]
  },
  {
   "cell_type": "code",
   "execution_count": null,
   "metadata": {
    "collapsed": false
   },
   "outputs": [],
   "source": []
  }
 ],
 "metadata": {
  "interpreter": {
   "hash": "6070b739bda494cd05c55c4dd1fefe4bc7f51a70f6d608882e1910222e9cc2a3"
  },
  "kernelspec": {
   "display_name": "Python 3 (ipykernel)",
   "language": "python",
   "name": "python3"
  },
  "language_info": {
   "codemirror_mode": {
    "name": "ipython",
    "version": 3
   },
   "file_extension": ".py",
   "mimetype": "text/x-python",
   "name": "python",
   "nbconvert_exporter": "python",
   "pygments_lexer": "ipython3",
   "version": "3.8.8"
  },
  "orig_nbformat": 4
 },
 "nbformat": 4,
 "nbformat_minor": 2
}
