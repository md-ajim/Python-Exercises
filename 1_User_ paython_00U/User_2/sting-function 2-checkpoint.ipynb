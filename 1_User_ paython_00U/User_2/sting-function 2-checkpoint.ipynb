{
 "cells": [
  {
   "cell_type": "code",
   "execution_count": 10,
   "id": "d3113a68",
   "metadata": {},
   "outputs": [
    {
     "name": "stdout",
     "output_type": "stream",
     "text": [
      "4\n"
     ]
    }
   ],
   "source": [
    "string = 'pratice is string function'\n",
    "\n",
    "Count = string.count(' ') # akta word ar chr koto number a ace seta ber kore dan\n",
    "\n",
    "print(Count + 1)"
   ]
  },
  {
   "cell_type": "code",
   "execution_count": 11,
   "id": "61f83a5b",
   "metadata": {},
   "outputs": [
    {
     "name": "stdout",
     "output_type": "stream",
     "text": [
      "7\n"
     ]
    }
   ],
   "source": [
    "string = 'pratice is string function'\n",
    "\n",
    "Count = string.find(' ') \n",
    "print(Count)"
   ]
  },
  {
   "cell_type": "code",
   "execution_count": 18,
   "id": "6c8f708f",
   "metadata": {},
   "outputs": [
    {
     "name": "stdout",
     "output_type": "stream",
     "text": [
      "19\n",
      "-1\n",
      "Doesn't contain substring\n"
     ]
    }
   ],
   "source": [
    "quote = \"Contains substring hadding\"\n",
    "\n",
    "# first occurance of 'let it'(case sensitive)\n",
    "result = quote.find('hadding')\n",
    "print(result)\n",
    "\n",
    "# find returns -1 if substring not found\n",
    "result = quote.find('small')\n",
    "print( result)\n",
    "\n",
    "# How to use find()\n",
    "if (quote.find('hadding,') != -1):\n",
    "    print(\"Contains substring hadding\")\n",
    "else:\n",
    "    print(\"Doesn't contain substring\")\n",
    "    \n",
    "    \n",
    "    \n",
    "    \n",
    "    \n",
    "    \n",
    "    \n"
   ]
  },
  {
   "cell_type": "code",
   "execution_count": 28,
   "id": "7bd05448",
   "metadata": {},
   "outputs": [
    {
     "name": "stdout",
     "output_type": "stream",
     "text": [
      "Substring 'let it': 21\n",
      "Substring 'small ': -1\n",
      "Contains substring 'be,'\n"
     ]
    }
   ],
   "source": [
    "\n",
    "quote = 'Let be, bes,   it ,  let it , let it '\n",
    "\n",
    "# first occurance of 'let it'(case sensitive)\n",
    "result = quote.find('let it')\n",
    "print(\"Substring 'let it':\", result)\n",
    "\n",
    "# find returns -1 if substring not found\n",
    "result = quote.find('small')\n",
    "print(\"Substring 'small ':\", result)\n",
    "\n",
    "# How to use find()\n",
    "if (quote.find('be,', 'it') != -3 ):\n",
    "    print(\"Contains substring 'be,'\")\n",
    "else:\n",
    "    print(\"Doesn't contain substring\")"
   ]
  },
  {
   "cell_type": "code",
   "execution_count": null,
   "id": "7ac96e1c",
   "metadata": {},
   "outputs": [],
   "source": []
  },
  {
   "cell_type": "code",
   "execution_count": null,
   "id": "91f6d29a",
   "metadata": {},
   "outputs": [],
   "source": []
  }
 ],
 "metadata": {
  "kernelspec": {
   "display_name": "Python 3",
   "language": "python",
   "name": "python3"
  },
  "language_info": {
   "codemirror_mode": {
    "name": "ipython",
    "version": 3
   },
   "file_extension": ".py",
   "mimetype": "text/x-python",
   "name": "python",
   "nbconvert_exporter": "python",
   "pygments_lexer": "ipython3",
   "version": "3.8.10"
  }
 },
 "nbformat": 4,
 "nbformat_minor": 5
}
