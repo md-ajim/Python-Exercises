{
 "cells": [
  {
   "cell_type": "code",
   "execution_count": 12,
   "metadata": {},
   "outputs": [],
   "source": [
    "\n",
    "\n",
    "\n",
    "# def add(mylist):\n",
    "#     s = 0\n",
    "#     for JogList in mylist:\n",
    "#         s = s+JogList\n",
    "#     return s\n",
    "# def params(F):\n",
    "#     appendList=[]\n",
    "#     for Number in range(1,F):\n",
    "#         if F%Number==0:\n",
    "#             appendList.append(Number)\n",
    "#     sum= add(appendList)\n",
    "#     if sum==F:\n",
    "#         return True\n",
    "#     else:\n",
    "#         return  False\n",
    "        \n",
    "# for i in range(1,10000):\n",
    "    \n",
    "#     if params(i)==True:\n",
    "        \n",
    "#         print(i)      \n",
    "      \n",
    " "
   ]
  },
  {
   "cell_type": "code",
   "execution_count": 13,
   "metadata": {},
   "outputs": [
    {
     "name": "stdout",
     "output_type": "stream",
     "text": [
      "6\n",
      "28\n",
      "496\n"
     ]
    }
   ],
   "source": [
    "def add(mylist):\n",
    "    s =0\n",
    "    for number in mylist:\n",
    "        s = s + number\n",
    "    return s\n",
    "    \n",
    "def params(n):\n",
    "    factors =[]\n",
    "    for i in range(1,n):\n",
    "        if n%i==0:\n",
    "            factors.append(i)\n",
    "    sum = add(factors)\n",
    "    if sum==n: \n",
    "        return True\n",
    "    else:\n",
    "        return False\n",
    "    \n",
    "for i in range(1,1000):\n",
    "    \n",
    "    if params(i)==True: \n",
    "        print(i)    \n",
    "    \n",
    "    \n",
    "   "
   ]
  },
  {
   "cell_type": "code",
   "execution_count": 14,
   "metadata": {},
   "outputs": [],
   "source": [
    "\n",
    "\n",
    "def params(F):\n",
    "     for Number in range(1,F):\n",
    "          if F%Number==0:\n",
    "               appendlist=[]\n",
    "               appendlist.append(Number)     \n",
    "          sum = 0\n",
    "     for namber in appendlist:\n",
    "          sum = sum + namber\n",
    "          if sum==F:\n",
    "              return True\n",
    "          else:\n",
    "               return False\n",
    "               \n",
    "               \n",
    "               \n",
    "       \n",
    "               \n",
    "          \n",
    "          \n",
    "    \n",
    "    "
   ]
  },
  {
   "cell_type": "code",
   "execution_count": 22,
   "metadata": {},
   "outputs": [
    {
     "ename": "TypeError",
     "evalue": "unhashable type: 'list'",
     "output_type": "error",
     "traceback": [
      "\u001b[1;31m---------------------------------------------------------------------------\u001b[0m",
      "\u001b[1;31mTypeError\u001b[0m                                 Traceback (most recent call last)",
      "\u001b[1;32mg:\\Programming\\Python\\All Tutorial Python\\Function – Example-16\\boss.ipynb Cell 4\u001b[0m line \u001b[0;36m3\n\u001b[0;32m      <a href='vscode-notebook-cell:/g%3A/Programming/Python/All%20Tutorial%20Python/Function%20%E2%80%93%20Example-16/boss.ipynb#W3sZmlsZQ%3D%3D?line=0'>1</a>\u001b[0m params(\u001b[39m28\u001b[39m)\n\u001b[1;32m----> <a href='vscode-notebook-cell:/g%3A/Programming/Python/All%20Tutorial%20Python/Function%20%E2%80%93%20Example-16/boss.ipynb#W3sZmlsZQ%3D%3D?line=2'>3</a>\u001b[0m my_dict \u001b[39m=\u001b[39m {\n\u001b[0;32m      <a href='vscode-notebook-cell:/g%3A/Programming/Python/All%20Tutorial%20Python/Function%20%E2%80%93%20Example-16/boss.ipynb#W3sZmlsZQ%3D%3D?line=3'>4</a>\u001b[0m   \u001b[39m1\u001b[39m: \u001b[39m\"\u001b[39m\u001b[39mHello\u001b[39m\u001b[39m\"\u001b[39m, \n\u001b[0;32m      <a href='vscode-notebook-cell:/g%3A/Programming/Python/All%20Tutorial%20Python/Function%20%E2%80%93%20Example-16/boss.ipynb#W3sZmlsZQ%3D%3D?line=4'>5</a>\u001b[0m   [\u001b[39m1\u001b[39m, \u001b[39m2\u001b[39m]: \u001b[39m\"\u001b[39m\u001b[39mHello Hi\u001b[39m\u001b[39m\"\u001b[39m, \n\u001b[0;32m      <a href='vscode-notebook-cell:/g%3A/Programming/Python/All%20Tutorial%20Python/Function%20%E2%80%93%20Example-16/boss.ipynb#W3sZmlsZQ%3D%3D?line=5'>6</a>\u001b[0m }\n\u001b[0;32m      <a href='vscode-notebook-cell:/g%3A/Programming/Python/All%20Tutorial%20Python/Function%20%E2%80%93%20Example-16/boss.ipynb#W3sZmlsZQ%3D%3D?line=7'>8</a>\u001b[0m \u001b[39mprint\u001b[39m(my_dict)\n",
      "\u001b[1;31mTypeError\u001b[0m: unhashable type: 'list'"
     ]
    }
   ],
   "source": [
    "params(28)\n",
    "\n"
   ]
  },
  {
   "cell_type": "code",
   "execution_count": 32,
   "metadata": {},
   "outputs": [
    {
     "name": "stdout",
     "output_type": "stream",
     "text": [
      "<class 'str'>\n",
      "None\n"
     ]
    }
   ],
   "source": [
    "def test_function(obj):\n",
    "\n",
    "    return print(type(obj))\n",
    "\n",
    "\n",
    "\n",
    "\n",
    "\n",
    "\n",
    "\n",
    "product = {\n",
    "  \"brand\": \"Ford\",\n",
    "  \"model\": \"Mustang\",\n",
    "  \"year\": 1964\n",
    "}\n",
    "\n",
    "\n",
    "print(test_function(product['brand']))"
   ]
  },
  {
   "cell_type": "markdown",
   "metadata": {},
   "source": [
    "Create a Dictionary"
   ]
  },
  {
   "cell_type": "code",
   "execution_count": 41,
   "metadata": {},
   "outputs": [
    {
     "name": "stdout",
     "output_type": "stream",
     "text": [
      "Washington D.C.\n",
      "3\n",
      "15\n"
     ]
    }
   ],
   "source": [
    "\n",
    "country_capitals = {\n",
    "  \"United States\": \"Washington D.C.\", \n",
    "  \"Italy\": \"Naples\", \n",
    "  \"England\": \"London\"\n",
    "}\n",
    "\n",
    "# printing the dictionary\n",
    "print(country_capitals[\"United States\"])\n",
    "print(len(country_capitals))\n",
    "print(len(country_capitals[\"United States\"]))\n",
    "\n",
    "# adding a new key-value pair\n"
   ]
  },
  {
   "cell_type": "markdown",
   "metadata": {},
   "source": [
    "Python Dictionary Length"
   ]
  },
  {
   "cell_type": "markdown",
   "metadata": {},
   "source": [
    "print(country_capitals[\"United States\"])\n",
    "print(len(country_capitals))\n",
    "print(len(country_capitals[\"United States\"]))"
   ]
  },
  {
   "cell_type": "markdown",
   "metadata": {},
   "source": [
    "Add Items to a Dictionary"
   ]
  },
  {
   "cell_type": "code",
   "execution_count": 43,
   "metadata": {},
   "outputs": [
    {
     "name": "stdout",
     "output_type": "stream",
     "text": [
      "{'United States': 'Washington D.C.', 'Italy': 'Room', 'England': 'London'}\n"
     ]
    }
   ],
   "source": [
    "country_capitals['Italy']='Room'\n",
    "\n",
    "country_capitals['Italy']\n",
    "\n",
    "print(country_capitals)\n",
    "\n"
   ]
  },
  {
   "cell_type": "code",
   "execution_count": 46,
   "metadata": {},
   "outputs": [
    {
     "data": {
      "text/plain": [
       "{'United States': 'Washington D.C.',\n",
       " 'Italy': 'Room',\n",
       " 'England': 'London',\n",
       " 'Germany': 'Berlin',\n",
       " 'Bangladesh': 'Dhaka'}"
      ]
     },
     "execution_count": 46,
     "metadata": {},
     "output_type": "execute_result"
    }
   ],
   "source": [
    "country_capitals['Bangladesh'] = 'Dhaka'\n",
    "\n",
    "\n",
    "country_capitals"
   ]
  },
  {
   "cell_type": "markdown",
   "metadata": {},
   "source": [
    "Remove Dictionary Items"
   ]
  },
  {
   "cell_type": "code",
   "execution_count": 47,
   "metadata": {},
   "outputs": [
    {
     "name": "stdout",
     "output_type": "stream",
     "text": [
      "{'Italy': 'Room', 'England': 'London', 'Germany': 'Berlin', 'Bangladesh': 'Dhaka'}\n"
     ]
    }
   ],
   "source": [
    "# delete item having \"United States\" key\n",
    "del country_capitals[\"United States\"]\n",
    "\n",
    "\n",
    "print(country_capitals)\n"
   ]
  },
  {
   "cell_type": "markdown",
   "metadata": {},
   "source": [
    "Python Dictionary get()"
   ]
  },
  {
   "cell_type": "code",
   "execution_count": 49,
   "metadata": {},
   "outputs": [
    {
     "name": "stdout",
     "output_type": "stream",
     "text": [
      "{}\n"
     ]
    }
   ],
   "source": [
    "country_capitals.clear()\n",
    "\n",
    "print(country_capitals)\n"
   ]
  },
  {
   "cell_type": "code",
   "execution_count": 51,
   "metadata": {},
   "outputs": [
    {
     "name": "stdout",
     "output_type": "stream",
     "text": [
      "67\n"
     ]
    }
   ],
   "source": [
    "scores = {\n",
    "    'Physics': 67, \n",
    "    'Maths': 87,\n",
    "    'History': 75\n",
    "}\n",
    "\n",
    "result = scores.get('Physics')\n",
    "\n",
    "\n",
    "print(result)    # 67\n"
   ]
  },
  {
   "cell_type": "markdown",
   "metadata": {},
   "source": [
    "Return Value from get()"
   ]
  },
  {
   "cell_type": "code",
   "execution_count": 56,
   "metadata": {},
   "outputs": [
    {
     "name": "stdout",
     "output_type": "stream",
     "text": [
      "Name:  Phill\n",
      "Age:  22\n",
      "Salary:  None\n",
      "Salary:  0.0\n"
     ]
    }
   ],
   "source": [
    "person = {'name': 'Phill', 'age': 22}\n",
    "\n",
    "print('Name: ', person.get('name'))\n",
    "\n",
    "print('Age: ', person.get('age'))\n",
    "\n",
    "# value is not provided\n",
    "print('Salary: ', person.get('salary'))\n",
    "\n",
    "\n",
    "# value is provided\n",
    "print('Salary: ', person.get('salary', 0.0))"
   ]
  }
 ],
 "metadata": {
  "interpreter": {
   "hash": "6d9b8b55280c74c8448fe5a5a2df1f164a299376374b3d46cba56a0268a31c8c"
  },
  "kernelspec": {
   "display_name": "Python 3.8.10 64-bit ('a': conda)",
   "name": "python3"
  },
  "language_info": {
   "codemirror_mode": {
    "name": "ipython",
    "version": 3
   },
   "file_extension": ".py",
   "mimetype": "text/x-python",
   "name": "python",
   "nbconvert_exporter": "python",
   "pygments_lexer": "ipython3",
   "version": "3.11.6"
  },
  "orig_nbformat": 4
 },
 "nbformat": 4,
 "nbformat_minor": 2
}
