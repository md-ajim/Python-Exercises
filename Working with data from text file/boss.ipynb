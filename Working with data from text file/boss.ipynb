{
 "cells": [
  {
   "cell_type": "code",
   "execution_count": null,
   "metadata": {},
   "outputs": [],
   "source": [
    "from PIL import Image\n",
    "\n",
    "Reading1 =  Image.open( r'C:\\Users\\azimi\\Desktop\\New folder\\boy.PNG')\n",
    "Reading2 =  open( r'C:\\Users\\azimi\\Desktop\\New folder\\Env-Path.txt','r')\n",
    "\n",
    "\n",
    "# for txt in Reading:\n",
    "#     mylist=txt.split()\n",
    "#     print(mylist)\n",
    "# sum = 0\n",
    "# for i in mylist:\n",
    "#     sum = sum + int(i)\n",
    "# print(sum)\n",
    "# print(type(sum))\n",
    "    \n",
    "\n",
    "\n",
    "\n",
    "\n",
    "    \n",
    "       \n",
    "    \n",
    "\n",
    "\n",
    "\n",
    "   \n",
    "   \n",
    "\n"
   ]
  },
  {
   "cell_type": "code",
   "execution_count": null,
   "metadata": {},
   "outputs": [],
   "source": [
    "print(Reading1)"
   ]
  },
  {
   "cell_type": "code",
   "execution_count": null,
   "metadata": {},
   "outputs": [],
   "source": [
    "Reading1.show()"
   ]
  },
  {
   "cell_type": "code",
   "execution_count": null,
   "metadata": {},
   "outputs": [],
   "source": [
    "Reading2\n",
    "Reading1"
   ]
  },
  {
   "cell_type": "code",
   "execution_count": null,
   "metadata": {},
   "outputs": [],
   "source": []
  }
 ],
 "metadata": {
  "interpreter": {
   "hash": "6070b739bda494cd05c55c4dd1fefe4bc7f51a70f6d608882e1910222e9cc2a3"
  },
  "kernelspec": {
   "display_name": "Python 3.8.8 64-bit ('base': conda)",
   "name": "python3"
  },
  "language_info": {
   "codemirror_mode": {
    "name": "ipython",
    "version": 3
   },
   "file_extension": ".py",
   "mimetype": "text/x-python",
   "name": "python",
   "nbconvert_exporter": "python",
   "pygments_lexer": "ipython3",
   "version": "3.11.6"
  },
  "orig_nbformat": 4
 },
 "nbformat": 4,
 "nbformat_minor": 2
}
