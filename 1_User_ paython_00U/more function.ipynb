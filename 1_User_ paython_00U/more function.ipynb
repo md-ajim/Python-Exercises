{
 "cells": [
  {
   "cell_type": "code",
   "execution_count": 1,
   "source": [
    "import math\n",
    "\n",
    "\n",
    "degree = float(input('Enter a degre number  '))\n",
    "redan = (degree * math.pi) /180\n",
    "sig = math.cos(redan) #  cos a number convert\n",
    "Acos = math.acos(0.5) # cos number convert\n",
    "gsagu = math.gcd(20,150)\n",
    "\n",
    "\n",
    "\n",
    "print(sig)\n",
    "print(Acos)\n",
    "print(math.fabs(1)) # fabs hocce jay kono flot ar abslud number ta ber kore day\n",
    "print(math.exp(2)) # e to the power \n",
    "print(gsagu)\n",
    "\n"
   ],
   "outputs": [
    {
     "output_type": "stream",
     "name": "stdout",
     "text": [
      "Enter a degre number  30\n",
      "0.8660254037844387\n",
      "1.0471975511965979\n",
      "1.0\n",
      "7.38905609893065\n",
      "10\n"
     ]
    }
   ],
   "metadata": {},
   "id": "ddb9ca2cbf9cfb0e"
  },
  {
   "cell_type": "code",
   "execution_count": null,
   "source": [
    "import math\n",
    "\n",
    "print(math.sin(0.5235987755982989))\n",
    "\n",
    "print(math.asin(0.5))\n",
    "\n",
    "redan = (30*math.pi)/180\n",
    "print(redan)"
   ],
   "outputs": [],
   "metadata": {},
   "id": "6857c9bc2aa3f20d"
  },
  {
   "cell_type": "code",
   "execution_count": null,
   "source": [
    "print('hello world')"
   ],
   "outputs": [],
   "metadata": {},
   "id": "87925d4547986637"
  },
  {
   "cell_type": "code",
   "execution_count": null,
   "source": [],
   "outputs": [],
   "metadata": {},
   "id": "778ebcafda529371"
  }
 ],
 "metadata": {
  "kernelspec": {
   "display_name": "Python 3",
   "language": "python",
   "name": "python3"
  },
  "language_info": {
   "codemirror_mode": {
    "name": "ipython",
    "version": 3
   },
   "file_extension": ".py",
   "mimetype": "text/x-python",
   "name": "python",
   "nbconvert_exporter": "python",
   "pygments_lexer": "ipython3",
   "version": "3.8.10"
  }
 },
 "nbformat": 4,
 "nbformat_minor": 5
}
