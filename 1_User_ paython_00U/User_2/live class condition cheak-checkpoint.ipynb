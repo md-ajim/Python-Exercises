{
 "cells": [
  {
   "cell_type": "code",
   "execution_count": 26,
   "id": "d3ce7064",
   "metadata": {},
   "outputs": [
    {
     "name": "stdout",
     "output_type": "stream",
     "text": [
      "Enter a chake age4\n",
      "Your aligable\n"
     ]
    }
   ],
   "source": [
    "\n",
    "x = input(\"Enter a chake age\")\n",
    "\n",
    "a = int(x)\n",
    "\n",
    "if a <= 10:\n",
    "    \n",
    "    print(\"Your aligable\")\n",
    "    \n",
    "    \n",
    "else: print(\"Not match age \")\n",
    "    \n",
    "    \n",
    "\n",
    "    \n",
    "    "
   ]
  },
  {
   "cell_type": "code",
   "execution_count": 24,
   "id": "91e57938",
   "metadata": {},
   "outputs": [
    {
     "name": "stdout",
     "output_type": "stream",
     "text": [
      "Enter a number3.100220\n",
      "No\n"
     ]
    }
   ],
   "source": [
    "  \n",
    "w = input (\"Enter a number\")\n",
    "\n",
    "   \n",
    "if float(w) >= 5.104:\n",
    "    \n",
    "    \n",
    "    print(\"Yes\")\n",
    "    \n",
    "    \n",
    "else : \n",
    "    \n",
    "    print(\"No\")\n",
    "    \n",
    "    \n",
    "    "
   ]
  },
  {
   "cell_type": "code",
   "execution_count": 28,
   "id": "0e6aa76e",
   "metadata": {},
   "outputs": [
    {
     "name": "stdout",
     "output_type": "stream",
     "text": [
      "Enter a number10\n",
      "Evan\n"
     ]
    }
   ],
   "source": [
    "\n",
    "x = int(input(\"Enter a number\"))\n",
    "\n",
    "\n",
    "if x % 2 == 1:\n",
    "    \n",
    "    print(\"Odd\")\n",
    "    \n",
    "    \n",
    "else:\n",
    "    \n",
    "    print(\"Evan\") \n",
    "\n",
    "    \n",
    "# alhamdulla bujta prlam ami bag ses ta ber kore fellam\n"
   ]
  },
  {
   "cell_type": "code",
   "execution_count": 83,
   "id": "594c6aa7",
   "metadata": {},
   "outputs": [
    {
     "name": "stdout",
     "output_type": "stream",
     "text": [
      "Entar a number 21\n",
      "Your postive number 10\n"
     ]
    }
   ],
   "source": [
    "# Frist program \n",
    "\n",
    "x = int(input(\"Entar a number \"))\n",
    "\n",
    "\n",
    "\n",
    "if x > 20 :\n",
    "    \n",
    "    print(\"Your postive number\",u)\n",
    "    \n",
    "\n",
    "\n",
    "else:\n",
    "    \n",
    "    print(\"Your nagitive number\",u)\n",
    "\n",
    "\n",
    "\n"
   ]
  },
  {
   "cell_type": "code",
   "execution_count": 85,
   "id": "e0b6d838",
   "metadata": {},
   "outputs": [
    {
     "name": "stdout",
     "output_type": "stream",
     "text": [
      "15\n"
     ]
    }
   ],
   "source": [
    "\n",
    "x = 5\n",
    "\n",
    "y = 3\n",
    "\n",
    "\n",
    "print( x*y)\n"
   ]
  },
  {
   "cell_type": "code",
   "execution_count": 91,
   "id": "0d858987",
   "metadata": {},
   "outputs": [
    {
     "name": "stdout",
     "output_type": "stream",
     "text": [
      "Entar a number 1\n",
      "1 Your nagitive number\n"
     ]
    }
   ],
   "source": [
    "\n",
    "\n",
    "\n",
    "\n",
    "\n",
    "x = int(input(\"Entar a number \"))\n",
    "\n",
    "\n",
    "\n",
    "\n",
    "\n",
    "if x * x > 20 :\n",
    "    \n",
    "    print(\"Your postive number\")\n",
    "    \n",
    "\n",
    "\n",
    "else:\n",
    "    \n",
    "    print(\"Your nagitive number\")\n",
    "\n",
    "\n"
   ]
  },
  {
   "cell_type": "code",
   "execution_count": 106,
   "id": "d8b7d8a3",
   "metadata": {},
   "outputs": [
    {
     "name": "stdout",
     "output_type": "stream",
     "text": [
      "Enter a marks: 55\n"
     ]
    },
    {
     "ename": "TypeError",
     "evalue": "'>=' not supported between instances of 'str' and 'int'",
     "output_type": "error",
     "traceback": [
      "\u001b[1;31m---------------------------------------------------------------------------\u001b[0m",
      "\u001b[1;31mTypeError\u001b[0m                                 Traceback (most recent call last)",
      "\u001b[1;32m<ipython-input-106-ddaeb53843b8>\u001b[0m in \u001b[0;36m<module>\u001b[1;34m\u001b[0m\n\u001b[0;32m      3\u001b[0m \u001b[0mfloat\u001b[0m\u001b[1;33m(\u001b[0m\u001b[0mx\u001b[0m\u001b[1;33m)\u001b[0m\u001b[1;33m\u001b[0m\u001b[1;33m\u001b[0m\u001b[0m\n\u001b[0;32m      4\u001b[0m \u001b[1;33m\u001b[0m\u001b[0m\n\u001b[1;32m----> 5\u001b[1;33m \u001b[1;32mif\u001b[0m \u001b[0mx\u001b[0m \u001b[1;33m>=\u001b[0m \u001b[1;36m80\u001b[0m\u001b[1;33m:\u001b[0m\u001b[1;33m\u001b[0m\u001b[1;33m\u001b[0m\u001b[0m\n\u001b[0m\u001b[0;32m      6\u001b[0m \u001b[1;33m\u001b[0m\u001b[0m\n\u001b[0;32m      7\u001b[0m     \u001b[0mprint\u001b[0m\u001b[1;33m(\u001b[0m\u001b[1;34m\"Your marks A +\"\u001b[0m\u001b[1;33m)\u001b[0m\u001b[1;33m\u001b[0m\u001b[1;33m\u001b[0m\u001b[0m\n",
      "\u001b[1;31mTypeError\u001b[0m: '>=' not supported between instances of 'str' and 'int'"
     ]
    }
   ],
   "source": [
    "x = input(\"Enter a marks: \")\n",
    "\n",
    "float(x)\n",
    "\n",
    "if x>= 80: \n",
    "    \n",
    "    print(\"Your marks A +\")\n",
    "\n",
    "elif x>= 70:  \n",
    "    \n",
    "    print(\"Your marks A \")\n",
    "\n",
    "elif x>= 60 : \n",
    "    \n",
    "    print(\"Your marks A \")\n",
    "\n",
    "elif x>= 50 : \n",
    "        \n",
    "    print(\"Your marks B \")\n",
    "\n",
    "elif x>= 40 : \n",
    "        \n",
    "    print(\"Your marks C \")\n",
    "    \n",
    "    \n",
    "else:\n",
    "    \n",
    "    print(\"Fale\")   \n",
    "\n",
    "    \n",
    "\n"
   ]
  },
  {
   "cell_type": "code",
   "execution_count": null,
   "id": "5e93c35c",
   "metadata": {},
   "outputs": [],
   "source": []
  }
 ],
 "metadata": {
  "kernelspec": {
   "display_name": "Python 3",
   "language": "python",
   "name": "python3"
  },
  "language_info": {
   "codemirror_mode": {
    "name": "ipython",
    "version": 3
   },
   "file_extension": ".py",
   "mimetype": "text/x-python",
   "name": "python",
   "nbconvert_exporter": "python",
   "pygments_lexer": "ipython3",
   "version": "3.8.10"
  }
 },
 "nbformat": 4,
 "nbformat_minor": 5
}
