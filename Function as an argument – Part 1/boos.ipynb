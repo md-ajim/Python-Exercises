{
 "cells": [
  {
   "cell_type": "code",
   "execution_count": 42,
   "source": [
    "\n",
    "# def add (a,b):\n",
    "#     return a+b\n",
    "# def sub (a,b):\n",
    "#     return a-b\n",
    "# def mult (a,b):\n",
    "#     return a*b\n",
    "\n",
    "# def Func(a,b,Function):\n",
    "#     return Function (a,b)\n",
    "\n",
    "# Func(10,15,mult)\n",
    "    "
   ],
   "outputs": [],
   "metadata": {}
  },
  {
   "cell_type": "code",
   "execution_count": 3,
   "source": [
    "\n",
    "def add (a,b):\n",
    "    return a+b\n",
    "def sub (a,b):\n",
    "    return a-b\n",
    "def mult (a,b):\n",
    "    return a*b\n",
    "\n",
    "def div (a,b):\n",
    "    return a/b\n",
    "\n",
    "def allfunction(a,b,function):\n",
    "   return function(a,b)\n",
    "\n",
    "Input =input('Enter a number')\n",
    "\n",
    "Opertion = Input[:3]\n",
    "Opertion = Opertion.lower()\n",
    "\n",
    "Counter = 4\n",
    "while Input[Counter]!= ' ':\n",
    "    Counter += 1 \n",
    "     \n",
    "Int1 = int(Input[4:Counter])\n",
    "Int2 = int(Input[Counter+1:])\n",
    "\n",
    "print(Int2)\n",
    "print(Int1)\n",
    "\n",
    "\n",
    "\n",
    "if Opertion =='add':\n",
    "    print('This is a add number',allfunction(Int1,Int2,add))\n",
    "if Opertion =='sub':\n",
    "    print('This is a sub number',allfunction(Int1,Int2,sub))    \n",
    "if Opertion =='mult':\n",
    "    print('This is a mult number',allfunction(Int1,Int2,mult))\n",
    "if Opertion =='div':\n",
    "    print('This is a div number',allfunction(Int1,Int2,div))\n",
    "  "
   ],
   "outputs": [
    {
     "output_type": "stream",
     "name": "stdout",
     "text": [
      "30\n",
      "20\n",
      "This is a add number 50\n"
     ]
    }
   ],
   "metadata": {}
  },
  {
   "cell_type": "code",
   "execution_count": null,
   "source": [],
   "outputs": [],
   "metadata": {}
  }
 ],
 "metadata": {
  "orig_nbformat": 4,
  "language_info": {
   "name": "python",
   "version": "3.8.8",
   "mimetype": "text/x-python",
   "codemirror_mode": {
    "name": "ipython",
    "version": 3
   },
   "pygments_lexer": "ipython3",
   "nbconvert_exporter": "python",
   "file_extension": ".py"
  },
  "kernelspec": {
   "name": "python3",
   "display_name": "Python 3.8.8 64-bit ('base': conda)"
  },
  "interpreter": {
   "hash": "6070b739bda494cd05c55c4dd1fefe4bc7f51a70f6d608882e1910222e9cc2a3"
  }
 },
 "nbformat": 4,
 "nbformat_minor": 2
}
