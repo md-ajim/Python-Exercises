{
 "cells": [
  {
   "cell_type": "code",
   "execution_count": 17,
   "metadata": {},
   "outputs": [
    {
     "name": "stdout",
     "output_type": "stream",
     "text": [
      "['A', 'z', 'i', 'm', 'u', 'l']\n"
     ]
    }
   ],
   "source": [
    "# string take akta list akare dekhate chila exampol\n",
    "\n",
    "\n",
    "List =[]\n",
    "for i in x:\n",
    "    List.append(i)\n",
    "print(List)\n",
    "  "
   ]
  },
  {
   "cell_type": "code",
   "execution_count": 28,
   "metadata": {},
   "outputs": [
    {
     "name": "stdout",
     "output_type": "stream",
     "text": [
      "['A', 'z', 'i', 'm', 'u', 'l']\n"
     ]
    }
   ],
   "source": [
    "k = 'Azimul'\n",
    "List2 =[List2 for List2 in k]   \n",
    "print(List2)\n",
    "\n"
   ]
  },
  {
   "cell_type": "code",
   "execution_count": 30,
   "metadata": {},
   "outputs": [
    {
     "name": "stdout",
     "output_type": "stream",
     "text": [
      "[1, 2, 3, 4, 5, 6, 7, 8, 9, 10]\n"
     ]
    }
   ],
   "source": [
    "\n",
    "Number = [1,2,3,4,5,6,7,8,9,10]\n",
    "List3 = []\n",
    "for i in Number:\n",
    "    List3.append(i)\n",
    "print(List3)\n",
    "\n",
    "\n"
   ]
  },
  {
   "cell_type": "code",
   "execution_count": 42,
   "metadata": {},
   "outputs": [
    {
     "name": "stdout",
     "output_type": "stream",
     "text": [
      "[0, 1, 2, 3, 4]\n"
     ]
    }
   ],
   "source": [
    "number = [1,2,3,4,5,6,7,8,9,10]\n",
    "List4 = [number for number in range(0,5)]\n",
    "print(List4)"
   ]
  },
  {
   "cell_type": "code",
   "execution_count": 51,
   "metadata": {},
   "outputs": [
    {
     "name": "stdout",
     "output_type": "stream",
     "text": [
      "[8, 10]\n"
     ]
    }
   ],
   "source": [
    "\n",
    "\n",
    "nUmber = [1,2,3,4,5,6,7,8,9,10]\n",
    "\n",
    "myList = [i for i in nUmber if i%2==0  and  i>5 <i-1]\n",
    "print( myList)\n"
   ]
  },
  {
   "cell_type": "code",
   "execution_count": 3,
   "metadata": {},
   "outputs": [
    {
     "name": "stdout",
     "output_type": "stream",
     "text": [
      "['alon', 'dabol', 'alon', 'dabol', 'alon', 'dabol', 'alon', 'dabol', 'alon', 'dabol', 'alon']\n"
     ]
    }
   ],
   "source": [
    "## ami jodi ay khen else us korta chi thoel tar exampol\n",
    "\n",
    "xNumber = [ 0,1,2,3,4,5,6,7,8,9,10]\n",
    "mList =[ 'alon' if xNumber%2==0 else 'dabol'for xNumber in xNumber]\n",
    "print(mList)"
   ]
  },
  {
   "cell_type": "code",
   "execution_count": 4,
   "metadata": {},
   "outputs": [],
   "source": [
    "name = input('Enter a name')\n",
    "lohar = name.lower()\n",
    "convert = lohar.reverse()"
   ]
  },
  {
   "cell_type": "code",
   "execution_count": null,
   "metadata": {},
   "outputs": [],
   "source": [
    "\n",
    "\n",
    "listViews = [('tapule','list',{name:'azimul' ,rell:0})]\n",
    "\n",
    "\n"
   ]
  }
 ],
 "metadata": {
  "interpreter": {
   "hash": "6070b739bda494cd05c55c4dd1fefe4bc7f51a70f6d608882e1910222e9cc2a3"
  },
  "kernelspec": {
   "display_name": "Python 3.8.8 64-bit ('base': conda)",
   "name": "python3"
  },
  "language_info": {
   "codemirror_mode": {
    "name": "ipython",
    "version": 3
   },
   "file_extension": ".py",
   "mimetype": "text/x-python",
   "name": "python",
   "nbconvert_exporter": "python",
   "pygments_lexer": "ipython3",
   "version": "3.8.8"
  },
  "orig_nbformat": 4
 },
 "nbformat": 4,
 "nbformat_minor": 2
}
