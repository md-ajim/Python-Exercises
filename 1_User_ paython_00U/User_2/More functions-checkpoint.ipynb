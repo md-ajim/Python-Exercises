{
 "cells": [
  {
   "cell_type": "code",
   "execution_count": 12,
   "id": "2c05bf39",
   "metadata": {},
   "outputs": [
    {
     "name": "stdout",
     "output_type": "stream",
     "text": [
      "0.49999999999999994\n",
      "0.5235987755982989\n",
      "18.84955592153876\n"
     ]
    }
   ],
   "source": [
    "import math\n",
    "\n",
    "x = math.sin(math.pi / 6) #redan a convert\n",
    "\n",
    "\n",
    "print(x)\n",
    "\n",
    "s = math.asin(0.5)\n",
    "\n",
    "\n",
    "\n",
    "print (s)\n",
    "print(p)\n"
   ]
  },
  {
   "cell_type": "code",
   "execution_count": 14,
   "id": "00746224",
   "metadata": {},
   "outputs": [
    {
     "name": "stdout",
     "output_type": "stream",
     "text": [
      "Enter a degre number  30\n",
      "0.49999999999999994\n",
      "0.49999999999999994\n"
     ]
    }
   ],
   "source": [
    "import math\n",
    "\n",
    "\n",
    "degree = float(input('Enter a degre number  '))\n",
    "redan = (degree * math.pi) /180\n",
    "\n",
    "# degre to redan a convert\n",
    "# akhon ami jidi sin ar valou ta dekta chi thole\n",
    "\n",
    "#sig = math.sin(redan)\n",
    "\n",
    "print(s) # sing number ta ber kore delo\n",
    "print(x)\n",
    "\n",
    "s = math.asin(0.5)\n",
    "\n",
    "\n"
   ]
  },
  {
   "cell_type": "code",
   "execution_count": 24,
   "id": "addd0c42",
   "metadata": {},
   "outputs": [
    {
     "name": "stdout",
     "output_type": "stream",
     "text": [
      "0.5235987755982989\n",
      "0.5235987755982988\n",
      "0.5\n"
     ]
    }
   ],
   "source": [
    "\n",
    "print(math.asin(0.5), 'asin valou number , redan valou ar number same output')\n",
    "print(redan ) # so redan ar sate ar , sate ar math.asin tar valou gulo same aslo \n",
    "print(math.sin(0.5235987755982989))"
   ]
  },
  {
   "cell_type": "code",
   "execution_count": null,
   "id": "26e7154e",
   "metadata": {},
   "outputs": [],
   "source": []
  }
 ],
 "metadata": {
  "kernelspec": {
   "display_name": "Python 3",
   "language": "python",
   "name": "python3"
  },
  "language_info": {
   "codemirror_mode": {
    "name": "ipython",
    "version": 3
   },
   "file_extension": ".py",
   "mimetype": "text/x-python",
   "name": "python",
   "nbconvert_exporter": "python",
   "pygments_lexer": "ipython3",
   "version": "3.8.10"
  }
 },
 "nbformat": 4,
 "nbformat_minor": 5
}
