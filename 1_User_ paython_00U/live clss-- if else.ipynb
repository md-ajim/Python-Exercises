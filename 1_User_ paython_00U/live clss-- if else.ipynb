{
 "cells": [
  {
   "cell_type": "code",
   "execution_count": 130,
   "source": [
    "x = ord(input('Enter a  chr numebr '))\r\n",
    "\r\n",
    "if(x>=65):\r\n",
    "    \r\n",
    "    c = x-32\r\n",
    "    e = chr(c)\r\n",
    "    print(e)\r\n",
    "    \r\n",
    "elif(x<97):\r\n",
    "    o = x + 32\r\n",
    "    w = chr(o)\r\n",
    "    print(w)\r\n",
    "    \r\n",
    "    \r\n",
    "#  tho ay babe amra charct ar gulo ber korlam\r\n",
    "\r\n",
    "   \r\n",
    "\r\n",
    "    "
   ],
   "outputs": [
    {
     "output_type": "stream",
     "name": "stdout",
     "text": [
      "Enter a  chr numebr 1\n",
      "Q\n"
     ]
    }
   ],
   "metadata": {}
  },
  {
   "cell_type": "code",
   "execution_count": 131,
   "source": [
    "import math "
   ],
   "outputs": [],
   "metadata": {}
  },
  {
   "cell_type": "code",
   "execution_count": 132,
   "source": [
    "\r\n",
    "\r\n",
    "print(math.sqrt(5)) ## tho ay abe amra akta borgo mul ta ber lolram \r\n",
    "\r\n"
   ],
   "outputs": [
    {
     "output_type": "stream",
     "name": "stdout",
     "text": [
      "2.23606797749979\n"
     ]
    }
   ],
   "metadata": {}
  },
  {
   "cell_type": "code",
   "execution_count": 1,
   "source": [
    "x = 2 % 2\r\n",
    "\r\n",
    "print(x)"
   ],
   "outputs": [
    {
     "output_type": "stream",
     "name": "stdout",
     "text": [
      "0\n"
     ]
    }
   ],
   "metadata": {}
  },
  {
   "cell_type": "code",
   "execution_count": null,
   "source": [],
   "outputs": [],
   "metadata": {}
  }
 ],
 "metadata": {
  "kernelspec": {
   "name": "python3",
   "display_name": "Python 3.8.10 64-bit ('a': conda)"
  },
  "language_info": {
   "codemirror_mode": {
    "name": "ipython",
    "version": 3
   },
   "file_extension": ".py",
   "mimetype": "text/x-python",
   "name": "python",
   "nbconvert_exporter": "python",
   "pygments_lexer": "ipython3",
   "version": "3.8.10"
  },
  "interpreter": {
   "hash": "6d9b8b55280c74c8448fe5a5a2df1f164a299376374b3d46cba56a0268a31c8c"
  }
 },
 "nbformat": 4,
 "nbformat_minor": 5
}