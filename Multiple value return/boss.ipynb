{
 "cells": [
  {
   "cell_type": "code",
   "execution_count": 17,
   "source": [
    "\n",
    "def MyFunction(a,b):\n",
    "    \n",
    "    return a+b,a*b,a-b # ayta akta tapole\n",
    "\n",
    "x = MyFunction(10,15)\n",
    "\n",
    "print(x)\n",
    "print(type(x))"
   ],
   "outputs": [
    {
     "output_type": "stream",
     "name": "stdout",
     "text": [
      "(25, 150, -5)\n",
      "<class 'tuple'>\n"
     ]
    }
   ],
   "metadata": {}
  },
  {
   "cell_type": "code",
   "execution_count": 18,
   "source": [
    "def MyFunction(a,b):\n",
    "    \n",
    "    return a+b,a*b,a-b\n",
    "\n",
    "x,y,z,= MyFunction(10,15) # ayta akta tapole vaiabel anar por take tapole a convert hoyce\n",
    "\n",
    "print(x,y,z)\n",
    "print(type(x))\n",
    "\n"
   ],
   "outputs": [
    {
     "output_type": "stream",
     "name": "stdout",
     "text": [
      "25 150 -5\n",
      "<class 'int'>\n"
     ]
    }
   ],
   "metadata": {}
  },
  {
   "cell_type": "code",
   "execution_count": 21,
   "source": [
    "\n",
    "def MyFunction(a,b):\n",
    "    \n",
    "    return a+b,a*b,[a-b]\n",
    "\n",
    "x, y ,z= MyFunction(10,15)\n",
    "\n",
    "print(x,y,z)\n",
    "print(type(x))"
   ],
   "outputs": [
    {
     "output_type": "stream",
     "name": "stdout",
     "text": [
      "25 150 [-5]\n",
      "<class 'int'>\n"
     ]
    }
   ],
   "metadata": {}
  },
  {
   "cell_type": "code",
   "execution_count": null,
   "source": [],
   "outputs": [],
   "metadata": {}
  }
 ],
 "metadata": {
  "orig_nbformat": 4,
  "language_info": {
   "name": "python",
   "version": "3.8.8",
   "mimetype": "text/x-python",
   "codemirror_mode": {
    "name": "ipython",
    "version": 3
   },
   "pygments_lexer": "ipython3",
   "nbconvert_exporter": "python",
   "file_extension": ".py"
  },
  "kernelspec": {
   "name": "python3",
   "display_name": "Python 3.8.8 64-bit ('base': conda)"
  },
  "interpreter": {
   "hash": "6070b739bda494cd05c55c4dd1fefe4bc7f51a70f6d608882e1910222e9cc2a3"
  }
 },
 "nbformat": 4,
 "nbformat_minor": 2
}
