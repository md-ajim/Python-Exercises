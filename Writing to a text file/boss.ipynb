{
 "cells": [
  {
   "cell_type": "code",
   "execution_count": null,
   "source": [
    "file  = open('Reading.txt','a')\r\n",
    "# file.close()\r\n",
    "Appendfile = file.write('\\n This is a charactor')\r\n",
    "\r\n",
    "print(Appendfile)\r\n",
    "\r\n"
   ],
   "outputs": [],
   "metadata": {}
  },
  {
   "cell_type": "code",
   "execution_count": 7,
   "source": [
    "\r\n",
    "\r\n",
    "RedFile = 'C:\\\\Users\\Azimul islam\\Desktop\\Read.txt'\r\n",
    "Open  = open(RedFile,'a+')\r\n",
    "\r\n",
    "# Open.write('Im agen wrinting program')\r\n",
    "# Open.write('\\n Im agen wrinting for python program') #  \r\n",
    "# Open.close()\r\n",
    "\r\n",
    "\r\n",
    "x =  20\r\n",
    "c = 60 \r\n",
    "y = 'This is a string'\r\n",
    "\r\n",
    "# RedFile = Open.write('\\n'+ str(x) +' ' +  str(c)+' '+ str(y))\r\n",
    "# RedFile = Open.write('{}\\n'.format(str(x)+ ' ' + str(c)+' ' + str(y))) # ami jodi jog korta chi shoj babe ata korta parbo\r\n",
    "\r\n",
    "# bettar option \r\n",
    "\r\n",
    "RedFile = Open.write('{}\\n'.format(y) )\r\n",
    "\r\n",
    "Open.close()\r\n"
   ],
   "outputs": [],
   "metadata": {}
  },
  {
   "cell_type": "code",
   "execution_count": 52,
   "source": [
    "# count = 100\r\n",
    "\r\n",
    "# start = input(\"Welcome to Reign of Terror \\n 1-Start Game 2-Highscores\")\r\n",
    "# if start == \"2\":\r\n",
    "#     with open(\"new.txt\", \"a\") as hisc:\r\n",
    "#         # hisc.write(\"{}\\n\".format(count))\r\n",
    "#             hisc.write(\"{}\\n\".format(count)) # ay mathod ta deya text gulo formet akare open korta parbo\r\n",
    "#             print(type(hisc))\r\n"
   ],
   "outputs": [],
   "metadata": {}
  },
  {
   "cell_type": "code",
   "execution_count": null,
   "source": [],
   "outputs": [],
   "metadata": {}
  },
  {
   "cell_type": "code",
   "execution_count": null,
   "source": [],
   "outputs": [],
   "metadata": {}
  }
 ],
 "metadata": {
  "orig_nbformat": 4,
  "language_info": {
   "name": "python",
   "version": "3.8.8",
   "mimetype": "text/x-python",
   "codemirror_mode": {
    "name": "ipython",
    "version": 3
   },
   "pygments_lexer": "ipython3",
   "nbconvert_exporter": "python",
   "file_extension": ".py"
  },
  "kernelspec": {
   "name": "python3",
   "display_name": "Python 3.8.8 64-bit ('base': conda)"
  },
  "interpreter": {
   "hash": "6070b739bda494cd05c55c4dd1fefe4bc7f51a70f6d608882e1910222e9cc2a3"
  }
 },
 "nbformat": 4,
 "nbformat_minor": 2
}