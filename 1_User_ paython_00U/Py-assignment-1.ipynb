{
 "cells": [
  {
   "cell_type": "code",
   "execution_count": 4,
   "id": "790d5ff9",
   "metadata": {},
   "outputs": [
    {
     "name": "stdout",
     "output_type": "stream",
     "text": [
      "Enter a  muthly incom1200\n",
      "720.0\n"
     ]
    }
   ],
   "source": [
    "x = int(input('Enter a  muthly incom'))\n",
    "\n",
    "totalIncom = x * 60 \n",
    "\n",
    "yearlyTex = totalIncom / 10\n",
    "\n",
    "retanTex = yearlyTex /10\n",
    "\n",
    "print(retanTex)\n",
    "\n",
    "\n"
   ]
  },
  {
   "cell_type": "code",
   "execution_count": null,
   "id": "d64e146c",
   "metadata": {},
   "outputs": [],
   "source": []
  }
 ],
 "metadata": {
  "kernelspec": {
   "display_name": "Python 3",
   "language": "python",
   "name": "python3"
  },
  "language_info": {
   "codemirror_mode": {
    "name": "ipython",
    "version": 3
   },
   "file_extension": ".py",
   "mimetype": "text/x-python",
   "name": "python",
   "nbconvert_exporter": "python",
   "pygments_lexer": "ipython3",
   "version": "3.8.10"
  }
 },
 "nbformat": 4,
 "nbformat_minor": 5
}
