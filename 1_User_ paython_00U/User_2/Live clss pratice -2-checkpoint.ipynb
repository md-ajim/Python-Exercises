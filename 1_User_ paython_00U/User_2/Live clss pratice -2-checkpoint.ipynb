{
 "cells": [
  {
   "cell_type": "code",
   "execution_count": 14,
   "id": "9e7f63fd",
   "metadata": {},
   "outputs": [
    {
     "name": "stdout",
     "output_type": "stream",
     "text": [
      "Enter a lep year ! 2023\n",
      "{0} is a not lep year\n"
     ]
    }
   ],
   "source": [
    "x = int(input(\"Enter a lep year ! \"))\n",
    "\n",
    "if (x % 4)==0:\n",
    "\n",
    "    \n",
    "    if (x % 100)==0:\n",
    "        \n",
    "        \n",
    "        if (x % 400)==0:\n",
    "            \n",
    "            \n",
    "              print(\"{0} is a lep year\")\n",
    "            \n",
    "        else:\n",
    "                print(\"{0} is a not lep year\")\n",
    "      \n",
    "    else:\n",
    "        \n",
    "        print(\"{0} is a lep year\")\n",
    "            \n",
    "else:\n",
    "    \n",
    "    print(\"{0} is a not lep year\")\n",
    "    \n",
    "\n",
    "   \n",
    "    \n",
    "\n",
    "    \n",
    " "
   ]
  },
  {
   "cell_type": "code",
   "execution_count": 7,
   "id": "ef22bdfd",
   "metadata": {},
   "outputs": [
    {
     "name": "stdout",
     "output_type": "stream",
     "text": [
      "is a lep year  0\n"
     ]
    }
   ],
   "source": [
    "x = 2000\n",
    "\n",
    "c = x % 100\n",
    "\n",
    "print( \"is a lep year \",c)\n"
   ]
  },
  {
   "cell_type": "code",
   "execution_count": null,
   "id": "b301c18d",
   "metadata": {},
   "outputs": [],
   "source": [
    "\n",
    "   y =  int(input('Enter a year'))\n",
    "\n",
    "if  y%100==0:\n",
    "    \n",
    "    y = y/100\n",
    "    if y%4==0:\n",
    "        \n",
    "        print('leap year')\n",
    "        \n",
    "    else:\n",
    "        \n",
    "        print('Not leap year')\n",
    "        \n",
    "else:\n",
    "    \n",
    "    if y%4==0:\n",
    "        print('lep year')\n",
    "    else:\n",
    "            print('not leap year')\n",
    "     \n",
    "    \n",
    "    \n",
    "    "
   ]
  },
  {
   "cell_type": "code",
   "execution_count": null,
   "id": "b8ff295d",
   "metadata": {},
   "outputs": [],
   "source": []
  }
 ],
 "metadata": {
  "kernelspec": {
   "display_name": "Python 3",
   "language": "python",
   "name": "python3"
  },
  "language_info": {
   "codemirror_mode": {
    "name": "ipython",
    "version": 3
   },
   "file_extension": ".py",
   "mimetype": "text/x-python",
   "name": "python",
   "nbconvert_exporter": "python",
   "pygments_lexer": "ipython3",
   "version": "3.8.10"
  }
 },
 "nbformat": 4,
 "nbformat_minor": 5
}
