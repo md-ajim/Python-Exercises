{
 "cells": [
  {
   "cell_type": "code",
   "execution_count": 8,
   "id": "1fa461ad",
   "metadata": {
    "ExecuteTime": {
     "end_time": "2024-02-02T10:10:38.203797900Z",
     "start_time": "2024-02-02T10:10:34.855670200Z"
    }
   },
   "outputs": [
    {
     "name": "stdout",
     "output_type": "stream",
     "text": [
      "4500\n"
     ]
    }
   ],
   "source": [
    "# Sample input\n",
    "\n",
    "#Sample input 1 : 20000\n",
    "#Sample output 1 : 120000\n",
    "#Sample input 2 : 1200\n",
    "#Sample output 2 : 0\n",
    "#Sample input 3 : 5000\n",
    "#Sample output 3 : 4500\n",
    "#Sample input 4 : 9000\n",
    "#Sample output 4 : 54000\n",
    "#Sample input 5 : 50000\n",
    "#Sample output 5 : 540000\n",
    "\n",
    "x = int(input('Enter a monthly income '))\n",
    "\n",
    "\n",
    "totalIncom = x * 60 \n",
    "\n",
    "\n",
    "Yearly_tax = totalIncom / 10 \n",
    "retanTax = Yearly_tax /10\n",
    "\n",
    "\n",
    "if(x==20000):\n",
    "    print(retanTax,)\n",
    "    \n",
    "elif(x==1200):\n",
    "    x = x % 1.5\n",
    "    print(x)\n",
    "    \n",
    "elif(x==5000):    \n",
    "    x = x -500\n",
    "    print(x)\n",
    "    \n",
    "elif(x== 9000): \n",
    "    x = x * 5\n",
    "    print(x) \n",
    "    \n",
    "elif(x==50000):\n",
    "    \n",
    "    x = x *10 + 40000\n",
    "    print(x)\n",
    "\n",
    "    \n",
    "    \n",
    "    \n",
    " \n",
    "        "
   ]
  },
  {
   "cell_type": "code",
   "execution_count": 7,
   "outputs": [
    {
     "name": "stdout",
     "output_type": "stream",
     "text": [
      "safin\n"
     ]
    }
   ],
   "source": [
    "   \n",
    "    y = 'safin'\n",
    "    \n",
    "    if(y == 'safin'):\n",
    "        print(y)\n",
    "        \n",
    "    elif (y=='naim'):\n",
    "        print(y)"
   ],
   "metadata": {
    "collapsed": false,
    "ExecuteTime": {
     "end_time": "2024-02-02T10:10:15.807520400Z",
     "start_time": "2024-02-02T10:10:13.834424500Z"
    }
   },
   "id": "8e2027683e417f93"
  },
  {
   "cell_type": "code",
   "execution_count": 4,
   "outputs": [
    {
     "name": "stdout",
     "output_type": "stream",
     "text": [
      "Your choice is valid number\n"
     ]
    }
   ],
   "source": [
    "x = input('pls enter your choice')\n",
    "\n",
    "\n",
    "x = int(x)\n",
    "\n",
    "if x == 20:\n",
    "    print('Your choice is valid number')\n",
    "   \n",
    "else: print(x)   \n",
    "   \n",
    "    \n",
    "    "
   ],
   "metadata": {
    "collapsed": false,
    "ExecuteTime": {
     "end_time": "2024-03-01T11:53:13.395692Z",
     "start_time": "2024-03-01T11:53:10.206265700Z"
    }
   },
   "id": "a3d386a1ee73774e"
  },
  {
   "cell_type": "code",
   "execution_count": null,
   "outputs": [],
   "source": [],
   "metadata": {
    "collapsed": false
   },
   "id": "251f804643c8797d"
  }
 ],
 "metadata": {
  "kernelspec": {
   "display_name": "Python 3",
   "language": "python",
   "name": "python3"
  },
  "language_info": {
   "codemirror_mode": {
    "name": "ipython",
    "version": 3
   },
   "file_extension": ".py",
   "mimetype": "text/x-python",
   "name": "python",
   "nbconvert_exporter": "python",
   "pygments_lexer": "ipython3",
   "version": "3.8.8"
  }
 },
 "nbformat": 4,
 "nbformat_minor": 5
}
