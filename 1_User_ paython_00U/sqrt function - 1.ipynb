{
 "cells": [
  {
   "cell_type": "code",
   "execution_count": 1,
   "id": "767f3d74",
   "metadata": {},
   "outputs": [],
   "source": [
    "# jay fuction gula py ta kora ace take bole belt in function \n",
    "# mdiul hocce amon akta jayga sei jaygay sob gula function lekha take\n",
    "\n",
    "import math"
   ]
  },
  {
   "cell_type": "code",
   "execution_count": 10,
   "id": "e6c364c4",
   "metadata": {},
   "outputs": [
    {
     "name": "stdout",
     "output_type": "stream",
     "text": [
      "2.0\n",
      "3.141592653589793\n"
     ]
    }
   ],
   "source": [
    "x = math.sqrt(4) # squrt hocce amon akta function jeyta amadir sqrt akare input nay akta flot akare output day\n",
    "\n",
    "print(x)\n",
    "\n",
    "a = math.pi\n",
    "\n",
    "print(a)"
   ]
  },
  {
   "cell_type": "code",
   "execution_count": null,
   "id": "75e51b14",
   "metadata": {},
   "outputs": [],
   "source": []
  }
 ],
 "metadata": {
  "kernelspec": {
   "display_name": "Python 3",
   "language": "python",
   "name": "python3"
  },
  "language_info": {
   "codemirror_mode": {
    "name": "ipython",
    "version": 3
   },
   "file_extension": ".py",
   "mimetype": "text/x-python",
   "name": "python",
   "nbconvert_exporter": "python",
   "pygments_lexer": "ipython3",
   "version": "3.8.8"
  }
 },
 "nbformat": 4,
 "nbformat_minor": 5
}
