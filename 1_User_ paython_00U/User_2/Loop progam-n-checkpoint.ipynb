{
 "cells": [
  {
   "cell_type": "code",
   "execution_count": 16,
   "id": "90d6114a",
   "metadata": {},
   "outputs": [
    {
     "name": "stdout",
     "output_type": "stream",
     "text": [
      "Enter a  w valou number 10\n",
      "This is  a box 1\n",
      "This is  a box 3\n",
      "This is  a box 6\n",
      "This is  a box 10\n",
      "This is  a box 15\n",
      "This is  a box 21\n",
      "This is  a box 28\n",
      "This is  a box 36\n",
      "This is  a box 45\n",
      "This is  a box 55\n"
     ]
    }
   ],
   "source": [
    "n = int(input('Enter a  w valou number '))\n",
    "box = 0\n",
    "i = 1 \n",
    "while i<=n:\n",
    "    box = box+i\n",
    "    i += 1\n",
    "print( 'This is  a box', box)\n",
    "\n",
    "\n",
    "\n",
    "\n",
    "\n"
   ]
  },
  {
   "cell_type": "code",
   "execution_count": 10,
   "id": "9e4cd961",
   "metadata": {},
   "outputs": [
    {
     "name": "stdout",
     "output_type": "stream",
     "text": [
      "Enter a  w valou number 10\n",
      "This is  a box 55\n"
     ]
    }
   ],
   "source": [
    "n = int(input('Enter a  w valou number '))\n",
    "box = 0\n",
    "i = 1 \n",
    "while i<=n:\n",
    "    box = box+i\n",
    "    i += 1\n",
    "print( 'This is  a box', box)\n",
    "\n"
   ]
  },
  {
   "cell_type": "code",
   "execution_count": 1,
   "id": "e3145bd5",
   "metadata": {},
   "outputs": [
    {
     "name": "stdout",
     "output_type": "stream",
     "text": [
      "Enter a  valou number 10\n",
      "This is  a box 55\n"
     ]
    }
   ],
   "source": [
    "n = int(input('Enter a  valou number '))\n",
    "box = 0\n",
    "i = 0 \n",
    "while i<=n:\n",
    "    box = box+i\n",
    "    i += 1\n",
    "print( 'This is  a box', box)\n",
    "\n",
    "      \n",
    "        "
   ]
  },
  {
   "cell_type": "code",
   "execution_count": 11,
   "id": "c9c8ff2e",
   "metadata": {},
   "outputs": [
    {
     "name": "stdout",
     "output_type": "stream",
     "text": [
      "Enter a program -: 5\n",
      "1 After\n",
      "1 befor\n",
      "2 After\n",
      "2 befor\n",
      "3 After\n",
      "3 befor\n",
      "4 After\n",
      "4 befor\n",
      "5 After\n",
      "5 befor\n",
      "6 After\n",
      "6 befor\n"
     ]
    }
   ],
   "source": [
    "I = int(input('Enter a program -: '))\n",
    "\n",
    "i = 0\n",
    "\n",
    "while(i<=I):\n",
    "    i += 1        \n",
    "    print(i,'After')\n",
    "    print(i,'befor')\n",
    " \n",
    "\n",
    "  \n",
    "   "
   ]
  },
  {
   "cell_type": "code",
   "execution_count": 2,
   "id": "fa423b94",
   "metadata": {},
   "outputs": [
    {
     "name": "stdout",
     "output_type": "stream",
     "text": [
      "Enter a program -: 10\n",
      "1 After\n",
      "1 befor\n",
      "2 After\n",
      "2 befor\n",
      "3 After\n",
      "3 befor\n",
      "4 After\n",
      "4 befor\n",
      "5 After\n",
      "5 befor\n",
      "6 After\n",
      "6 befor\n",
      "7 After\n",
      "7 befor\n",
      "8 After\n",
      "8 befor\n",
      "9 After\n",
      "9 befor\n",
      "10 After\n",
      "10 befor\n",
      "11 After\n",
      "11 befor\n"
     ]
    }
   ],
   "source": [
    "I = int(input('Enter a program -: '))\n",
    "\n",
    "i = 0\n",
    "\n",
    "while(i<=I):\n",
    "    i += 1        \n",
    "    print(i,'After')\n",
    "    \n",
    "    if (i==3):\n",
    "          pass # pass hoce nal stetemt ar moto o kicuji kore nha\n",
    "\n",
    "    print(i,'befor')\n",
    " \n"
   ]
  },
  {
   "cell_type": "code",
   "execution_count": null,
   "id": "c5e4626e",
   "metadata": {},
   "outputs": [],
   "source": []
  }
 ],
 "metadata": {
  "kernelspec": {
   "display_name": "Python 3",
   "language": "python",
   "name": "python3"
  },
  "language_info": {
   "codemirror_mode": {
    "name": "ipython",
    "version": 3
   },
   "file_extension": ".py",
   "mimetype": "text/x-python",
   "name": "python",
   "nbconvert_exporter": "python",
   "pygments_lexer": "ipython3",
   "version": "3.8.8"
  }
 },
 "nbformat": 4,
 "nbformat_minor": 5
}
