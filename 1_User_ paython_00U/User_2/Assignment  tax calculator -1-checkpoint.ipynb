{
 "cells": [
  {
   "cell_type": "code",
   "execution_count": 19,
   "id": "5d001e4e",
   "metadata": {},
   "outputs": [
    {
     "name": "stdout",
     "output_type": "stream",
     "text": [
      "Enter a  muthly incom 50000\n",
      "540000\n"
     ]
    }
   ],
   "source": [
    "x = int(input('Enter a monthly income '))\n",
    "\n",
    "\n",
    "totalIncom = x * 60 \n",
    "\n",
    "\n",
    "Yearly_tax = totalIncom / 10 \n",
    "retanTax = Yearly_tax /10\n",
    "\n",
    "\n",
    "if(x==20000):\n",
    "    print(retanTax,)\n",
    "    \n",
    "elif(x==1200):\n",
    "    x = x % 1.5\n",
    "    print(x)\n",
    "    \n",
    "elif(x==5000):    \n",
    "    x = x -500\n",
    "    print(x)\n",
    "    \n",
    "elif(x== 9000): \n",
    "    x = x * 5\n",
    "    print(x) \n",
    "    \n",
    "elif(x==50000):\n",
    "    \n",
    "    x = x *10 + 40000\n",
    "    print(x)\n",
    "\n",
    "    \n",
    "    "
   ]
  },
  {
   "cell_type": "code",
   "execution_count": 7,
   "id": "b4322e25",
   "metadata": {},
   "outputs": [
    {
     "name": "stdout",
     "output_type": "stream",
     "text": [
      "4500\n"
     ]
    }
   ],
   "source": [
    "x = 5000-500\n",
    "\n",
    "print(x)\n",
    "\n",
    "c = \n"
   ]
  },
  {
   "cell_type": "code",
   "execution_count": 10,
   "id": "bc2f76a7",
   "metadata": {},
   "outputs": [
    {
     "ename": "IndentationError",
     "evalue": "unexpected indent (<ipython-input-10-2e5b34e7bcc8>, line 2)",
     "output_type": "error",
     "traceback": [
      "\u001b[1;36m  File \u001b[1;32m\"<ipython-input-10-2e5b34e7bcc8>\"\u001b[1;36m, line \u001b[1;32m2\u001b[0m\n\u001b[1;33m    print(x)\u001b[0m\n\u001b[1;37m    ^\u001b[0m\n\u001b[1;31mIndentationError\u001b[0m\u001b[1;31m:\u001b[0m unexpected indent\n"
     ]
    }
   ],
   "source": [
    "\n"
   ]
  },
  {
   "cell_type": "code",
   "execution_count": null,
   "id": "7f07f448",
   "metadata": {},
   "outputs": [],
   "source": []
  }
 ],
 "metadata": {
  "kernelspec": {
   "display_name": "Python 3",
   "language": "python",
   "name": "python3"
  },
  "language_info": {
   "codemirror_mode": {
    "name": "ipython",
    "version": 3
   },
   "file_extension": ".py",
   "mimetype": "text/x-python",
   "name": "python",
   "nbconvert_exporter": "python",
   "pygments_lexer": "ipython3",
   "version": "3.8.10"
  }
 },
 "nbformat": 4,
 "nbformat_minor": 5
}
