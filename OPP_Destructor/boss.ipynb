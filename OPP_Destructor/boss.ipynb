{
 "cells": [
  {
   "cell_type": "code",
   "execution_count": 67,
   "metadata": {
    "ExecuteTime": {
     "end_time": "2024-02-02T13:28:28.342758700Z",
     "start_time": "2024-02-02T13:28:27.921179500Z"
    }
   },
   "outputs": [
    {
     "name": "stdout",
     "output_type": "stream",
     "text": [
      "Your new class roll  23\n",
      "Student name :- Azimul islam\n",
      "Student roll :-  23\n",
      "Student class :-  10\n",
      "He is Azimul islam  promtion class 11\n",
      "OPP delede\n"
     ]
    }
   ],
   "source": [
    "class Student():\n",
    "\n",
    "    def __init__(self, name, roll, clsss):\n",
    "\n",
    "        self.name = name\n",
    "        self.roll = roll\n",
    "        self.clsss = clsss\n",
    "\n",
    "    def printInfo(self):\n",
    "\n",
    "        print('Student name :- ' + self.name)\n",
    "        print('Student roll :- ', str(self.roll))\n",
    "        print('Student class :- ', str(self.clsss))\n",
    "\n",
    "    def PromoteInfo(self):\n",
    "\n",
    "        self.clsss += 1\n",
    "        print('He is Azimul islam  promtion class', self.clsss)\n",
    "\n",
    "    def changeRol(self, roll):\n",
    "        self.roll = roll\n",
    "\n",
    "    def printroll(self):\n",
    "\n",
    "        print('Your new class roll ', self.roll)\n",
    "\n",
    "    def Chake(self):\n",
    "        self.printroll()\n",
    "        self.printInfo()\n",
    "        self.PromoteInfo()\n",
    "        self.changeRol(30)\n",
    "\n",
    "    def __del__(self):\n",
    "        print('OPP delede')\n",
    "\n",
    "\n",
    "x = Student('Azimul islam', 23, 10)\n",
    "x.Chake()\n",
    "\n",
    "# x = 5 # jokhoni akta fuction delede hoye jabe tokhon del fuction ta ran hobe\n",
    "\n",
    "del x\n"
   ]
  },
  {
   "cell_type": "code",
   "execution_count": 68,
   "metadata": {
    "ExecuteTime": {
     "end_time": "2024-02-02T13:28:28.343760200Z",
     "start_time": "2024-02-02T13:28:27.943198100Z"
    }
   },
   "outputs": [
    {
     "name": "stdout",
     "output_type": "stream",
     "text": [
      "Animal Type: Mammal\n",
      "hello world\n",
      "Mammals give birth directly\n"
     ]
    }
   ],
   "source": [
    "class Animal(object):\n",
    "    def __init__(self, animal_type):\n",
    "        print('Animal Type:', animal_type)\n",
    "        print('hello world')\n",
    "\n",
    "\n",
    "class Mammal(Animal):\n",
    "    def __init__(self):\n",
    "\n",
    "        super().__init__('Mammal')\n",
    "        print('Mammals give birth directly')\n",
    "\n",
    "\n",
    "\n",
    "\n",
    "\n",
    "dog = Mammal()"
   ]
  },
  {
   "cell_type": "code",
   "execution_count": 69,
   "metadata": {
    "ExecuteTime": {
     "end_time": "2024-02-02T13:28:28.344761300Z",
     "start_time": "2024-02-02T13:28:28.023175600Z"
    }
   },
   "outputs": [],
   "source": [
    "class new_Student ():\n",
    "    variables = 20\n",
    "\n",
    "    def __init__(self, first_Name, Last_Name, Roll):\n",
    "        self.first_Name = first_Name\n",
    "        self.Last_Name = Last_Name\n",
    "        self.Roll = Roll\n",
    "\n",
    "    def Update_fistName(self):\n",
    "        self.first_Name = 'SakibUl'\n",
    "        return self.first_Name\n",
    "\n",
    "    def Update_lastName(self, Last_Name='HasnatSakiL'):\n",
    "        self.last_Name = Last_Name\n",
    "        return self.last_Name\n",
    "\n",
    "    def all_func(self):\n",
    "        print(self.Update_fistName())\n",
    "        print(self.Update_lastName('Hossen'))\n",
    "        print(self.Update_Roll())\n",
    "\n",
    "    def Update_Roll(self):\n",
    "        self.Roll += 5\n",
    "        return self.Roll\n",
    "\n",
    "    def get_address(self):\n",
    "        return f\"Your fist name{self.Update_fistName()} Your lastname {self.Update_lastName('Khan')} your roll number {self.Update_Roll()}\"\n",
    "\n",
    "    # Another instance method\n",
    "\n",
    "    def new_class(self, Class):\n",
    "        return f'Your first Name {self.Update_fistName()} and {Class}'\n",
    "\n",
    "\n",
    "n = new_Student('AzimuthIslam', 'Romjan', 20)\n"
   ]
  },
  {
   "cell_type": "code",
   "execution_count": 70,
   "metadata": {
    "ExecuteTime": {
     "end_time": "2024-02-02T13:28:28.344761300Z",
     "start_time": "2024-02-02T13:28:28.099305400Z"
    }
   },
   "outputs": [
    {
     "name": "stdout",
     "output_type": "stream",
     "text": [
      "20\n"
     ]
    }
   ],
   "source": [
    "print(n.variables)\n"
   ]
  },
  {
   "cell_type": "code",
   "execution_count": 71,
   "metadata": {
    "ExecuteTime": {
     "end_time": "2024-02-02T13:28:28.345760400Z",
     "start_time": "2024-02-02T13:28:28.179820500Z"
    }
   },
   "outputs": [
    {
     "data": {
      "text/plain": [
       "'SakibUl'"
      ]
     },
     "execution_count": 71,
     "metadata": {},
     "output_type": "execute_result"
    }
   ],
   "source": [
    "n.Update_fistName()\n"
   ]
  },
  {
   "cell_type": "code",
   "execution_count": 72,
   "metadata": {
    "ExecuteTime": {
     "end_time": "2024-02-02T13:28:28.346760300Z",
     "start_time": "2024-02-02T13:28:28.238821800Z"
    }
   },
   "outputs": [
    {
     "data": {
      "text/plain": [
       "'HasnatSakiL'"
      ]
     },
     "execution_count": 72,
     "metadata": {},
     "output_type": "execute_result"
    }
   ],
   "source": [
    "n.Update_lastName()\n"
   ]
  },
  {
   "cell_type": "code",
   "execution_count": 73,
   "metadata": {
    "ExecuteTime": {
     "end_time": "2024-02-02T13:28:28.478134100Z",
     "start_time": "2024-02-02T13:28:28.318822600Z"
    }
   },
   "outputs": [
    {
     "data": {
      "text/plain": [
       "25"
      ]
     },
     "execution_count": 73,
     "metadata": {},
     "output_type": "execute_result"
    }
   ],
   "source": [
    "n.Update_Roll()\n"
   ]
  },
  {
   "cell_type": "code",
   "execution_count": 74,
   "metadata": {
    "ExecuteTime": {
     "end_time": "2024-02-02T13:28:28.479132800Z",
     "start_time": "2024-02-02T13:28:28.413797900Z"
    }
   },
   "outputs": [
    {
     "name": "stdout",
     "output_type": "stream",
     "text": [
      "SakibUl\n",
      "Hossen\n",
      "30\n"
     ]
    }
   ],
   "source": [
    "n.all_func()\n"
   ]
  },
  {
   "cell_type": "code",
   "execution_count": 75,
   "metadata": {
    "ExecuteTime": {
     "end_time": "2024-02-02T13:28:28.558754300Z",
     "start_time": "2024-02-02T13:28:28.478134100Z"
    }
   },
   "outputs": [
    {
     "data": {
      "text/plain": [
       "20"
      ]
     },
     "execution_count": 75,
     "metadata": {},
     "output_type": "execute_result"
    }
   ],
   "source": [
    "n.variables\n"
   ]
  },
  {
   "cell_type": "code",
   "execution_count": 76,
   "metadata": {
    "ExecuteTime": {
     "end_time": "2024-02-02T13:28:28.629749500Z",
     "start_time": "2024-02-02T13:28:28.546135800Z"
    }
   },
   "outputs": [
    {
     "name": "stdout",
     "output_type": "stream",
     "text": [
      "x as a string is: 5.  y as a string is: 6\n"
     ]
    }
   ],
   "source": [
    "x = 5\n",
    "y = 6\n",
    "print(\"x as a string is: %s.  y as a string is: %s\" % (str(x), str(y)))\n"
   ]
  },
  {
   "cell_type": "code",
   "execution_count": 77,
   "metadata": {
    "ExecuteTime": {
     "end_time": "2024-02-02T13:28:28.715118Z",
     "start_time": "2024-02-02T13:28:28.620750300Z"
    }
   },
   "outputs": [
    {
     "data": {
      "text/plain": [
       "'Your fist nameSakibUl Your lastname Khan your roll number 35'"
      ]
     },
     "execution_count": 77,
     "metadata": {},
     "output_type": "execute_result"
    }
   ],
   "source": [
    "n.get_address()\n"
   ]
  },
  {
   "cell_type": "code",
   "execution_count": 78,
   "metadata": {
    "ExecuteTime": {
     "end_time": "2024-02-02T13:28:28.794678800Z",
     "start_time": "2024-02-02T13:28:28.716120500Z"
    }
   },
   "outputs": [
    {
     "data": {
      "text/plain": [
       "'Your first Name SakibUl and 5'"
      ]
     },
     "execution_count": 78,
     "metadata": {},
     "output_type": "execute_result"
    }
   ],
   "source": [
    "n.new_class(5)\n"
   ]
  },
  {
   "cell_type": "code",
   "execution_count": 79,
   "metadata": {
    "ExecuteTime": {
     "end_time": "2024-02-02T13:28:28.903995900Z",
     "start_time": "2024-02-02T13:28:28.797676900Z"
    }
   },
   "outputs": [],
   "source": [
    "class Dog_:\n",
    "    species = \"Canis familiaris\"\n",
    "\n",
    "    def __init__(self, name, age):\n",
    "        self.name = name\n",
    "        self.age = age\n",
    "\n",
    "    def __str__(self):\n",
    "        # def locals(self):\n",
    "        return f\"{self.name} is {self.age} years old\"\n",
    "        # print(f\"{self.name} is {self.age} years old\")\n",
    "\n",
    "    def speak(self, sound):\n",
    "        return f\"{self.name} says {sound}\"\n"
   ]
  },
  {
   "cell_type": "code",
   "execution_count": 80,
   "metadata": {
    "ExecuteTime": {
     "end_time": "2024-02-02T13:28:29.015370200Z",
     "start_time": "2024-02-02T13:28:28.906995900Z"
    }
   },
   "outputs": [],
   "source": [
    "x = Dog_('Romjan', 23)"
   ]
  },
  {
   "cell_type": "code",
   "execution_count": 81,
   "metadata": {
    "ExecuteTime": {
     "end_time": "2024-02-02T13:28:29.154962400Z",
     "start_time": "2024-02-02T13:28:29.017389100Z"
    }
   },
   "outputs": [
    {
     "data": {
      "text/plain": [
       "'Romjan says box'"
      ]
     },
     "execution_count": 81,
     "metadata": {},
     "output_type": "execute_result"
    }
   ],
   "source": [
    "x.speak('box')"
   ]
  },
  {
   "cell_type": "code",
   "execution_count": 82,
   "metadata": {
    "ExecuteTime": {
     "end_time": "2024-02-02T13:28:29.290502100Z",
     "start_time": "2024-02-02T13:28:29.146962700Z"
    }
   },
   "outputs": [
    {
     "data": {
      "text/plain": [
       "'Romjan says box'"
      ]
     },
     "execution_count": 82,
     "metadata": {},
     "output_type": "execute_result"
    }
   ],
   "source": [
    "x.speak('box')"
   ]
  },
  {
   "cell_type": "code",
   "execution_count": 83,
   "metadata": {
    "ExecuteTime": {
     "end_time": "2024-02-02T13:28:29.364227600Z",
     "start_time": "2024-02-02T13:28:29.292500100Z"
    }
   },
   "outputs": [],
   "source": [
    "class class_childe(new_Student):\n",
    "    pass\n",
    "    \n",
    "    x = new_Student('Hassan', 'Molal', 90)\n",
    "    y = Student('Sinfully', 7, 32)\n",
    "    \n",
    "\n",
    "    def __init__(self, roll, class_):\n",
    "        self.roll = roll\n",
    "        self.class_ = class_\n",
    "\n",
    "\n",
    "    def update(self):\n",
    "        self.roll = self.x.Roll\n",
    "        self.class_ =self.y.clsss\n",
    "        return f'Your first Name :- {self.x.Update_fistName()}  class :- {str(self.class_)} roll :- {self.roll} '\n",
    "        \n",
    "\n",
    "    def print_in (self):\n",
    "        print(self.x.Roll)\n",
    "\n",
    "class class_child(Dog_):\n",
    "    pass\n",
    "\n",
    "\n",
    "\n",
    "class class_c(Student):\n",
    "    pass\n",
    "    def __init__(self, name, age):\n",
    "        self.name = name\n",
    "        self.age = age\n",
    "\n",
    "    def __str__(self):\n",
    "        # def locals(self):\n",
    "        return f\"{self.name} is {self.age} years old\"\n"
   ]
  },
  {
   "cell_type": "code",
   "execution_count": null,
   "metadata": {
    "ExecuteTime": {
     "end_time": "2024-02-02T13:28:29.428267600Z",
     "start_time": "2024-02-02T13:28:29.367742400Z"
    }
   },
   "outputs": [
    {
     "ename": "",
     "evalue": "",
     "output_type": "error",
     "traceback": [
      "\u001b[1;31mRunning cells with 'Python 3.12.3' requires the ipykernel package.\n",
      "\u001b[1;31mRun the following command to install 'ipykernel' into the Python environment. \n",
      "\u001b[1;31mCommand: 'd:/Python/python.exe -m pip install ipykernel -U --user --force-reinstall'"
     ]
    }
   ],
   "source": [
    "a = class_child('Hasanat', 20)\n",
    "\n",
    "# a.age\n",
    "# a.name\n",
    "# a.speak('HetPhone')\n",
    "# a.species\n"
   ]
  },
  {
   "cell_type": "code",
   "execution_count": 85,
   "metadata": {
    "ExecuteTime": {
     "end_time": "2024-02-02T13:28:29.507302Z",
     "start_time": "2024-02-02T13:28:29.430267Z"
    }
   },
   "outputs": [],
   "source": [
    "b = class_childe( 'Misc' 'Hassan', 90)\n",
    "\n",
    "c =  class_childe('Sinfully', 7)\n",
    "\n"
   ]
  },
  {
   "cell_type": "code",
   "execution_count": 86,
   "metadata": {
    "ExecuteTime": {
     "end_time": "2024-02-02T13:28:29.603130700Z",
     "start_time": "2024-02-02T13:28:29.510299700Z"
    }
   },
   "outputs": [
    {
     "data": {
      "text/plain": [
       "90"
      ]
     },
     "execution_count": 86,
     "metadata": {},
     "output_type": "execute_result"
    }
   ],
   "source": [
    "c.x.Roll\n"
   ]
  },
  {
   "cell_type": "code",
   "execution_count": 87,
   "metadata": {
    "ExecuteTime": {
     "end_time": "2024-02-02T13:28:29.697706500Z",
     "start_time": "2024-02-02T13:28:29.604131300Z"
    }
   },
   "outputs": [
    {
     "data": {
      "text/plain": [
       "7"
      ]
     },
     "execution_count": 87,
     "metadata": {},
     "output_type": "execute_result"
    }
   ],
   "source": [
    "c.class_\n"
   ]
  },
  {
   "cell_type": "code",
   "execution_count": null,
   "metadata": {
    "ExecuteTime": {
     "end_time": "2024-02-02T13:28:29.820794300Z",
     "start_time": "2024-02-02T13:28:29.698706500Z"
    }
   },
   "outputs": [
    {
     "ename": "",
     "evalue": "",
     "output_type": "error",
     "traceback": [
      "\u001b[1;31mRunning cells with 'Python 3.12.3' requires the ipykernel package.\n",
      "\u001b[1;31mRun the following command to install 'ipykernel' into the Python environment. \n",
      "\u001b[1;31mCommand: 'd:/Python/python.exe -m pip install ipykernel -U --user --force-reinstall'"
     ]
    }
   ],
   "source": [
    "b.all_func()\n",
    "\n",
    "\n",
    "\n",
    "\n"
   ]
  },
  {
   "cell_type": "code",
   "execution_count": null,
   "metadata": {
    "ExecuteTime": {
     "end_time": "2024-02-02T13:28:29.831805800Z",
     "start_time": "2024-02-02T13:28:29.825793700Z"
    }
   },
   "outputs": [],
   "source": [
    "x = Dog('Romjan', 23)\n"
   ]
  },
  {
   "cell_type": "code",
   "execution_count": null,
   "metadata": {
    "ExecuteTime": {
     "start_time": "2024-02-02T13:28:29.829796400Z"
    }
   },
   "outputs": [],
   "source": [
    "\n",
    "\n",
    "\n",
    "isinstance(x,Dog)"
   ]
  },
  {
   "cell_type": "code",
   "execution_count": null,
   "metadata": {
    "ExecuteTime": {
     "end_time": "2024-02-02T13:28:29.915030300Z",
     "start_time": "2024-02-02T13:28:29.834797800Z"
    }
   },
   "outputs": [],
   "source": [
    "isinstance(a,Dog)"
   ]
  },
  {
   "cell_type": "code",
   "execution_count": null,
   "metadata": {
    "ExecuteTime": {
     "start_time": "2024-02-02T13:28:29.838794700Z"
    }
   },
   "outputs": [],
   "source": [
    "type(x)"
   ]
  },
  {
   "cell_type": "code",
   "execution_count": null,
   "metadata": {
    "ExecuteTime": {
     "start_time": "2024-02-02T13:28:29.844796700Z"
    }
   },
   "outputs": [],
   "source": [
    "\n",
    "\n",
    "# class Animal:\n",
    "#   def __init__(self, Animal):\n",
    "#     print(Animal, 'is an animal.');\n",
    "\n",
    "\n",
    "\n",
    "# class Mammal(Animal):\n",
    "#   def __init__(self, mammalName):\n",
    "#     print(mammalName, 'is a warm-blooded animal.')\n",
    "#     super().__init__(mammalName)\n",
    "    \n",
    "# class NonWingedMammal(Mammal):\n",
    "#   def __init__(self, NonWingedMammal):\n",
    "#     print(NonWingedMammal, \"can't fly.\")\n",
    "#     super().__init__(NonWingedMammal)\n",
    "\n",
    "# class NonMarineMammal(Mammal):\n",
    "#   def __init__(self, NonMarineMammal):\n",
    "#     print(NonMarineMammal, \"can't swim.\")\n",
    "#     super().__init__(NonMarineMammal)\n",
    "\n",
    "# class Dog(NonMarineMammal, NonWingedMammal):\n",
    "#   def __init__(self):\n",
    "#     print('Dog has 4 legs.');\n",
    "#     super().__init__('Dog')\n",
    "    \n",
    "# d = Dog()\n",
    "# print('')\n",
    "# bat = NonMarineMammal('Bat')\n",
    "\n",
    "\n"
   ]
  },
  {
   "cell_type": "code",
   "execution_count": null,
   "metadata": {
    "ExecuteTime": {
     "start_time": "2024-02-02T13:28:29.849794400Z"
    }
   },
   "outputs": [],
   "source": [
    "class opp (object):\n",
    "    def __init__(self,name):\n",
    "        print('Name : -',name)\n",
    "        super(opp).__init__()\n",
    "        print('inharit')\n",
    "\n",
    "class sup(opp):\n",
    "    \n",
    "    def __init__(self): \n",
    "        \n",
    "        print('super class call')\n",
    "        super().__init__('Romjan')\n",
    "        super().__init__('Sotter')\n",
    "        super().__init__('Robin')\n",
    "        \n",
    "\n",
    "\n",
    "\n",
    "x = opp('Kiddos')\n",
    "\n",
    "y = sup()\n",
    "\n",
    "y"
   ]
  },
  {
   "cell_type": "code",
   "execution_count": null,
   "metadata": {
    "ExecuteTime": {
     "start_time": "2024-02-02T13:28:29.860986900Z"
    }
   },
   "outputs": [],
   "source": [
    "class Rectangle:\n",
    "    def __init__(self, length, width,hight):\n",
    "        \n",
    "        self.length = length\n",
    "        self.width = width\n",
    "        self.hight = hight\n",
    "        print(self.length,'length')\n",
    "        print(width,'width')\n",
    "        print(hight,'higth')\n",
    "    def area(self):\n",
    "        print(self.length * self.width * self.hight)\n",
    "        return self.length * self.width * self.hight\n",
    "\n",
    "    def perimeter(self):\n",
    "        return 2 * self.length + 2 * self.width\n",
    "\n",
    "# Here we declare that the Square class inherits from the Rectangle class\n",
    "class Square(Rectangle):\n",
    "    def __init__(self, length):\n",
    "        print(self, length)\n",
    "        super().__init__(length,length,length )"
   ]
  },
  {
   "cell_type": "code",
   "execution_count": null,
   "metadata": {
    "ExecuteTime": {
     "start_time": "2024-02-02T13:28:29.867505300Z"
    }
   },
   "outputs": [],
   "source": [
    "x = Square(3)\n",
    "\n",
    "\n",
    "x.area()\n",
    "\n"
   ]
  },
  {
   "cell_type": "code",
   "execution_count": null,
   "metadata": {
    "ExecuteTime": {
     "start_time": "2024-02-02T13:28:29.872505400Z"
    }
   },
   "outputs": [],
   "source": [
    "class Mammal(object):\n",
    "  def __init__(self, mammalName):\n",
    "    print(mammalName, 'is a warm-blooded animal.')\n",
    "    \n",
    "class Dog(Mammal):\n",
    "  def __init__(self):\n",
    "    print('Dog has four legs.')\n",
    "    super().__init__('Dog')\n",
    "    \n",
    "d1 = Dog()"
   ]
  },
  {
   "cell_type": "code",
   "execution_count": 89,
   "metadata": {
    "ExecuteTime": {
     "end_time": "2024-02-02T13:28:45.425798100Z",
     "start_time": "2024-02-02T13:28:45.409596200Z"
    }
   },
   "outputs": [
    {
     "name": "stdout",
     "output_type": "stream",
     "text": [
      "Drawing.  Setting color to: blue\n",
      "Drawing.  Setting shape to: square\n",
      "hello\n"
     ]
    }
   ],
   "source": [
    "class Root:\n",
    "    def draw(self):\n",
    "        # the delegation chain stops here\n",
    "\n",
    "        \n",
    "        #chake arror\n",
    "        # assert not hasattr( super(),'draw')\n",
    "        print('hello')\n",
    "\n",
    "class Shape(Root):\n",
    "    def __init__(self, safe_name, **kwds):\n",
    "        self.safe_name = safe_name\n",
    "        super().__init__(**kwds)\n",
    "    def draw(self):\n",
    "        print('Drawing.  Setting shape to:', self.safe_name)\n",
    "        super().draw()\n",
    "\n",
    "class ColoredShape(Shape):\n",
    "    def __init__(self, color, **kwds):\n",
    "        self.color = color\n",
    "        super().__init__(**kwds)\n",
    "    def draw(self):\n",
    "        print('Drawing.  Setting color to:', self.color)\n",
    "        super().draw()\n",
    "\n",
    "cs = ColoredShape(color='blue', safe_name='square')\n",
    "# cs.draw()\n",
    "\n",
    "cs.draw()\n"
   ]
  },
  {
   "cell_type": "code",
   "execution_count": null,
   "metadata": {
    "ExecuteTime": {
     "start_time": "2024-02-02T13:28:29.879507400Z"
    }
   },
   "outputs": [],
   "source": [
    "x = \"hello\"\n",
    "\n",
    "#if condition returns False, AssertionError is raised:\n",
    "assert x == \"goodbye\", \"x should be 'hello'\"\n"
   ]
  },
  {
   "cell_type": "code",
   "execution_count": null,
   "metadata": {
    "ExecuteTime": {
     "start_time": "2024-02-02T13:28:29.882507800Z"
    }
   },
   "outputs": [],
   "source": [
    "class Person:\n",
    "  name = \"John\"\n",
    "  age = 36\n",
    "  country = \"Norway\"\n",
    "\n",
    "x = hasattr(Person, 'age')\n",
    "\n",
    "print(x)\n"
   ]
  },
  {
   "cell_type": "code",
   "execution_count": null,
   "metadata": {
    "ExecuteTime": {
     "start_time": "2024-02-02T13:28:29.885504900Z"
    }
   },
   "outputs": [],
   "source": [
    "class Parent:\n",
    "  def __init__(self, txt):\n",
    "    self.message = txt\n",
    "\n",
    "  def print_usage(self):\n",
    "    print(self.message)\n",
    "\n",
    "class Child(Parent):\n",
    "  def __init__(self, txt):\n",
    "    super().__init__(txt)\n",
    "\n",
    "x = Child(\"Hello, and welcome!\")\n",
    "\n",
    "x.print_usage()\n",
    "\n",
    "\n"
   ]
  },
  {
   "cell_type": "code",
   "execution_count": 100,
   "metadata": {
    "ExecuteTime": {
     "end_time": "2024-02-02T15:33:18.843656500Z",
     "start_time": "2024-02-02T15:33:18.812141300Z"
    },
    "collapsed": false
   },
   "outputs": [
    {
     "ename": "TypeError",
     "evalue": "__init__() missing 1 required positional argument: 'lastName'",
     "output_type": "error",
     "traceback": [
      "\u001b[1;31m---------------------------------------------------------------------------\u001b[0m",
      "\u001b[1;31mTypeError\u001b[0m                                 Traceback (most recent call last)",
      "Cell \u001b[1;32mIn[100], line 17\u001b[0m\n\u001b[0;32m     12\u001b[0m     \u001b[38;5;28;01mdef\u001b[39;00m \u001b[38;5;21m__init__\u001b[39m(\u001b[38;5;28mself\u001b[39m,first_name,lastName):\n\u001b[0;32m     13\u001b[0m         \u001b[38;5;28msuper\u001b[39m\u001b[38;5;241m.\u001b[39m\u001b[38;5;21m__init__\u001b[39m(first_name,lastName)\n\u001b[1;32m---> 17\u001b[0m x \u001b[38;5;241m=\u001b[39m \u001b[43mUserAddress\u001b[49m\u001b[43m(\u001b[49m\u001b[38;5;124;43m\"\u001b[39;49m\u001b[38;5;124;43mAzimul\u001b[39;49m\u001b[38;5;124;43m\"\u001b[39;49m\u001b[43m)\u001b[49m\n\u001b[0;32m     19\u001b[0m x\n",
      "\u001b[1;31mTypeError\u001b[0m: __init__() missing 1 required positional argument: 'lastName'"
     ]
    }
   ],
   "source": [
    "class Address(object):\n",
    "    def __init__(self, first_name, lastName):\n",
    "        self.first_name = first_name\n",
    "        self.lastName = lastName\n",
    "        \n",
    "    \n",
    "    def fullName(self):\n",
    "        print(self.first_name+self.lastName)\n",
    "        \n",
    " \n",
    "class  UserAddress(Address):\n",
    "    def __init__(self,first_name,lastName):\n",
    "        super.__init__(first_name,lastName)\n",
    "\n",
    "\n",
    "\n",
    "x = UserAddress(\"Aimful\", 'Islam')\n",
    "\n",
    "x\n",
    "        \n",
    "       "
   ]
  }
 ],
 "metadata": {
  "interpreter": {
   "hash": "f8b40d688a12481f01eadf7380c47edd8a49484a47dba3db091451640e880c68"
  },
  "kernelspec": {
   "display_name": "Python 3.8.8 ('base')",
   "language": "python",
   "name": "python3"
  },
  "language_info": {
   "codemirror_mode": {
    "name": "ipython",
    "version": 3
   },
   "file_extension": ".py",
   "mimetype": "text/x-python",
   "name": "python",
   "nbconvert_exporter": "python",
   "pygments_lexer": "ipython3",
   "version": "3.12.3"
  },
  "orig_nbformat": 4
 },
 "nbformat": 4,
 "nbformat_minor": 2
}
