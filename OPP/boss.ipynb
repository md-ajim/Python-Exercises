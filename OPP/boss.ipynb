{
 "cells": [
  {
   "cell_type": "code",
   "execution_count": 1,
   "metadata": {},
   "outputs": [
    {
     "name": "stdout",
     "output_type": "stream",
     "text": [
      "This is a consutor\n"
     ]
    },
    {
     "data": {
      "text/plain": [
       "9536743164062500000000000000000000"
      ]
     },
     "execution_count": 1,
     "metadata": {},
     "output_type": "execute_result"
    }
   ],
   "source": [
    "\n",
    "class From():\n",
    "    x = 10\n",
    "    def __init__(self):\n",
    "        pass\n",
    "    \n",
    "    def local(self):\n",
    "        print('This is a consutor')\n",
    "        \n",
    "    def increase(self,z):\n",
    "        self.x = self.x + z\n",
    "    \n",
    "    def prints(self):\n",
    "        return self.x\n",
    "        \n",
    "    def NewFunc(self):\n",
    "        self.m = 50\n",
    "        self.x = self.m ** self.x\n",
    "        return self.x\n",
    "     \n",
    "    def returns(self):\n",
    "        return self.x       \n",
    "    \n",
    "y = From()   \n",
    "y.local() \n",
    "y.increase(10)\n",
    "y.prints()    \n",
    "y.NewFunc()\n",
    "            \n",
    "            \n",
    "    "
   ]
  },
  {
   "cell_type": "code",
   "execution_count": 3,
   "metadata": {
    "ExecuteTime": {
     "end_time": "2024-02-02T13:01:11.871008600Z",
     "start_time": "2024-02-02T13:01:11.844009Z"
    }
   },
   "outputs": [
    {
     "name": "stdout",
     "output_type": "stream",
     "text": [
      "This is a consumer\n"
     ]
    },
    {
     "data": {
      "text/plain": [
       "25"
      ]
     },
     "execution_count": 3,
     "metadata": {},
     "output_type": "execute_result"
    }
   ],
   "source": [
    "\n",
    "class From():\n",
    "    \n",
    "    x = 10 \n",
    "    def __init__(self,v):\n",
    "        \n",
    "        self.x = self.x = v\n",
    "        \n",
    "    def local(self):\n",
    "        print('This is a consumer')\n",
    "        \n",
    "    def increase(self,z):\n",
    "        self.x = self.x + z\n",
    "    \n",
    "    def prints(self):\n",
    "        \n",
    "        return  self.x\n",
    "        \n",
    "        \n",
    "    \n",
    "y = From(15)   \n",
    "y.local() \n",
    "y.increase(10)\n",
    "y.prints()    \n",
    "            \n",
    "            "
   ]
  },
  {
   "cell_type": "code",
   "execution_count": null,
   "metadata": {},
   "outputs": [],
   "source": [
    "\n"
   ]
  }
 ],
 "metadata": {
  "interpreter": {
   "hash": "6070b739bda494cd05c55c4dd1fefe4bc7f51a70f6d608882e1910222e9cc2a3"
  },
  "kernelspec": {
   "display_name": "Python 3 (ipykernel)",
   "language": "python",
   "name": "python3"
  },
  "language_info": {
   "codemirror_mode": {
    "name": "ipython",
    "version": 3
   },
   "file_extension": ".py",
   "mimetype": "text/x-python",
   "name": "python",
   "nbconvert_exporter": "python",
   "pygments_lexer": "ipython3",
   "version": "3.12.3"
  },
  "orig_nbformat": 4
 },
 "nbformat": 4,
 "nbformat_minor": 2
}
