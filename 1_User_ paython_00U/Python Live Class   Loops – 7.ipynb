{
 "cells": [
  {
   "cell_type": "code",
   "execution_count": 11,
   "id": "23e3048c",
   "metadata": {},
   "outputs": [
    {
     "name": "stdout",
     "output_type": "stream",
     "text": [
      "Enter a number 10\n",
      "your jog fol  56\n"
     ]
    }
   ],
   "source": [
    "\n",
    "N = int(input('Enter a number '))\n",
    "\n",
    "Sum = 1\n",
    "i = 0\n",
    "while i<N:\n",
    "    \n",
    "    i += 1\n",
    "    Sum = Sum + i\n",
    "print('your jog fol ', Sum)\n",
    " \n",
    "   \n",
    "          \n",
    "            \n",
    "\n"
   ]
  },
  {
   "cell_type": "code",
   "execution_count": 1,
   "id": "ab4bcb0e",
   "metadata": {},
   "outputs": [
    {
     "name": "stdout",
     "output_type": "stream",
     "text": [
      "Enter a loop row number 10\n",
      "0 1 2 3 4 5 6 7 8 9 10 \n",
      "0 1 2 3 4 5 6 7 8 9 \n",
      "0 1 2 3 4 5 6 7 8 \n",
      "0 1 2 3 4 5 6 7 \n",
      "0 1 2 3 4 5 6 \n",
      "0 1 2 3 4 5 \n",
      "0 1 2 3 4 \n",
      "0 1 2 3 \n",
      "0 1 2 \n",
      "0 1 \n"
     ]
    }
   ],
   "source": [
    "\n",
    "x = int(input('Enter a loop row number '))\n",
    "\n",
    "i = x\n",
    "while i > 0:\n",
    "    j = 0   \n",
    "    while j <= i:\n",
    "        print(j,end =' ')\n",
    "        j+=1\n",
    "    i -=1 \n",
    "    print('')\n",
    "    \n",
    "   \n",
    "   \n",
    "         \n",
    "      \n",
    "\n",
    "\n",
    "             "
   ]
  },
  {
   "cell_type": "code",
   "execution_count": 2,
   "id": "5e4f90f3",
   "metadata": {},
   "outputs": [
    {
     "ename": "SyntaxError",
     "evalue": "invalid syntax (<ipython-input-2-4a1c26aaa278>, line 5)",
     "output_type": "error",
     "traceback": [
      "\u001b[1;36m  File \u001b[1;32m\"<ipython-input-2-4a1c26aaa278>\"\u001b[1;36m, line \u001b[1;32m5\u001b[0m\n\u001b[1;33m    print(j end ='')\u001b[0m\n\u001b[1;37m            ^\u001b[0m\n\u001b[1;31mSyntaxError\u001b[0m\u001b[1;31m:\u001b[0m invalid syntax\n"
     ]
    }
   ],
   "source": [
    "x = int(input('Enter a loop row number '))\n",
    "\n",
    "for i in x:\n",
    "    \n",
    "    for j in i reng\n",
    "        \n",
    "        print(j end ='')\n",
    "         "
   ]
  },
  {
   "cell_type": "code",
   "execution_count": 3,
   "id": "708fb2fc",
   "metadata": {},
   "outputs": [
    {
     "name": "stdout",
     "output_type": "stream",
     "text": [
      "Enter a loop row number 10\n",
      "0\n",
      "01\n",
      "012\n",
      "0123\n",
      "01234\n",
      "012345\n",
      "0123456\n",
      "01234567\n",
      "012345678\n",
      "0123456789\n",
      "012345678910\n"
     ]
    }
   ],
   "source": [
    "\n",
    "x = int(input('Enter a loop row number '))\n",
    "\n",
    "i = 0\n",
    "\n",
    "while i <= x:\n",
    "    j = 0\n",
    "    while j <= i:\n",
    "        print(j, end ='')\n",
    "        j += 1\n",
    "        \n",
    "    i += 1\n",
    "    print('')\n",
    "       \n",
    "    \n"
   ]
  },
  {
   "cell_type": "code",
   "execution_count": 29,
   "id": "e07818f8",
   "metadata": {},
   "outputs": [
    {
     "name": "stdout",
     "output_type": "stream",
     "text": [
      "Enter a number10\n",
      "0\n",
      "0 1\n",
      "0 1 2\n",
      "0 1 2 3\n",
      "0 1 2 3 4\n",
      "0 1 2 3 4 5\n",
      "0 1 2 3 4 5 6\n",
      "0 1 2 3 4 5 6 7\n",
      "0 1 2 3 4 5 6 7 8\n",
      "0 1 2 3 4 5 6 7 8 9\n",
      "0 1 2 3 4 5 6 7 8 9 10\n",
      "0 1 2 3 4 5 6 7 8 9 10 "
     ]
    }
   ],
   "source": [
    "n = int(input('Enter a number'))\n",
    "\n",
    "for x in range(0, n+1):\n",
    "    print(x)\n",
    "    for i in range(0,x+1):\n",
    "        print(i, end=' ')\n",
    "      \n",
    "         \n",
    "\n",
    "\n"
   ]
  },
  {
   "cell_type": "code",
   "execution_count": 2,
   "id": "3dc690b5",
   "metadata": {},
   "outputs": [
    {
     "name": "stdout",
     "output_type": "stream",
     "text": [
      "Enter a number10\n"
     ]
    }
   ],
   "source": [
    "n = int(input('Enter a number'))\n",
    "\n",
    "for x in range(1,n,-1):\n",
    "    print(x)\n",
    "    for i in range(1,i):\n",
    "        print(i, end=' ')\n",
    "      \n",
    "         "
   ]
  },
  {
   "cell_type": "code",
   "execution_count": 4,
   "id": "19b5159c",
   "metadata": {},
   "outputs": [
    {
     "name": "stdout",
     "output_type": "stream",
     "text": [
      "Enter a number10\n"
     ]
    },
    {
     "ename": "NameError",
     "evalue": "name 'i' is not defined",
     "output_type": "error",
     "traceback": [
      "\u001b[1;31m---------------------------------------------------------------------------\u001b[0m",
      "\u001b[1;31mNameError\u001b[0m                                 Traceback (most recent call last)",
      "\u001b[1;32m<ipython-input-4-03f9fc599864>\u001b[0m in \u001b[0;36m<module>\u001b[1;34m\u001b[0m\n\u001b[0;32m      2\u001b[0m \u001b[1;33m\u001b[0m\u001b[0m\n\u001b[0;32m      3\u001b[0m \u001b[1;32mfor\u001b[0m \u001b[0mx\u001b[0m \u001b[1;32min\u001b[0m \u001b[0mrange\u001b[0m\u001b[1;33m(\u001b[0m\u001b[1;36m1\u001b[0m\u001b[1;33m,\u001b[0m\u001b[0mn\u001b[0m\u001b[1;33m)\u001b[0m\u001b[1;33m:\u001b[0m\u001b[1;33m\u001b[0m\u001b[1;33m\u001b[0m\u001b[0m\n\u001b[1;32m----> 4\u001b[1;33m     \u001b[1;32mfor\u001b[0m \u001b[0mi\u001b[0m \u001b[1;32min\u001b[0m \u001b[0mrange\u001b[0m\u001b[1;33m(\u001b[0m\u001b[0mi\u001b[0m\u001b[1;33m,\u001b[0m\u001b[0mn\u001b[0m\u001b[1;33m)\u001b[0m\u001b[1;33m:\u001b[0m\u001b[1;33m\u001b[0m\u001b[1;33m\u001b[0m\u001b[0m\n\u001b[0m\u001b[0;32m      5\u001b[0m         \u001b[0mprint\u001b[0m\u001b[1;33m(\u001b[0m\u001b[0mi\u001b[0m\u001b[1;33m,\u001b[0m\u001b[0mend\u001b[0m\u001b[1;33m=\u001b[0m\u001b[1;34m''\u001b[0m\u001b[1;33m)\u001b[0m\u001b[1;33m\u001b[0m\u001b[1;33m\u001b[0m\u001b[0m\n\u001b[0;32m      6\u001b[0m     \u001b[0mprint\u001b[0m\u001b[1;33m(\u001b[0m\u001b[1;34m''\u001b[0m\u001b[1;33m)\u001b[0m\u001b[1;33m\u001b[0m\u001b[1;33m\u001b[0m\u001b[0m\n",
      "\u001b[1;31mNameError\u001b[0m: name 'i' is not defined"
     ]
    }
   ],
   "source": [
    "n = int(input('Enter a number'))\n",
    "\n",
    "for x in range(1,n):\n",
    "    for i in range(i,n):\n",
    "        print(i,end='')\n",
    "    print('')   "
   ]
  },
  {
   "cell_type": "code",
   "execution_count": null,
   "id": "a35e1aab",
   "metadata": {},
   "outputs": [],
   "source": []
  }
 ],
 "metadata": {
  "kernelspec": {
   "display_name": "Python 3",
   "language": "python",
   "name": "python3"
  },
  "language_info": {
   "codemirror_mode": {
    "name": "ipython",
    "version": 3
   },
   "file_extension": ".py",
   "mimetype": "text/x-python",
   "name": "python",
   "nbconvert_exporter": "python",
   "pygments_lexer": "ipython3",
   "version": "3.8.8"
  }
 },
 "nbformat": 4,
 "nbformat_minor": 5
}
