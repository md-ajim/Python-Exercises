{
 "cells": [
  {
   "cell_type": "code",
   "execution_count": 12,
   "id": "0e4ba856",
   "metadata": {},
   "outputs": [
    {
     "ename": "SyntaxError",
     "evalue": "unexpected EOF while parsing (<ipython-input-12-e30b0733a4a4>, line 36)",
     "output_type": "error",
     "traceback": [
      "\u001b[1;36m  File \u001b[1;32m\"<ipython-input-12-e30b0733a4a4>\"\u001b[1;36m, line \u001b[1;32m36\u001b[0m\n\u001b[1;33m    \u001b[0m\n\u001b[1;37m    ^\u001b[0m\n\u001b[1;31mSyntaxError\u001b[0m\u001b[1;31m:\u001b[0m unexpected EOF while parsing\n"
     ]
    }
   ],
   "source": [
    "import math\n",
    "\n",
    "\n",
    "\n",
    "x,y = input().split()\n",
    "\n",
    "Int = int(x)\n",
    "\n",
    "Flot = float(y)\n",
    "\n",
    "x = (30 * math.pi)/180\n",
    "\n",
    "if (x>0):\n",
    "    \n",
    "    print(x)\n",
    "\n",
    "elif(y ==1):\n",
    "    \n",
    "     print(math.tan(y))\n",
    "\n",
    "elif(y==2):\n",
    "    \n",
    "     print(math.cot(y))\n",
    "elif(y==3):\n",
    "    \n",
    "     print(y/ math.sec(y))\n",
    "elif(y==4):\n",
    "    \n",
    "    print(y/math.cosec(y))\n",
    "    \n",
    "elif(y==5):\n",
    "    \n",
    "    print(math.cos(y)\n",
    "          \n",
    "   \n",
    "\n"
   ]
  },
  {
   "cell_type": "code",
   "execution_count": null,
   "id": "51a8896c",
   "metadata": {},
   "outputs": [],
   "source": []
  }
 ],
 "metadata": {
  "kernelspec": {
   "display_name": "Python 3",
   "language": "python",
   "name": "python3"
  },
  "language_info": {
   "codemirror_mode": {
    "name": "ipython",
    "version": 3
   },
   "file_extension": ".py",
   "mimetype": "text/x-python",
   "name": "python",
   "nbconvert_exporter": "python",
   "pygments_lexer": "ipython3",
   "version": "3.8.10"
  }
 },
 "nbformat": 4,
 "nbformat_minor": 5
}
