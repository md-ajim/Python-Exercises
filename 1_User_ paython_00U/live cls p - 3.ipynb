{
 "cells": [
  {
   "cell_type": "code",
   "execution_count": 7,
   "id": "7e2af4f1",
   "metadata": {},
   "outputs": [
    {
     "ename": "IndentationError",
     "evalue": "unexpected indent (<ipython-input-7-86bb3ef23d12>, line 17)",
     "output_type": "error",
     "traceback": [
      "\u001b[1;36m  File \u001b[1;32m\"<ipython-input-7-86bb3ef23d12>\"\u001b[1;36m, line \u001b[1;32m17\u001b[0m\n\u001b[1;33m    print(x)\u001b[0m\n\u001b[1;37m    ^\u001b[0m\n\u001b[1;31mIndentationError\u001b[0m\u001b[1;31m:\u001b[0m unexpected indent\n"
     ]
    }
   ],
   "source": [
    "b, x =  input().split()\n",
    "\n",
    "x = int(x)\n",
    "\n",
    "b = float(b)\n",
    "\n",
    "c = ( b * math.pi) /180\n",
    "\n",
    "if (x ==1):\n",
    "    \n",
    "    x = math.sin(c)\n",
    "    print(x)\n",
    "    \n",
    "elif(x==2):\n",
    "    \n",
    "    x = cos(c)\n",
    "       print(x)\n",
    "    \n",
    "elif(x==3):\n",
    "    \n",
    "    \n",
    "    x = 1 / tan(c)\n",
    "       print(x)\n",
    "    \n",
    "elif(x==4):\n",
    "    \n",
    "    x = 1 / sec(c)\n",
    "       print(x)\n",
    "    \n",
    "elif(x ==5): \n",
    "    \n",
    "    x = 1 / cosec(c)\n",
    "       print(x)\n",
    "        \n",
    "        \n",
    "else:\n",
    "    \n",
    "    print('worng enter a cruuent number')"
   ]
  },
  {
   "cell_type": "code",
   "execution_count": null,
   "id": "52a20b8c",
   "metadata": {},
   "outputs": [],
   "source": []
  }
 ],
 "metadata": {
  "kernelspec": {
   "display_name": "Python 3",
   "language": "python",
   "name": "python3"
  },
  "language_info": {
   "codemirror_mode": {
    "name": "ipython",
    "version": 3
   },
   "file_extension": ".py",
   "mimetype": "text/x-python",
   "name": "python",
   "nbconvert_exporter": "python",
   "pygments_lexer": "ipython3",
   "version": "3.8.8"
  }
 },
 "nbformat": 4,
 "nbformat_minor": 5
}
