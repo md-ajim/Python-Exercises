{
 "cells": [
  {
   "cell_type": "code",
   "execution_count": 2,
   "id": "e830fde8",
   "metadata": {},
   "outputs": [
    {
     "name": "stdout",
     "output_type": "stream",
     "text": [
      "Enter a namber: 5\n",
      "Enter a namber: 10\n",
      "125\n"
     ]
    }
   ],
   "source": [
    "x = int(input(\"Enter a namber: \" ))\n",
    "\n",
    "c = int(input(\"Enter a namber: \"))\n",
    "\n",
    "\n",
    "print(x * x + c * c ) # x^2 + c^c parinting\n",
    "\n",
    "\n",
    "\n"
   ]
  },
  {
   "cell_type": "code",
   "execution_count": 5,
   "id": "eeb56844",
   "metadata": {},
   "outputs": [
    {
     "name": "stdout",
     "output_type": "stream",
     "text": [
      "B a n g l a d e s h\n",
      "h s e d a l g n a B\n"
     ]
    }
   ],
   "source": [
    "\n",
    "\n",
    "\n",
    "\n",
    "x = \"Bangladesh\"\n",
    "\n",
    "x[0]\n",
    "\n",
    "\n",
    "\n",
    "print(x[0], x[1], x[2],x[3], x[4], x[5], x[6], x[7], x[8], x[9]) #   strincg ar cerictir gulo ber kore anlam arry system kore\n",
    "\n",
    "print(x[-1], x[-2],  x[-3], x[-4], x[-5], x[-6], x[-7], x[-8], x[-9], x[-10]) # alhamdulla str ar charat gulo ber kore anlam\n",
    "\n"
   ]
  },
  {
   "cell_type": "code",
   "execution_count": null,
   "id": "128be83e",
   "metadata": {},
   "outputs": [],
   "source": []
  },
  {
   "cell_type": "code",
   "execution_count": 15,
   "id": "d022140e",
   "metadata": {},
   "outputs": [
    {
     "name": "stdout",
     "output_type": "stream",
     "text": [
      "a2bu514554l\n"
     ]
    }
   ],
   "source": [
    "\n",
    "\n",
    "x = input ()\n",
    "\n",
    "\n"
   ]
  },
  {
   "cell_type": "code",
   "execution_count": 17,
   "id": "309cdfc8",
   "metadata": {},
   "outputs": [
    {
     "name": "stdout",
     "output_type": "stream",
     "text": [
      "abul\n"
     ]
    }
   ],
   "source": [
    "print(x[0]+ x[2]+ x[3]+ x[10])"
   ]
  },
  {
   "cell_type": "code",
   "execution_count": null,
   "id": "c59aa4ee",
   "metadata": {},
   "outputs": [],
   "source": []
  }
 ],
 "metadata": {
  "kernelspec": {
   "display_name": "Python 3",
   "language": "python",
   "name": "python3"
  },
  "language_info": {
   "codemirror_mode": {
    "name": "ipython",
    "version": 3
   },
   "file_extension": ".py",
   "mimetype": "text/x-python",
   "name": "python",
   "nbconvert_exporter": "python",
   "pygments_lexer": "ipython3",
   "version": "3.8.8"
  }
 },
 "nbformat": 4,
 "nbformat_minor": 5
}
