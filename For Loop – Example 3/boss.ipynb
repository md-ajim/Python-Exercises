{
 "cells": [
  {
   "cell_type": "code",
   "execution_count": 17,
   "source": [
    "\r\n",
    "x = int(input('Enter a number'))\r\n",
    "\r\n",
    "ind =1\r\n",
    "for I in range(2,x):\r\n",
    "    \r\n",
    "    if x%I==0:\r\n",
    "        print('Not a prime' , )\r\n",
    "        ind =0\r\n",
    "        break\r\n",
    "         \r\n",
    "    if  ind==1:\r\n",
    "        print('prime',)   \r\n",
    "        break"
   ],
   "outputs": [],
   "metadata": {}
  },
  {
   "cell_type": "code",
   "execution_count": null,
   "source": [],
   "outputs": [],
   "metadata": {}
  },
  {
   "cell_type": "code",
   "execution_count": null,
   "source": [],
   "outputs": [],
   "metadata": {}
  }
 ],
 "metadata": {
  "orig_nbformat": 4,
  "language_info": {
   "name": "python",
   "version": "3.8.8",
   "mimetype": "text/x-python",
   "codemirror_mode": {
    "name": "ipython",
    "version": 3
   },
   "pygments_lexer": "ipython3",
   "nbconvert_exporter": "python",
   "file_extension": ".py"
  },
  "kernelspec": {
   "name": "python3",
   "display_name": "Python 3.8.8 64-bit ('base': conda)"
  },
  "interpreter": {
   "hash": "6070b739bda494cd05c55c4dd1fefe4bc7f51a70f6d608882e1910222e9cc2a3"
  }
 },
 "nbformat": 4,
 "nbformat_minor": 2
}