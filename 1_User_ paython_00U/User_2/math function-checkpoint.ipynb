{
 "cells": [
  {
   "cell_type": "code",
   "execution_count": 1,
   "id": "a97d3f4e",
   "metadata": {},
   "outputs": [
    {
     "name": "stdout",
     "output_type": "stream",
     "text": [
      "2.718281828459045\n",
      "inf\n",
      "nan\n",
      "3.141592653589793\n",
      "6.283185307179586\n"
     ]
    }
   ],
   "source": [
    "import math\n",
    "\n",
    "c = math.e\n",
    "print(c)\n",
    "\n",
    "\n",
    "print(math.inf ) \n",
    "\n",
    "print(math.nan\t)\n",
    "\n",
    "print(math.pi\t)\n",
    "\n",
    "print(math.tau\t)"
   ]
  },
  {
   "cell_type": "code",
   "execution_count": 9,
   "id": "34138773",
   "metadata": {},
   "outputs": [
    {
     "name": "stdout",
     "output_type": "stream",
     "text": [
      "4\n"
     ]
    }
   ],
   "source": [
    "import math\n",
    "\n",
    "m = math.ceil(3.5)\n",
    "\n",
    "print(m)\n",
    "\n"
   ]
  },
  {
   "cell_type": "code",
   "execution_count": 24,
   "id": "335d18e5",
   "metadata": {},
   "outputs": [
    {
     "name": "stdout",
     "output_type": "stream",
     "text": [
      "3.556\n",
      "0.5235987755982989\n",
      "0.5235987755982988\n"
     ]
    }
   ],
   "source": [
    "\n",
    "import math\n",
    "\n",
    "c = 3.5555259668856638656 # math. round\n",
    "x = round(c,3)\n",
    "\n",
    "print(x)\n",
    "\n",
    "a = math.asin(0.5)\n",
    "\n",
    "print(a)\n",
    "\n",
    "\n",
    "\n",
    "y =30* math.pi / 180 # degre to conveert redan\n",
    "\n",
    "print(y)\n",
    "\n",
    "\n",
    "\n"
   ]
  },
  {
   "cell_type": "code",
   "execution_count": null,
   "id": "1bb129ba",
   "metadata": {},
   "outputs": [],
   "source": []
  }
 ],
 "metadata": {
  "kernelspec": {
   "display_name": "Python 3",
   "language": "python",
   "name": "python3"
  },
  "language_info": {
   "codemirror_mode": {
    "name": "ipython",
    "version": 3
   },
   "file_extension": ".py",
   "mimetype": "text/x-python",
   "name": "python",
   "nbconvert_exporter": "python",
   "pygments_lexer": "ipython3",
   "version": "3.8.10"
  }
 },
 "nbformat": 4,
 "nbformat_minor": 5
}
