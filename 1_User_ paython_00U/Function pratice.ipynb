{
 "cells": [
  {
   "cell_type": "code",
   "execution_count": 1,
   "id": "92a6b0ff",
   "metadata": {},
   "outputs": [
    {
     "data": {
      "text/plain": [
       "'The number is not parfecat'"
      ]
     },
     "execution_count": 1,
     "metadata": {},
     "output_type": "execute_result"
    }
   ],
   "source": [
    "\n",
    "def add(mylist):\n",
    "    s = 0\n",
    "    for JogList in mylist:\n",
    "        s = s+JogList\n",
    "        return s\n",
    "def params(F):\n",
    "    appendList =[]\n",
    "    for Number in range(1,F):\n",
    "        if F%Number==0:\n",
    "            appendList.append(Number)\n",
    "            sum = add(appendList)\n",
    "            if sum ==F:\n",
    "                return 'The number is parfecat'\n",
    "        else:\n",
    "            return 'The number is not parfecat'\n",
    "        \n",
    "params(28)      "
   ]
  },
  {
   "cell_type": "code",
   "execution_count": 5,
   "id": "2e136f25",
   "metadata": {},
   "outputs": [
    {
     "data": {
      "text/plain": [
       "'The number is not parfacet'"
      ]
     },
     "execution_count": 5,
     "metadata": {},
     "output_type": "execute_result"
    }
   ],
   "source": [
    "def add (mylist):\n",
    "    s =0\n",
    "    for number in mylist:\n",
    "        s = s + number\n",
    "        return s\n",
    "    \n",
    "def params(n,add):\n",
    "    factors =[]\n",
    "    for i in range(1,n):\n",
    "        factors.append(i)\n",
    "    sum = add(factors)\n",
    "    \n",
    "    if sum == n:\n",
    "        \n",
    "        return 'The number is parfacet'\n",
    "    \n",
    "    else:\n",
    "        \n",
    "        return 'The number is not parfacet'\n",
    "    \n",
    "\n",
    "params(28,add)   \n",
    "    "
   ]
  },
  {
   "cell_type": "code",
   "execution_count": 1,
   "id": "1458a334",
   "metadata": {},
   "outputs": [
    {
     "name": "stdout",
     "output_type": "stream",
     "text": [
      "The number is parfacet\n"
     ]
    }
   ],
   "source": [
    "def add(mylist):\n",
    "    s =0\n",
    "    for number in mylist:\n",
    "        s = s + number\n",
    "    return s\n",
    "    \n",
    "def params(n):\n",
    "    factors =[]\n",
    "    for i in range(1,n):\n",
    "        if n%i==0:\n",
    "            factors.append(i)\n",
    "    sum = add(factors)\n",
    "    if sum==n: \n",
    "        print('The number is parfacet')\n",
    "    else:\n",
    "        print('The number is not parfacet')\n",
    "        \n",
    "params(28)    \n",
    "   "
   ]
  },
  {
   "cell_type": "code",
   "execution_count": 2,
   "id": "d9bbec0e",
   "metadata": {},
   "outputs": [
    {
     "data": {
      "text/plain": [
       "False"
      ]
     },
     "execution_count": 2,
     "metadata": {},
     "output_type": "execute_result"
    }
   ],
   "source": [
    "\n",
    "\n",
    "\n",
    "def add(mylist):\n",
    "    s = 0\n",
    "    for JogList in mylist:\n",
    "        s = s+JogList\n",
    "    return s\n",
    "def params(F):\n",
    "    appendList =[]\n",
    "    for Number in range(1,F):\n",
    "        if F%Number==0:\n",
    "            appendList.append(Number)\n",
    "        sum= add(appendList)\n",
    "        if  sum==F:\n",
    "            return True\n",
    "        else:\n",
    "            return False\n",
    "        \n",
    "params(28)        "
   ]
  }
 ],
 "metadata": {
  "kernelspec": {
   "display_name": "Python 3",
   "language": "python",
   "name": "python3"
  },
  "language_info": {
   "codemirror_mode": {
    "name": "ipython",
    "version": 3
   },
   "file_extension": ".py",
   "mimetype": "text/x-python",
   "name": "python",
   "nbconvert_exporter": "python",
   "pygments_lexer": "ipython3",
   "version": "3.8.8"
  }
 },
 "nbformat": 4,
 "nbformat_minor": 5
}
