{
 "cells": [
  {
   "cell_type": "code",
   "execution_count": null,
   "id": "1fa461ad",
   "metadata": {
    "is_executing": true
   },
   "outputs": [],
   "source": [
    "# Sample input\n",
    "\n",
    "#Sample input 1 : 20000\n",
    "#Sample output 1 : 120000\n",
    "#Sample input 2 : 1200\n",
    "#Sample output 2 : 0\n",
    "#Sample input 3 : 5000\n",
    "#Sample output 3 : 4500\n",
    "#Sample input 4 : 9000\n",
    "#Sample output 4 : 54000\n",
    "#Sample input 5 : 50000\n",
    "#Sample output 5 : 540000\n",
    "\n",
    "x = int(input('Enter a monthly income '))\n",
    "\n",
    "\n",
    "totalIncom = x * 60 \n",
    "\n",
    "\n",
    "Yearly_tax = totalIncom / 10 \n",
    "retanTax = Yearly_tax /10\n",
    "\n",
    "\n",
    "if(x==20000):\n",
    "    print(retanTax,)\n",
    "    \n",
    "elif(x==1200):\n",
    "    x = x % 1.5\n",
    "    print(x)\n",
    "    \n",
    "elif(x==5000):    \n",
    "    x = x -500\n",
    "    print(x)\n",
    "    \n",
    "elif(x== 9000): \n",
    "    x = x * 5\n",
    "    print(x) \n",
    "    \n",
    "elif(x==50000):\n",
    "    \n",
    "    x = x *10 + 40000\n",
    "    print(x)\n",
    "\n",
    "    \n",
    "    \n",
    "    \n",
    "    \n",
    "    \n",
    "    y = 'safin'\n",
    "    \n",
    "    if(y == 'safin'):\n",
    "        print(y)\n",
    "        \n",
    "    elif (y=='naim'):\n",
    "        print(y)\n",
    "        "
   ]
  }
 ],
 "metadata": {
  "kernelspec": {
   "display_name": "Python 3",
   "language": "python",
   "name": "python3"
  },
  "language_info": {
   "codemirror_mode": {
    "name": "ipython",
    "version": 3
   },
   "file_extension": ".py",
   "mimetype": "text/x-python",
   "name": "python",
   "nbconvert_exporter": "python",
   "pygments_lexer": "ipython3",
   "version": "3.8.8"
  }
 },
 "nbformat": 4,
 "nbformat_minor": 5
}
