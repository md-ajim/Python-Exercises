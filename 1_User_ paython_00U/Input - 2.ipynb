{
 "cells": [
  {
   "cell_type": "code",
   "execution_count": null,
   "id": "2859e30d",
   "metadata": {},
   "outputs": [],
   "source": [
    "x = int(input('Enter a  muthly incom'))\n",
    "\n",
    "totalIncom = x * 60 \n",
    "\n",
    "print(totalIncom)\n"
   ]
  },
  {
   "cell_type": "code",
   "execution_count": null,
   "id": "8e7d7ea2",
   "metadata": {},
   "outputs": [],
   "source": [
    "x = i"
   ]
  },
  {
   "cell_type": "code",
   "execution_count": null,
   "id": "c1482731",
   "metadata": {},
   "outputs": [],
   "source": []
  }
 ],
 "metadata": {
  "kernelspec": {
   "display_name": "Python 3",
   "language": "python",
   "name": "python3"
  },
  "language_info": {
   "codemirror_mode": {
    "name": "ipython",
    "version": 3
   },
   "file_extension": ".py",
   "mimetype": "text/x-python",
   "name": "python",
   "nbconvert_exporter": "python",
   "pygments_lexer": "ipython3",
   "version": "3.8.8"
  }
 },
 "nbformat": 4,
 "nbformat_minor": 5
}
