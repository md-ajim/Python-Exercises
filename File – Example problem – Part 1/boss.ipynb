{
 "cells": [
  {
   "cell_type": "code",
   "execution_count": 8,
   "source": [
    "fileLoction = r'C:\\Users\\Azimul islam\\Desktop\\Country.txt'\r\n",
    "file = open(fileLoction,'r')\r\n",
    "\r\n",
    "mylist = []\r\n",
    "\r\n",
    "\r\n",
    "\r\n",
    "  \r\n",
    "\r\n",
    "# Country =[]\r\n",
    "\r\n",
    "# for line in file:\r\n",
    "#     x = line.split()\r\n",
    "#     Country.append(x)\r\n",
    "    \r\n",
    "#     Capital ={}\r\n",
    "#     Currency ={}\r\n",
    "# for List in Country:\r\n",
    "#     kys = List[0 ].lower()\r\n",
    "#     valou = List[1]\r\n",
    "#     SecondValou = List[2].lower()\r\n",
    "    \r\n",
    "#     Capital[kys]=valou\r\n",
    "#     Currency[kys]=SecondValou.lower()\r\n",
    "    \r\n",
    " \r\n",
    "    \r\n",
    "# x = input('Enter a Contury Number')    \r\n",
    "# Output = open('C:\\\\Users\\Azimul islam\\Desktop\\OutputFile.txt','w')\r\n",
    "\r\n",
    "\r\n",
    "# if x.lower() in Capital:\r\n",
    "#     OutputS = Output.write('This is a your Country '+x+ \" Capital \"+ Capital[x.lower()] +'\\n')\r\n",
    "#     OutputS = Output.write(\"Your Currency \"+ Currency[x.lower()])\r\n",
    "\r\n",
    "# else:\r\n",
    "#     print('File is not found is database')\r\n",
    "# Output.close()\r\n",
    "\r\n"
   ],
   "outputs": [],
   "metadata": {}
  },
  {
   "cell_type": "code",
   "execution_count": null,
   "source": [],
   "outputs": [],
   "metadata": {}
  }
 ],
 "metadata": {
  "orig_nbformat": 4,
  "language_info": {
   "name": "python",
   "version": "3.8.8",
   "mimetype": "text/x-python",
   "codemirror_mode": {
    "name": "ipython",
    "version": 3
   },
   "pygments_lexer": "ipython3",
   "nbconvert_exporter": "python",
   "file_extension": ".py"
  },
  "kernelspec": {
   "name": "python3",
   "display_name": "Python 3.8.8 64-bit ('base': conda)"
  },
  "interpreter": {
   "hash": "6070b739bda494cd05c55c4dd1fefe4bc7f51a70f6d608882e1910222e9cc2a3"
  }
 },
 "nbformat": 4,
 "nbformat_minor": 2
}