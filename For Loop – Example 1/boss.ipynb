{
 "cells": [
  {
   "cell_type": "code",
   "execution_count": 1,
   "metadata": {},
   "outputs": [
    {
     "name": "stderr",
     "output_type": "stream",
     "text": [
      "1:1 - Cannot find name '#'.\n",
      "1:1 - Private identifiers are not allowed outside class bodies.\n",
      "1:2 - Invalid character.\n",
      "1:3 - ';' expected.\n",
      "1:3 - Cannot find name 'name'.\n",
      "1:10 - Cannot find name 'input'.\n",
      "3:1 - Cannot find name '#'.\n",
      "3:1 - Private identifiers are not allowed outside class bodies.\n",
      "3:2 - Invalid character.\n",
      "3:3 - ';' expected.\n",
      "3:3 - Cannot find name 'lower'.\n",
      "3:11 - Cannot find name 'name'.\n",
      "5:1 - Cannot find name '#'.\n",
      "5:1 - Private identifiers are not allowed outside class bodies.\n",
      "5:2 - Invalid character.\n",
      "5:3 - ';' expected.\n",
      "5:3 - Cannot find name 'ConvertList'.\n",
      "5:18 - Cannot find name 'letter'.\n",
      "5:25 - ',' expected.\n",
      "5:29 - '(' expected.\n",
      "5:29 - Cannot find name 'letter'.\n",
      "5:39 - Cannot find name 'lower'.\n",
      "5:44 - ')' expected.\n",
      "5:46 - Cannot find name '#'.\n",
      "5:46 - Private identifiers are not allowed outside class bodies.\n",
      "5:47 - Invalid character.\n",
      "5:48 - ';' expected.\n",
      "5:48 - Cannot find name 'semply'.\n",
      "5:55 - ';' expected.\n",
      "5:55 - Cannot find name 'ayta'.\n",
      "5:60 - ';' expected.\n",
      "5:60 - Cannot find name 'list'.\n",
      "5:65 - ';' expected.\n",
      "5:79 - '(' expected.\n",
      "5:79 - Cannot find name 'o'.\n",
      "5:81 - ';' expected.\n",
      "5:81 - Cannot find name 'kora'.\n",
      "5:86 - ';' expected.\n",
      "5:86 - Cannot find name 'jeto'.\n",
      "6:1 - Cannot find name '#'.\n",
      "6:1 - Private identifiers are not allowed outside class bodies.\n",
      "6:2 - Invalid character.\n",
      "6:3 - ';' expected.\n",
      "6:3 - Cannot find name 'ConvertList'.\n",
      "6:25 - ';' expected.\n",
      "6:25 - Cannot find name '#'.\n",
      "6:26 - Invalid character.\n",
      "6:27 - ';' expected.\n",
      "6:27 - Cannot find name 'reverse'.\n",
      "6:35 - ';' expected.\n",
      "6:35 - Cannot find name 'ar'.\n",
      "6:38 - ';' expected.\n",
      "6:38 - Cannot find name 'kaj'.\n",
      "6:42 - ';' expected.\n",
      "6:42 - Cannot find name 'hocce'.\n",
      "6:48 - ';' expected.\n",
      "6:48 - Cannot find name 'ay'.\n",
      "6:51 - ';' expected.\n",
      "6:51 - Cannot find name 'word'.\n",
      "6:56 - ';' expected.\n",
      "6:56 - Cannot find name 'take'.\n",
      "6:61 - ';' expected.\n",
      "6:61 - Cannot find name 'hulto'.\n",
      "6:67 - ';' expected.\n",
      "6:67 - Cannot find name 'kora'.\n",
      "6:72 - ';' expected.\n",
      "6:72 - Cannot find name 'many'.\n",
      "6:79 - Cannot find name 'take'.\n",
      "6:84 - ';' expected.\n",
      "6:84 - Cannot find name 'suro'.\n",
      "6:89 - ';' expected.\n",
      "6:89 - Cannot find name 'howya'.\n",
      "8:1 - Cannot find name '#'.\n",
      "8:1 - Private identifiers are not allowed outside class bodies.\n",
      "8:2 - Invalid character.\n",
      "8:3 - ';' expected.\n",
      "8:7 - '(' expected.\n",
      "8:7 - Cannot find name 'I'.\n",
      "8:12 - Cannot find name 'ConvertList'.\n",
      "8:23 - ')' expected.\n",
      "9:1 - Cannot find name '#'.\n",
      "9:1 - Private identifiers are not allowed outside class bodies.\n",
      "9:2 - Invalid character.\n",
      "9:7 - ';' expected.\n",
      "9:7 - Cannot find name 'print'.\n",
      "9:13 - Cannot find name 'I'.\n",
      "9:15 - Cannot find name 'end'.\n"
     ]
    }
   ],
   "source": [
    "# name = input('Enter a name')\n",
    "\n",
    "# lower = name.lower()\n",
    "\n",
    "# ConvertList = [letter for letter in lower] # semply ayta list function deya o kora jeto \n",
    "# ConvertList.reverse() # reverse ar kaj hocce ay word take hulto kora many - take suro howya\n",
    "\n",
    "# for I in ConvertList:\n",
    "#     print(I,end='')\n",
    "\n",
    "\n"
   ]
  },
  {
   "cell_type": "code",
   "execution_count": 16,
   "metadata": {},
   "outputs": [
    {
     "name": "stdout",
     "output_type": "stream",
     "text": [
      "gfdsagdsadsa"
     ]
    }
   ],
   "source": [
    "name = input('Enter a name')\n",
    "\n",
    "lower = name.lower()\n",
    "\n",
    "ConvertList = [letter for letter in lower]\n",
    "\n",
    "Reverse = ConvertList[::-1]\n",
    "\n",
    "for R in Reverse:\n",
    "    print(R, end=\"\")\n",
    "    "
   ]
  },
  {
   "cell_type": "code",
   "execution_count": 3,
   "metadata": {},
   "outputs": [
    {
     "name": "stdout",
     "output_type": "stream",
     "text": [
      "Linux\n",
      "macOS\n",
      "Windows\n"
     ]
    }
   ],
   "source": [
    "# Operating System List\n",
    "systems = ['Windows', 'macOS', 'Linux']\n",
    "\n",
    "# Printing Elements in Reversed Order\n",
    "for o in reversed(systems):\n",
    "    print(o)"
   ]
  },
  {
   "cell_type": "code",
   "execution_count": null,
   "metadata": {},
   "outputs": [],
   "source": []
  }
 ],
 "metadata": {
  "interpreter": {
   "hash": "6070b739bda494cd05c55c4dd1fefe4bc7f51a70f6d608882e1910222e9cc2a3"
  },
  "kernelspec": {
   "display_name": "Python 3.8.8 64-bit ('base': conda)",
   "name": "python3"
  },
  "language_info": {
   "codemirror_mode": {
    "name": "ipython",
    "version": 3
   },
   "file_extension": ".py",
   "mimetype": "text/x-python",
   "name": "python",
   "nbconvert_exporter": "python",
   "pygments_lexer": "ipython3",
   "version": "3.8.8"
  },
  "orig_nbformat": 4
 },
 "nbformat": 4,
 "nbformat_minor": 2
}
