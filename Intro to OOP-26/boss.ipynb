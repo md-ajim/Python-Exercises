{
 "cells": [
  {
   "cell_type": "code",
   "execution_count": 1,
   "metadata": {},
   "outputs": [
    {
     "name": "stdout",
     "output_type": "stream",
     "text": [
      "1\n",
      "6\n"
     ]
    }
   ],
   "source": [
    "\n",
    "\n",
    "class OPP():\n",
    "    x = 1\n",
    "    \n",
    "  \n",
    "    \n",
    "y = OPP()\n",
    "\n",
    "y.b = 6\n",
    "\n",
    "\n",
    "print(y.x)  \n",
    "print(y.b)"
   ]
  },
  {
   "cell_type": "code",
   "execution_count": 1,
   "metadata": {},
   "outputs": [
    {
     "name": "stdout",
     "output_type": "stream",
     "text": [
      "1 [1, 2, 3, 5, 4, 6, 8, 7, 9]\n"
     ]
    }
   ],
   "source": [
    "class OPP():\n",
    "    x = 1\n",
    "   \n",
    "    \n",
    "    \n",
    "  \n",
    "    \n",
    "y = OPP()\n",
    "\n",
    "y.w = [1,2,3,5,4,6,8,7,9]\n",
    "\n",
    "print(y.x,y.w)  \n"
   ]
  },
  {
   "cell_type": "code",
   "execution_count": null,
   "metadata": {},
   "outputs": [],
   "source": [
    "\n",
    "class OPP():\n",
    "    x = 1\n",
    "    x = [1,2,3,5,4,6,8,7,9]\n",
    "    \n",
    "    \n",
    "m = OPP()   \n",
    "y = OPP()\n",
    "\n",
    "\n",
    "m.x = 1\n",
    "\n",
    "print(y.x,m.x)  \n",
    "\n",
    "\n",
    "\n",
    "\n",
    "# ay khane obj , nam change kore ak ar odik obj crate kora jabe , ar varible nam change kore alada babe obj ar coppy ana jabe"
   ]
  },
  {
   "cell_type": "code",
   "execution_count": null,
   "metadata": {},
   "outputs": [],
   "source": []
  },
  {
   "cell_type": "code",
   "execution_count": 13,
   "metadata": {},
   "outputs": [
    {
     "name": "stdout",
     "output_type": "stream",
     "text": [
      "6\n",
      "6\n"
     ]
    }
   ],
   "source": [
    "\n",
    "class Student():\n",
    "    x = 5\n",
    "a = Student() \n",
    "\n",
    "b = Student()\n",
    "a.x = 6\n",
    "\n",
    "print(a.x) # hupor ar take akta coppy pailam  tar many aykhan take coppy necce shudo amake valou gulo bosate hobe\n",
    "print(a.x)  \n",
    "     "
   ]
  }
 ],
 "metadata": {
  "interpreter": {
   "hash": "6070b739bda494cd05c55c4dd1fefe4bc7f51a70f6d608882e1910222e9cc2a3"
  },
  "kernelspec": {
   "display_name": "Python 3.8.8 64-bit ('base': conda)",
   "name": "python3"
  },
  "language_info": {
   "codemirror_mode": {
    "name": "ipython",
    "version": 3
   },
   "file_extension": ".py",
   "mimetype": "text/x-python",
   "name": "python",
   "nbconvert_exporter": "python",
   "pygments_lexer": "ipython3",
   "version": "3.8.8"
  },
  "orig_nbformat": 4
 },
 "nbformat": 4,
 "nbformat_minor": 2
}
