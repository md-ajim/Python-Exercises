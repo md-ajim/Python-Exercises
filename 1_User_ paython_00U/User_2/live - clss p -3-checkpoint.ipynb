{
 "cells": [
  {
   "cell_type": "code",
   "execution_count": 7,
   "id": "b41066e3",
   "metadata": {},
   "outputs": [
    {
     "ename": "IndentationError",
     "evalue": "unexpected indent (<ipython-input-7-a47e6c794b35>, line 6)",
     "output_type": "error",
     "traceback": [
      "\u001b[1;36m  File \u001b[1;32m\"<ipython-input-7-a47e6c794b35>\"\u001b[1;36m, line \u001b[1;32m6\u001b[0m\n\u001b[1;33m    int(x)\u001b[0m\n\u001b[1;37m    ^\u001b[0m\n\u001b[1;31mIndentationError\u001b[0m\u001b[1;31m:\u001b[0m unexpected indent\n"
     ]
    }
   ],
   "source": [
    "b,x =  int(input().split)\n",
    "b = float(b)\n",
    "\n",
    "c =  (b * math.pi) /180\n",
    "\n",
    "  int(x)\n",
    "\n",
    "if (x ==1):\n",
    "    \n",
    "    print (math.sin(c))\n",
    "    \n",
    "\n",
    "    \n",
    "elif(x==2):\n",
    "    \n",
    "    print (math.cos(c))\n",
    "     \n",
    "    \n",
    "elif(x==3):\n",
    "    \n",
    "    print (1/ math.tan(c))\n",
    "      \n",
    "    \n",
    "elif(x==4):\n",
    "    \n",
    "     print (1/math.sec(c))\n",
    "\n",
    "elif f(x ==5): \n",
    "    \n",
    "    print (1/ math.cosec(c))\n",
    "        \n",
    "else:\n",
    "    \n",
    "    print('worng enter a cruuent number')"
   ]
  },
  {
   "cell_type": "code",
   "execution_count": null,
   "id": "327297d4",
   "metadata": {},
   "outputs": [],
   "source": []
  },
  {
   "cell_type": "code",
   "execution_count": null,
   "id": "1a1c8931",
   "metadata": {},
   "outputs": [],
   "source": []
  }
 ],
 "metadata": {
  "kernelspec": {
   "display_name": "Python 3",
   "language": "python",
   "name": "python3"
  },
  "language_info": {
   "codemirror_mode": {
    "name": "ipython",
    "version": 3
   },
   "file_extension": ".py",
   "mimetype": "text/x-python",
   "name": "python",
   "nbconvert_exporter": "python",
   "pygments_lexer": "ipython3",
   "version": "3.8.10"
  }
 },
 "nbformat": 4,
 "nbformat_minor": 5
}
