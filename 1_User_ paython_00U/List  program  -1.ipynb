{
 "cells": [
  {
   "cell_type": "code",
   "execution_count": 1,
   "id": "f2ecf9d3",
   "metadata": {},
   "outputs": [
    {
     "name": "stdout",
     "output_type": "stream",
     "text": [
      "['I phone', 'desktop', 'vivo', 'Nokya', 'samsam', 'phone']\n"
     ]
    }
   ],
   "source": [
    "\n",
    "Prodict_list  =  ['I phone', 'desktop','vivo','Nokya','samsam','phone']\n",
    "\n",
    "print(Prodict_list)\n"
   ]
  },
  {
   "cell_type": "code",
   "execution_count": 18,
   "id": "fd2ee7b7",
   "metadata": {},
   "outputs": [
    {
     "data": {
      "text/plain": [
       "'desktop'"
      ]
     },
     "execution_count": 18,
     "metadata": {},
     "output_type": "execute_result"
    }
   ],
   "source": [
    "\n",
    "# akhon ami ayta asscess korbo\n",
    "\n",
    "Prodict_list  =  ['I phone', 'desktop','vivo','Nokya','samsam','phone',10,50,60.7]\n",
    "\n",
    "Prodict_list[-2] # last thke chila thoel amke ayta korta hobe\n",
    "\n",
    "Prodict_list[1] # frist thke chile thile amke ayta korta hobe\n"
   ]
  },
  {
   "cell_type": "code",
   "execution_count": 33,
   "id": "41d58adf",
   "metadata": {},
   "outputs": [
    {
     "data": {
      "text/plain": [
       "3"
      ]
     },
     "execution_count": 33,
     "metadata": {},
     "output_type": "execute_result"
    }
   ],
   "source": [
    "#akhon ami jidi list ar nam chake korta chi akta list nam koto jaygay royce thole tar exampol\n",
    "\n",
    "Prodict_list  =  ['I phone','desktop','samsam''vivo', 'Nokya','vivo''phone',10,50,60.7,50,30,50,90,30,30]\n",
    "\n",
    "Prodict_list.count(30)\n"
   ]
  },
  {
   "cell_type": "code",
   "execution_count": 14,
   "id": "6ccf970f",
   "metadata": {},
   "outputs": [
    {
     "data": {
      "text/plain": [
       "14"
      ]
     },
     "execution_count": 14,
     "metadata": {},
     "output_type": "execute_result"
    }
   ],
   "source": [
    "# akhon ami jidi ar len- bha length number ta ber korta chi tar exampol \n",
    "\n",
    "Prodict_list  =  ['I phone','desktop','samsam' , 'vivo', 'vivo', 'Nokya','vivo''phone',10,50,60.7,50,30,50,90,30,30]\n",
    "\n",
    "len(Prodict_list)\n"
   ]
  },
  {
   "cell_type": "code",
   "execution_count": 32,
   "id": "6703b962",
   "metadata": {},
   "outputs": [
    {
     "name": "stdout",
     "output_type": "stream",
     "text": [
      "['I phone', 'desktop', 'vivo', 'Nokya', 'samsam', 'realmi', 'phone', 10, 50, 60.7]\n"
     ]
    }
   ],
   "source": [
    "\n",
    "# akhon ami jodi ar akta list add korta chi thole amke jayta korta exampol\n",
    "\n",
    "Prodict_list  =  ['I phone', 'desktop','vivo','Nokya','samsam','phone',10,50,60.7]\n",
    "\n",
    "Prodict_list.insert(5, 'realmi')\n",
    "\n",
    "print(Prodict_list)\n"
   ]
  },
  {
   "cell_type": "code",
   "execution_count": 31,
   "id": "3b6b72ff",
   "metadata": {},
   "outputs": [
    {
     "name": "stdout",
     "output_type": "stream",
     "text": [
      "['I phone', 'desktop', 'vivo', 'Nokya', 'samsam', 'phone', 10, 50, 60.7, 'realmi']\n"
     ]
    }
   ],
   "source": [
    "# akhon ami jodi last add korta chi bha append korta chi thole exampol\n",
    "\n",
    "Prodict_list  =  ['I phone', 'desktop','vivo','Nokya','samsam','phone',10,50,60.7]\n",
    "\n",
    "Prodict_list.append('realmi')\n",
    "\n",
    "print(Prodict_list)\n",
    "\n"
   ]
  },
  {
   "cell_type": "code",
   "execution_count": null,
   "id": "30e0733c",
   "metadata": {},
   "outputs": [],
   "source": []
  }
 ],
 "metadata": {
  "kernelspec": {
   "display_name": "Python 3",
   "language": "python",
   "name": "python3"
  },
  "language_info": {
   "codemirror_mode": {
    "name": "ipython",
    "version": 3
   },
   "file_extension": ".py",
   "mimetype": "text/x-python",
   "name": "python",
   "nbconvert_exporter": "python",
   "pygments_lexer": "ipython3",
   "version": "3.8.8"
  }
 },
 "nbformat": 4,
 "nbformat_minor": 5
}
