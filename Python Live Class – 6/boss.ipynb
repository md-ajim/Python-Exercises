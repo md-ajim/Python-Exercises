{
 "cells": [
  {
   "cell_type": "code",
   "execution_count": 11,
   "source": [
    "\r\n",
    "List  = [0,1,2,3,4,5,6,7,'slic','list']\r\n",
    "List=List[9][-0:3:1]\r\n",
    "print(List)"
   ],
   "outputs": [
    {
     "output_type": "stream",
     "name": "stdout",
     "text": [
      "lis\n"
     ]
    }
   ],
   "metadata": {}
  },
  {
   "cell_type": "code",
   "execution_count": 22,
   "source": [
    "single_digits = [\"zero\",\"\", \"one\", \"two\", \"three\",\r\n",
    "                     \"four\", \"five\", \"six\", \"seven\",\r\n",
    "                     \"eight\", \"nine\"]\r\n",
    "\r\n",
    "two_digits = [\"\", \"ten\", \"eleven\", \"twelve\",\r\n",
    "                  \"thirteen\", \"fourteen\", \"fifteen\",\r\n",
    "                  \"sixteen\", \"seventeen\", \"eighteen\",\r\n",
    "                  \"nineteen\"]\r\n",
    "tens_multiple = [\"\", \"\", \"twenty\", \"thirty\", \"forty\",\r\n",
    "                     \"fifty\", \"sixty\", \"seventy\", \"eighty\",\r\n",
    "                     \"ninety\"]\r\n",
    "\r\n",
    "def convert_to_words(num):\r\n",
    "  if (num==0):\r\n",
    "    word = single_digits[num]\r\n",
    "    word = fine(word.split(' '))\r\n",
    "\r\n",
    "    print(word)\r\n",
    "    return\r\n",
    "  word = \"\";\r\n",
    "\r\n",
    "  word += beWord((num // 10000000),\"crores\");\r\n",
    "\r\n",
    "  word += beWord(((num // 100000) % 100),\"lacs\");\r\n",
    "\r\n",
    "  word += beWord(((num // 1000) % 100),\"thousand\");\r\n",
    "  word += beWord(((num // 100) % 10),\"hundred\");\r\n",
    "\r\n",
    "  if (num > 100 and num % 100):\r\n",
    "      word += \"\";\r\n",
    "  word += beWord((num % 100), \"\");\r\n",
    "  word = fine(word.split(' '))\r\n",
    "\r\n",
    "  print(word)\r\n",
    "  return\r\n",
    "def beWord(num, word):\r\n",
    "    w = \" \";\r\n",
    "    if (num > 19):\r\n",
    "      w += tens_multiple[num // 10] + one[num % 10]+' ';\r\n",
    "    elif (num>9):\r\n",
    "      w += two_digits[num-9]+' ';\r\n",
    "    else:\r\n",
    "      w += single_digits[num+1]+' ';\r\n",
    "    if (num):\r\n",
    "      w += word;\r\n",
    "    return w;\r\n",
    "def fine(word):\r\n",
    "  new = ''\r\n",
    "  for item in word:\r\n",
    "    if (len(item)!=0):\r\n",
    "      new+=item+\" \"\r\n",
    "  return new[:-1]\r\n",
    "num = input()\r\n",
    "def validate(input):\r\n",
    "  try:\r\n",
    "    input = int(input)\r\n",
    "    convert_to_words(input)\r\n",
    "  except:\r\n",
    "    print('Please enter a valid number')\r\n",
    "validate(num)"
   ],
   "outputs": [
    {
     "output_type": "stream",
     "name": "stdout",
     "text": [
      "nine\n"
     ]
    }
   ],
   "metadata": {}
  },
  {
   "cell_type": "code",
   "execution_count": 18,
   "source": [
    "\r\n",
    "\r\n",
    "Numer = int(input('Enter a prime number'))\r\n",
    "\r\n",
    "for Prime in range(2,Numer):\r\n",
    "    Falgs = False\r\n",
    "    if Numer%Prime==0:\r\n",
    "        print(' Not Prime Number')\r\n",
    "            \r\n",
    "        \r\n",
    "        \r\n",
    "        \r\n",
    "    \r\n",
    "        "
   ],
   "outputs": [
    {
     "output_type": "stream",
     "name": "stdout",
     "text": [
      " Not Prime Number\n",
      "Prime Number\n"
     ]
    }
   ],
   "metadata": {}
  },
  {
   "cell_type": "code",
   "execution_count": null,
   "source": [],
   "outputs": [],
   "metadata": {}
  }
 ],
 "metadata": {
  "orig_nbformat": 4,
  "language_info": {
   "name": "python",
   "version": "3.8.8",
   "mimetype": "text/x-python",
   "codemirror_mode": {
    "name": "ipython",
    "version": 3
   },
   "pygments_lexer": "ipython3",
   "nbconvert_exporter": "python",
   "file_extension": ".py"
  },
  "kernelspec": {
   "name": "python3",
   "display_name": "Python 3.8.8 64-bit ('base': conda)"
  },
  "interpreter": {
   "hash": "6070b739bda494cd05c55c4dd1fefe4bc7f51a70f6d608882e1910222e9cc2a3"
  }
 },
 "nbformat": 4,
 "nbformat_minor": 2
}