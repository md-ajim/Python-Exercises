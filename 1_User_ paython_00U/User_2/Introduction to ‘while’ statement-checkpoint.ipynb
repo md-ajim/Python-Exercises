{
 "cells": [
  {
   "cell_type": "code",
   "execution_count": 4,
   "id": "42bc960b",
   "metadata": {},
   "outputs": [
    {
     "name": "stdout",
     "output_type": "stream",
     "text": [
      "0  hello banladesh \n",
      "1  hello banladesh \n",
      "2  hello banladesh \n",
      "3  hello banladesh \n",
      "4  hello banladesh \n",
      "5  hello banladesh \n",
      "6  hello banladesh \n",
      "7  hello banladesh \n",
      "8  hello banladesh \n",
      "9  hello banladesh \n"
     ]
    }
   ],
   "source": [
    "\n",
    "i = 0\n",
    "\n",
    "while i <10:\n",
    "\n",
    "    print(i, \" hello banladesh \")\n",
    "    \n",
    "    i = i + 1\n"
   ]
  },
  {
   "cell_type": "code",
   "execution_count": 6,
   "id": "ee435b03",
   "metadata": {},
   "outputs": [
    {
     "name": "stdout",
     "output_type": "stream",
     "text": [
      "1  hello banladesh \n",
      "2  hello banladesh \n",
      "3  hello banladesh \n",
      "4  hello banladesh \n",
      "5  hello banladesh \n",
      "6  hello banladesh \n",
      "7  hello banladesh \n",
      "8  hello banladesh \n",
      "9  hello banladesh \n",
      "10  hello banladesh \n"
     ]
    }
   ],
   "source": [
    "\n",
    "i = 0\n",
    "\n",
    "while i <10:\n",
    "\n",
    "    print(i + 1, \" hello banladesh \")\n",
    "    \n",
    "    i = i + 1\n"
   ]
  },
  {
   "cell_type": "code",
   "execution_count": 7,
   "id": "943ab00f",
   "metadata": {},
   "outputs": [
    {
     "name": "stdout",
     "output_type": "stream",
     "text": [
      "1  hello banladesh \n",
      "2  hello banladesh \n",
      "3  hello banladesh \n",
      "4  hello banladesh \n",
      "5  hello banladesh \n",
      "6  hello banladesh \n",
      "7  hello banladesh \n",
      "8  hello banladesh \n",
      "9  hello banladesh \n"
     ]
    }
   ],
   "source": [
    "\n",
    "i = 1\n",
    "\n",
    "while i <10:\n",
    "\n",
    "    print(i , \" hello banladesh \")\n",
    "    \n",
    "    i = i + 1"
   ]
  },
  {
   "cell_type": "code",
   "execution_count": 22,
   "id": "ffbd977f",
   "metadata": {},
   "outputs": [
    {
     "name": "stdout",
     "output_type": "stream",
     "text": [
      "1  hello banladesh \n",
      "2  hello banladesh \n",
      "3  hello banladesh \n",
      "4  hello banladesh \n",
      "5  hello banladesh \n"
     ]
    }
   ],
   "source": [
    "i = 1\n",
    "while i <10:\n",
    "    \n",
    "    if i == 6:\n",
    "        break \n",
    "    print(i , \" hello banladesh \")  \n",
    "    i = i + 1"
   ]
  },
  {
   "cell_type": "code",
   "execution_count": 12,
   "id": "16736d0c",
   "metadata": {},
   "outputs": [
    {
     "name": "stdout",
     "output_type": "stream",
     "text": [
      "1  hello banladesh \n",
      "2  hello banladesh \n",
      "3  hello banladesh \n",
      "4  hello banladesh \n",
      "5  hello banladesh \n",
      "7  hello banladesh \n",
      "8  hello banladesh \n",
      "9  hello banladesh \n",
      "10  hello banladesh \n"
     ]
    }
   ],
   "source": [
    "i = 0\n",
    "while i <10:\n",
    "    i = i + 1  \n",
    "    if i == 6:\n",
    "        continue\n",
    "    print(i , \" hello banladesh \")  \n",
    "   "
   ]
  },
  {
   "cell_type": "code",
   "execution_count": null,
   "id": "33cefe85",
   "metadata": {},
   "outputs": [],
   "source": []
  }
 ],
 "metadata": {
  "kernelspec": {
   "display_name": "Python 3",
   "language": "python",
   "name": "python3"
  },
  "language_info": {
   "codemirror_mode": {
    "name": "ipython",
    "version": 3
   },
   "file_extension": ".py",
   "mimetype": "text/x-python",
   "name": "python",
   "nbconvert_exporter": "python",
   "pygments_lexer": "ipython3",
   "version": "3.8.8"
  }
 },
 "nbformat": 4,
 "nbformat_minor": 5
}
