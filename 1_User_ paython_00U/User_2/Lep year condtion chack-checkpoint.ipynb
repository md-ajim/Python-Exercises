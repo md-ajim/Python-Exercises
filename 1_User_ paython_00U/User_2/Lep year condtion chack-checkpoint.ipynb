{
 "cells": [
  {
   "cell_type": "code",
   "execution_count": 12,
   "id": "2a478a2d",
   "metadata": {},
   "outputs": [
    {
     "name": "stdout",
     "output_type": "stream",
     "text": [
      "Enter a number2000\n",
      "bebajjo nha 2000\n"
     ]
    }
   ],
   "source": [
    "x = int(input(\"Enter a number\"))\n",
    "\n",
    "if(x %100 ==0):\n",
    "    \n",
    "    print(\"bebajjo nha\", x)\n",
    "        \n",
    "else:\n",
    "    \n",
    "    print(\"bajjo\", x )           "
   ]
  },
  {
   "cell_type": "code",
   "execution_count": 11,
   "id": "9de6d2ed",
   "metadata": {},
   "outputs": [
    {
     "name": "stdout",
     "output_type": "stream",
     "text": [
      "0\n"
     ]
    }
   ],
   "source": [
    "x = 2000\n",
    "\n",
    "\n",
    "y = x % 100\n",
    "\n",
    "print(y)"
   ]
  },
  {
   "cell_type": "code",
   "execution_count": null,
   "id": "7effddf6",
   "metadata": {},
   "outputs": [],
   "source": [
    "\n",
    "lepyear = int(input('Enter a lep year :'))\n",
    "\n",
    "\n",
    "if lepyear %100 ==0:\n",
    "    \n",
    "    lepyear = lepyear/100 # ay jaygatar kaj 0  ta removed kora \n",
    "    if lepyear%4==0:\n",
    "        \n",
    "        print(\"lep year !\")\n",
    "else:\n",
    "        \n",
    "        print(\"Not lepyear\")\n",
    "        \n",
    "        \n",
    "\n",
    "    \n",
    "    \n",
    "\n",
    "\n",
    "      \n",
    "                                      \n",
    "\n",
    "\n",
    "\n",
    "\n",
    "\n",
    "\n",
    "\n",
    "                                    \n",
    "\n",
    "\n",
    "\n",
    "\n",
    "\n",
    "\n"
   ]
  },
  {
   "cell_type": "code",
   "execution_count": null,
   "id": "6c7c64f2",
   "metadata": {},
   "outputs": [],
   "source": [
    "  y =  int(input('Enter a year'))\n",
    "\n",
    "if  y%100==0:\n",
    "    \n",
    "    y = y/100\n",
    "    if y%4==0:\n",
    "        print('leap year')\n",
    "        \n",
    "    else:\n",
    "        \n",
    "        print('Not leap year')\n",
    "        \n",
    "else:\n",
    "    \n",
    "    if y%4==0:\n",
    "        print('lep year')\n",
    "    else:\n",
    "            print('not leap year')\n",
    "     \n",
    "    "
   ]
  },
  {
   "cell_type": "code",
   "execution_count": null,
   "id": "8fc8ad50",
   "metadata": {},
   "outputs": [],
   "source": [
    "x = 2021\n",
    "\n",
    "y = x%100\n",
    "\n",
    "print(y)\n"
   ]
  },
  {
   "cell_type": "code",
   "execution_count": null,
   "id": "db322b3a",
   "metadata": {},
   "outputs": [],
   "source": []
  }
 ],
 "metadata": {
  "kernelspec": {
   "display_name": "Python 3",
   "language": "python",
   "name": "python3"
  },
  "language_info": {
   "codemirror_mode": {
    "name": "ipython",
    "version": 3
   },
   "file_extension": ".py",
   "mimetype": "text/x-python",
   "name": "python",
   "nbconvert_exporter": "python",
   "pygments_lexer": "ipython3",
   "version": "3.8.10"
  }
 },
 "nbformat": 4,
 "nbformat_minor": 5
}
