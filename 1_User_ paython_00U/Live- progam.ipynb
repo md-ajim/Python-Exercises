{
 "cells": [
  {
   "cell_type": "code",
   "execution_count": 6,
   "id": "2c6a5c1f",
   "metadata": {},
   "outputs": [
    {
     "name": "stdout",
     "output_type": "stream",
     "text": [
      "5 30\n",
      "1.7320508075688774\n"
     ]
    }
   ],
   "source": [
    "textExam = 'sin, cos , tan ,cot , sec ,cosec'\n",
    "\n",
    "\n",
    "import math\n",
    "\n",
    "x , y = input().split()\n",
    "\n",
    "x = int(x)\n",
    "y = float(y)\n",
    "\n",
    "y = (y * math.pi)/180\n",
    "\n",
    "if(x==1):\n",
    "    \n",
    "    print(y)\n",
    "\n",
    "elif(x==2):\n",
    "    \n",
    "    print(math.sin(y)) # input 30 redan sin-oputput\n",
    "    \n",
    "elif(x==3):\n",
    "    \n",
    "    print(math.cos(y)) # input 0, output -1\n",
    "    \n",
    "elif(x==4):\n",
    "    \n",
    "    print(math.tan(y))# input 45 , output 0.99999999999999\n",
    "    \n",
    "elif(x==5):\n",
    "                 \n",
    "    print(1 / math.tan(y)) # cot  number ----input 30\n",
    "    \n",
    "elif(x==6):\n",
    "    \n",
    "    print(1 / math.cos(y)) # sec  number ----input 120\n",
    "    \n",
    "elif(x==7):\n",
    "    \n",
    "       print(1/math.sin(y)) # cosec  number ----input 150\n",
    "        \n",
    "        \n",
    "else:print('Not inveld number')"
   ]
  },
  {
   "cell_type": "code",
   "execution_count": null,
   "id": "7b14fc42",
   "metadata": {},
   "outputs": [],
   "source": []
  }
 ],
 "metadata": {
  "kernelspec": {
   "display_name": "Python 3",
   "language": "python",
   "name": "python3"
  },
  "language_info": {
   "codemirror_mode": {
    "name": "ipython",
    "version": 3
   },
   "file_extension": ".py",
   "mimetype": "text/x-python",
   "name": "python",
   "nbconvert_exporter": "python",
   "pygments_lexer": "ipython3",
   "version": "3.8.8"
  }
 },
 "nbformat": 4,
 "nbformat_minor": 5
}
