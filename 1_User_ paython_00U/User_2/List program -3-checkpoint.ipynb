{
 "cells": [
  {
   "cell_type": "code",
   "execution_count": 2,
   "id": "e325cc81",
   "metadata": {},
   "outputs": [
    {
     "name": "stdout",
     "output_type": "stream",
     "text": [
      "['Azimul', 'Kuddos', 'Sottar', 'Babul', 'Josim', 'Kakatuya', 'Aliakber', 'Johir']\n"
     ]
    }
   ],
   "source": [
    "# akta string ami add korlam\n",
    "\n",
    "NameList = ['Azimul','Kuddos','Sottar','Babul','Josim','Kakatuya','Aliakber','Johir']\n",
    "\n",
    "NameList[2] = 'Sottar'\n",
    "\n",
    "print(NameList)"
   ]
  },
  {
   "cell_type": "code",
   "execution_count": 4,
   "id": "2af3808f",
   "metadata": {},
   "outputs": [
    {
     "name": "stdout",
     "output_type": "stream",
     "text": [
      "['Johir', 'Aliakber', 'Kakatuya', 'Josim', 'Babul', 'Sottar', 'Kuddos', 'Azimul']\n"
     ]
    }
   ],
   "source": [
    "\n",
    "NameList = ['Azimul','Kuddos','Sottar','Babul','Josim','Kakatuya','Aliakber','Johir']\n",
    "\n",
    "NameList.reverse()\n",
    "\n",
    "print(NameList)"
   ]
  },
  {
   "cell_type": "code",
   "execution_count": 7,
   "id": "b802b8e0",
   "metadata": {},
   "outputs": [
    {
     "name": "stdout",
     "output_type": "stream",
     "text": [
      "[30, 90, 4, 60, 70, 90, 40, 80, 58, 8, 10, 720, 80, 10, 5, 1]\n"
     ]
    }
   ],
   "source": [
    "\n",
    "\n",
    "NumberList = [1,5,10,80,720,10,8,58,80,40,90,70,60,4,90,30,]\n",
    "\n",
    "\n",
    "NumberList.reverse()\n",
    "\n",
    "print(NumberList)"
   ]
  },
  {
   "cell_type": "code",
   "execution_count": 10,
   "id": "dcdecaa4",
   "metadata": {},
   "outputs": [
    {
     "name": "stdout",
     "output_type": "stream",
     "text": [
      "[10, 9, 8, 7, 6, 5, 4, 3, 2, 1]\n"
     ]
    }
   ],
   "source": [
    "\n",
    "# reverse funtion ta ki korlo boro thake choto ultaiya delo \n",
    "\n",
    "NumberList2 = [1,2,3,4,5,6,7,8,9,10]\n",
    "\n",
    "\n",
    "NumberList2.reverse() # hultaiya delo\n",
    "\n",
    "print(NumberList2)\n",
    "\n"
   ]
  },
  {
   "cell_type": "code",
   "execution_count": null,
   "id": "5ed85bfe",
   "metadata": {},
   "outputs": [],
   "source": []
  }
 ],
 "metadata": {
  "kernelspec": {
   "display_name": "Python 3",
   "language": "python",
   "name": "python3"
  },
  "language_info": {
   "codemirror_mode": {
    "name": "ipython",
    "version": 3
   },
   "file_extension": ".py",
   "mimetype": "text/x-python",
   "name": "python",
   "nbconvert_exporter": "python",
   "pygments_lexer": "ipython3",
   "version": "3.8.8"
  }
 },
 "nbformat": 4,
 "nbformat_minor": 5
}
