{
 "cells": [
  {
   "cell_type": "code",
   "execution_count": 1,
   "id": "50500d92",
   "metadata": {},
   "outputs": [],
   "source": [
    "x = \"Lcat and dog\""
   ]
  },
  {
   "cell_type": "code",
   "execution_count": 2,
   "id": "aa158a04",
   "metadata": {},
   "outputs": [
    {
     "data": {
      "text/plain": [
       "str"
      ]
     },
     "execution_count": 2,
     "metadata": {},
     "output_type": "execute_result"
    }
   ],
   "source": [
    "type(x)"
   ]
  },
  {
   "cell_type": "code",
   "execution_count": 9,
   "id": "6a1daee0",
   "metadata": {},
   "outputs": [
    {
     "name": "stdout",
     "output_type": "stream",
     "text": [
      "T\n"
     ]
    }
   ],
   "source": [
    "x = \"This is a string length chrectrs\"\n",
    "\n",
    "print( x[0]) # ami indevejul number bha index number ta ber korlam      \n",
    "# akhoon ami jodi indebesul number ta chi ba index number ta chi thoel \n",
    "\n",
    "\n",
    "\n",
    "\n",
    "\n",
    "      \n",
    "      \n",
    "      \n",
    "      \n",
    "    "
   ]
  },
  {
   "cell_type": "code",
   "execution_count": 5,
   "id": "df19ceee",
   "metadata": {},
   "outputs": [
    {
     "name": "stdout",
     "output_type": "stream",
     "text": [
      "32 This is a strng string ar length number ta ber korlam\n"
     ]
    }
   ],
   "source": [
    "x = \"This is a string length chrectrs\"\n",
    "\n",
    "print( len(x),\"This is a strng string ar length number ta ber korlam\" )\n",
    "      \n",
    "      \n",
    "      \n",
    "      \n",
    "      \n",
    "      \n",
    "      "
   ]
  },
  {
   "cell_type": "code",
   "execution_count": 11,
   "id": "1a41cbd9",
   "metadata": {},
   "outputs": [
    {
     "data": {
      "text/plain": [
       "str"
      ]
     },
     "execution_count": 11,
     "metadata": {},
     "output_type": "execute_result"
    }
   ],
   "source": [
    "# akhon ami jodi string ar chretor ar type ta dekta chi thole amke ajyta korta hobe tar exampo []arr ta defolt babe kaj korba\n",
    "\n",
    "\n",
    "x = \"String crectors type of  ar exampol\"\n",
    "\n",
    "\n",
    "type(x[1])"
   ]
  },
  {
   "cell_type": "code",
   "execution_count": 12,
   "id": "50962bf4",
   "metadata": {},
   "outputs": [
    {
     "name": "stdout",
     "output_type": "stream",
     "text": [
      "String chinge\n"
     ]
    }
   ],
   "source": [
    "# akhon ami jodi string chinge korta chi thole seta prbo\n",
    "\n",
    "c = \"This is a string chinge\"\n",
    "\n",
    "c = \"String chinge\"\n",
    "\n",
    "print(c)\n"
   ]
  },
  {
   "cell_type": "code",
   "execution_count": 13,
   "id": "fb2ec31f",
   "metadata": {},
   "outputs": [
    {
     "name": "stdout",
     "output_type": "stream",
     "text": [
      "Md Azimul Islam\n"
     ]
    }
   ],
   "source": [
    "# ami jodi string chinge korta chi thole amke jayta korta hobeb ta exampol\n",
    "\n",
    "fristName = \"Md\"\n",
    "\n",
    "secendName = \"Azimul\"\n",
    "\n",
    "lestName = \"Islam\"\n",
    "\n",
    "\n",
    "print(fristName, secendName, lestName)"
   ]
  },
  {
   "cell_type": "code",
   "execution_count": 15,
   "id": "8514dcac",
   "metadata": {},
   "outputs": [
    {
     "name": "stdout",
     "output_type": "stream",
     "text": [
      "Md Azimul Islam \n"
     ]
    }
   ],
   "source": [
    "fristName = \"Md \"\n",
    "\n",
    "secendName = \"Azimul \"\n",
    "\n",
    "lestName = \"Islam \"\n",
    " \n",
    "FinalName = fristName+secendName+lestName\n",
    "\n",
    "print(FinalName)"
   ]
  },
  {
   "cell_type": "code",
   "execution_count": 16,
   "id": "fb14a3c2",
   "metadata": {},
   "outputs": [
    {
     "name": "stdout",
     "output_type": "stream",
     "text": [
      "Md Azimul Islam\n"
     ]
    }
   ],
   "source": [
    "\n",
    "fristName = \"Md\"\n",
    "\n",
    "secendName = \"Azimul\"\n",
    "\n",
    "lestName = \"Islam\"\n",
    " \n",
    "FinalName = fristName+ \" \"+ secendName+ \" \"+ lestName # ay babe o ami spice deta pari \n",
    "\n",
    "# ay operstion ka bola hoy contcetion operation\n",
    "\n",
    "print(FinalName)"
   ]
  },
  {
   "cell_type": "code",
   "execution_count": 17,
   "id": "76282f5f",
   "metadata": {},
   "outputs": [
    {
     "name": "stdout",
     "output_type": "stream",
     "text": [
      "Md Md Md \n"
     ]
    }
   ],
   "source": [
    "# akhon ami jodi aytake gun kori thoel tar exampol osthir  exampol \n",
    "\n",
    "\n",
    "fristName = \"Md \"\n",
    "\n",
    "secendName = \"Azimul \"\n",
    "\n",
    "lestName = \"Islam \"\n",
    " \n",
    "FinalName = fristName*3\n",
    "\n",
    "print(FinalName)"
   ]
  },
  {
   "cell_type": "code",
   "execution_count": null,
   "id": "73cd6a58",
   "metadata": {},
   "outputs": [],
   "source": []
  },
  {
   "cell_type": "code",
   "execution_count": null,
   "id": "71981503",
   "metadata": {},
   "outputs": [],
   "source": []
  }
 ],
 "metadata": {
  "kernelspec": {
   "display_name": "Python 3",
   "language": "python",
   "name": "python3"
  },
  "language_info": {
   "codemirror_mode": {
    "name": "ipython",
    "version": 3
   },
   "file_extension": ".py",
   "mimetype": "text/x-python",
   "name": "python",
   "nbconvert_exporter": "python",
   "pygments_lexer": "ipython3",
   "version": "3.8.8"
  }
 },
 "nbformat": 4,
 "nbformat_minor": 5
}
