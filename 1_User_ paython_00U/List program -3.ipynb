{
 "cells": [
  {
   "cell_type": "code",
   "execution_count": 1,
   "id": "ab7b9e5f",
   "metadata": {
    "ExecuteTime": {
     "end_time": "2024-03-01T12:09:14.717128600Z",
     "start_time": "2024-03-01T12:09:14.705108500Z"
    }
   },
   "outputs": [
    {
     "name": "stdout",
     "output_type": "stream",
     "text": [
      "['Azimul', 'Kuddos', 'Sottar', 'Babul', 'Josim', 'Kakatuya', 'Aliakber', 'Johir']\n"
     ]
    }
   ],
   "source": [
    "# akta string ami add korlam\n",
    "\n",
    "NameList = ['Azimul','Kuddos','Sottar','Babul','Josim','Kakatuya','Aliakber','Johir']\n",
    "\n",
    "NameList[2] = 'Sottar'\n",
    "\n",
    "print(NameList)"
   ]
  },
  {
   "cell_type": "code",
   "execution_count": 2,
   "id": "a04dbf56",
   "metadata": {
    "ExecuteTime": {
     "end_time": "2024-03-01T12:09:59.436393700Z",
     "start_time": "2024-03-01T12:09:59.428393300Z"
    }
   },
   "outputs": [
    {
     "name": "stdout",
     "output_type": "stream",
     "text": [
      "['Johir', 'Aliakber', 'Kakatuya', 'Josim', 'Babul', 'Sottar', 'Kuddos', 'Azimul']\n"
     ]
    }
   ],
   "source": [
    "\n",
    "NameList = ['Azimul','Kuddos','Sottar','Babul','Josim','Kakatuya','Aliakber','Johir']\n",
    "\n",
    "NameList.reverse()\n",
    "\n",
    "print(NameList)"
   ]
  },
  {
   "cell_type": "code",
   "execution_count": 3,
   "id": "bf3a821f",
   "metadata": {
    "ExecuteTime": {
     "end_time": "2024-02-02T10:00:21.133453200Z",
     "start_time": "2024-02-02T10:00:00.584664400Z"
    }
   },
   "outputs": [
    {
     "name": "stdout",
     "output_type": "stream",
     "text": [
      "[30, 90, 4, 60, 70, 90, 40, 80, 58, 8, 10, 720, 80, 10, 5, 1]\n"
     ]
    }
   ],
   "source": [
    "\n",
    "\n",
    "NumberList = [1,5,10,80,720,10,8,58,80,40,90,70,60,4,90,30,]\n",
    "\n",
    "\n",
    "NumberList.reverse()\n",
    "\n",
    "print(NumberList)"
   ]
  },
  {
   "cell_type": "code",
   "execution_count": 4,
   "id": "26c1f6a6",
   "metadata": {
    "ExecuteTime": {
     "end_time": "2024-02-02T10:00:21.134450600Z",
     "start_time": "2024-02-02T10:00:01.014189400Z"
    }
   },
   "outputs": [
    {
     "name": "stdout",
     "output_type": "stream",
     "text": [
      "[10, 9, 8, 7, 6, 5, 4, 3, 2, 1]\n"
     ]
    }
   ],
   "source": [
    "\n",
    "# reverse funtion ta ki korlo boro thake choto ultaiya delo \n",
    "\n",
    "NumberList2 = [1,2,3,4,5,6,7,8,9,10]\n",
    "\n",
    "\n",
    "NumberList2.reverse() # hultaiya delo\n",
    "\n",
    "print(NumberList2)\n",
    "\n"
   ]
  },
  {
   "cell_type": "code",
   "execution_count": 5,
   "id": "95d58206",
   "metadata": {
    "ExecuteTime": {
     "end_time": "2024-02-02T10:00:21.137460700Z",
     "start_time": "2024-02-02T10:00:01.717280700Z"
    }
   },
   "outputs": [
    {
     "name": "stdout",
     "output_type": "stream",
     "text": [
      "[1, 4, 5, 8, 10, 10, 30, 40, 58, 60, 70, 80, 80, 90, 90, 720]\n"
     ]
    }
   ],
   "source": [
    "\n",
    "# short fuction amadir ja kore list gulo gucaiya day  bha sajiya day\n",
    "\n",
    "NumberList = [1,5,10,80,720,10,8,58,80,40,90,70,60,4,90,30,]\n",
    "\n",
    "NumberList.sort()\n",
    "\n",
    "print(NumberList)"
   ]
  },
  {
   "cell_type": "code",
   "execution_count": 6,
   "id": "2b8fd0e4",
   "metadata": {
    "ExecuteTime": {
     "end_time": "2024-02-02T10:00:21.143452800Z",
     "start_time": "2024-02-02T10:00:02.334153400Z"
    }
   },
   "outputs": [
    {
     "name": "stdout",
     "output_type": "stream",
     "text": [
      "[720, 90, 90, 80, 80, 70, 60, 58, 40, 30, 10, 10, 8, 5, 4, 1]\n"
     ]
    }
   ],
   "source": [
    "\n",
    "# akhon ami jodi chi sonkha gulo kacakici rakta thole tar exampol\n",
    "\n",
    "NumberList = [1,5,10,80,720,10,8,58,80,40,90,70,60,4,90,30,]\n",
    "\n",
    "NumberList.sort(reverse  =  True ) # boro tahek chto sonka gulo sajiya delo \n",
    "\n",
    "print(NumberList)\n"
   ]
  },
  {
   "cell_type": "code",
   "execution_count": 7,
   "id": "af1cc5ed",
   "metadata": {
    "ExecuteTime": {
     "end_time": "2024-02-02T10:00:21.143452800Z",
     "start_time": "2024-02-02T10:00:02.899610800Z"
    }
   },
   "outputs": [
    {
     "name": "stdout",
     "output_type": "stream",
     "text": [
      "[1, 5, 10, 80, 720, 10, 8, 58, 80, 40]\n",
      "[10, 80, 720, 10, 8, 58, 80, 40, 90, 70, 60, 4, 90, 30]\n",
      "[10, 80, 720, 10, 8, 58, 80, 40]\n",
      "[1, 5, 10, 80, 720, 10]\n",
      "[8, 58, 80, 40, 90, 70, 60, 4, 90, 30]\n",
      "[1, 10, 720, 8, 80]\n",
      "[1, 10, 720, 8, 80]\n",
      "[5, 720, 58]\n",
      "[1, 8, 60]\n",
      "[30, 4, 70, 40, 58, 10, 80, 5]\n",
      "[10, 10, 80, 70, 90]\n"
     ]
    }
   ],
   "source": [
    "#selice kora ta seklam insoallha\n",
    "\n",
    "# akhon ami jodi number gulo selic korta chi thole tar exampol\n",
    "NumberList = [1,5,10,80,720,10,8,58,80,40,90,70,60,4,90,30,]\n",
    "\n",
    "\n",
    "print(NumberList[:10])\n",
    "print(NumberList[2:])\n",
    "print(NumberList[2:10])\n",
    "print(NumberList[:-10])\n",
    "print(NumberList[-10:])\n",
    "\n",
    "print(NumberList[0:10:2])\n",
    "print(NumberList[:10:2])\n",
    "\n",
    "print(NumberList[1:10:3])\n",
    "\n",
    "print(NumberList[::6])\n",
    "\n",
    "print(NumberList[::-2])\n",
    "\n",
    "print(NumberList[2::3])\n",
    "\n",
    "\n",
    "\n"
   ]
  },
  {
   "cell_type": "code",
   "execution_count": 7,
   "id": "8cc59766",
   "metadata": {
    "ExecuteTime": {
     "end_time": "2024-02-02T10:00:21.144451500Z",
     "start_time": "2024-02-02T10:00:03.357534Z"
    }
   },
   "outputs": [],
   "source": []
  }
 ],
 "metadata": {
  "kernelspec": {
   "display_name": "Python 3",
   "language": "python",
   "name": "python3"
  },
  "language_info": {
   "codemirror_mode": {
    "name": "ipython",
    "version": 3
   },
   "file_extension": ".py",
   "mimetype": "text/x-python",
   "name": "python",
   "nbconvert_exporter": "python",
   "pygments_lexer": "ipython3",
   "version": "3.8.8"
  }
 },
 "nbformat": 4,
 "nbformat_minor": 5
}
