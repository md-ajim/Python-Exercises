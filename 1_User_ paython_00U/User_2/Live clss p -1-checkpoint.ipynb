{
 "cells": [
  {
   "cell_type": "code",
   "execution_count": 4,
   "id": "9f60c44a",
   "metadata": {},
   "outputs": [
    {
     "name": "stdout",
     "output_type": "stream",
     "text": [
      "Enter a number 10\n",
      "Enter a number 50\n",
      "Enter a number 50\n",
      "Y is beg number = 50\n"
     ]
    }
   ],
   "source": [
    "x =  int (input(\"Enter a number \"))\n",
    "y =  int (input(\"Enter a number \"))\n",
    "z =  int (input(\"Enter a number \"))\n",
    "\n",
    "\n",
    "if (y>x):\n",
    "    \n",
    "    print('your is beg number =',y)\n",
    "\n",
    "elif (y>z):\n",
    "    \n",
    "    print('your is beg number =',y)\n",
    "    \n",
    "    "
   ]
  },
  {
   "cell_type": "code",
   "execution_count": null,
   "id": "98821257",
   "metadata": {},
   "outputs": [],
   "source": []
  },
  {
   "cell_type": "code",
   "execution_count": null,
   "id": "bc7eead1",
   "metadata": {},
   "outputs": [],
   "source": []
  }
 ],
 "metadata": {
  "kernelspec": {
   "display_name": "Python 3",
   "language": "python",
   "name": "python3"
  },
  "language_info": {
   "codemirror_mode": {
    "name": "ipython",
    "version": 3
   },
   "file_extension": ".py",
   "mimetype": "text/x-python",
   "name": "python",
   "nbconvert_exporter": "python",
   "pygments_lexer": "ipython3",
   "version": "3.8.10"
  }
 },
 "nbformat": 4,
 "nbformat_minor": 5
}
