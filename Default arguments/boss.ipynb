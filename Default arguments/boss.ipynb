{
 "cells": [
  {
   "cell_type": "code",
   "execution_count": 1,
   "metadata": {
    "ExecuteTime": {
     "end_time": "2024-03-04T02:53:52.792601400Z",
     "start_time": "2024-03-04T02:53:52.775522100Z"
    }
   },
   "outputs": [
    {
     "name": "stdout",
     "output_type": "stream",
     "text": [
      "10 20 60 90\n"
     ]
    }
   ],
   "source": [
    "\n",
    "#  default arguments , non default argumnets \n",
    "\n",
    "def DefultArgumnets (a,b,c,d=90):\n",
    "    print(a,b,c,d)\n",
    "\n",
    "DefultArgumnets(10,20,60)        "
   ]
  },
  {
   "cell_type": "code",
   "execution_count": 7,
   "metadata": {},
   "outputs": [
    {
     "name": "stdout",
     "output_type": "stream",
     "text": [
      "10 20 50 30\n"
     ]
    }
   ],
   "source": [
    "def DefultArgumnets (a,b,c=60,d=30):\n",
    "    print(a,b,c,d)\n",
    "\n",
    "DefultArgumnets(10,20,50) "
   ]
  },
  {
   "cell_type": "code",
   "execution_count": 15,
   "metadata": {},
   "outputs": [
    {
     "name": "stdout",
     "output_type": "stream",
     "text": [
      "10 20 30 NonDefult\n"
     ]
    }
   ],
   "source": [
    "# frist serial ta mentent korta hobe and order ta mnetent korta hobe\n",
    "\n",
    "\n",
    "def DefultArgumnets (a,b,c=60,d=30):\n",
    "    print(a,b,c,d)\n",
    "\n",
    "DefultArgumnets(a=10,b=20,c=30,d='NonDefult') "
   ]
  },
  {
   "cell_type": "code",
   "execution_count": 18,
   "metadata": {},
   "outputs": [
    {
     "name": "stdout",
     "output_type": "stream",
     "text": [
      "20 String\n",
      "20 50\n"
     ]
    }
   ],
   "source": [
    "\n",
    "\n",
    "x = 'String'\n",
    "y = 20\n",
    "\n",
    "print(y,x)\n",
    "\n",
    "v,c = 20,50\n",
    "\n",
    "print(v,c)"
   ]
  },
  {
   "cell_type": "code",
   "execution_count": 19,
   "metadata": {},
   "outputs": [
    {
     "name": "stdout",
     "output_type": "stream",
     "text": [
      "20 15\n"
     ]
    }
   ],
   "source": [
    "# soyab korar exampole\n",
    "\n",
    "t = 15\n",
    "p= 20\n",
    "\n",
    "t,p = p,t\n",
    "\n",
    "print(t,p)\n"
   ]
  },
  {
   "cell_type": "code",
   "execution_count": null,
   "metadata": {},
   "outputs": [],
   "source": [
    "print('hello')"
   ]
  }
 ],
 "metadata": {
  "interpreter": {
   "hash": "6070b739bda494cd05c55c4dd1fefe4bc7f51a70f6d608882e1910222e9cc2a3"
  },
  "kernelspec": {
   "name": "python3",
   "language": "python",
   "display_name": "Python 3 (ipykernel)"
  },
  "language_info": {
   "codemirror_mode": {
    "name": "ipython",
    "version": 3
   },
   "file_extension": ".py",
   "mimetype": "text/x-python",
   "name": "python",
   "nbconvert_exporter": "python",
   "pygments_lexer": "ipython3",
   "version": "3.8.8"
  },
  "orig_nbformat": 4
 },
 "nbformat": 4,
 "nbformat_minor": 2
}
