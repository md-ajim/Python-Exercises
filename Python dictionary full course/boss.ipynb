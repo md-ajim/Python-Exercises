{
 "cells": [
  {
   "cell_type": "code",
   "execution_count": null,
   "id": "4e50e78c",
   "metadata": {},
   "outputs": [],
   "source": [
    "profile = { 'name' : 'Ajim' , 'roll' : 'Full-Stack' } \n",
    "\n",
    "empty = "
   ]
  }
 ],
 "metadata": {
  "language_info": {
   "name": "python"
  }
 },
 "nbformat": 4,
 "nbformat_minor": 5
}
