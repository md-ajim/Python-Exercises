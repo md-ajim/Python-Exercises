{
 "cells": [
  {
   "cell_type": "code",
   "execution_count": 3,
   "id": "fc449c67",
   "metadata": {},
   "outputs": [
    {
     "name": "stdout",
     "output_type": "stream",
     "text": [
      "Enter a  muthly incom 5000\n",
      "200000.0\n"
     ]
    }
   ],
   "source": [
    "x = int(input('Enter a  muthly incom '))\n",
    "\n",
    "totalIncom = x * 60 \n",
    "\n",
    "yearlyTex = totalIncom / 10 \n",
    "\n",
    "retanFrist = yearlyTex /10\n",
    "\n",
    "Sampol2 = totalIncom / 1.5\n",
    "\n",
    "print(Sampol2)\n",
    "\n"
   ]
  },
  {
   "cell_type": "code",
   "execution_count": null,
   "id": "0e6e1a4b",
   "metadata": {},
   "outputs": [],
   "source": []
  }
 ],
 "metadata": {
  "kernelspec": {
   "display_name": "Python 3",
   "language": "python",
   "name": "python3"
  },
  "language_info": {
   "codemirror_mode": {
    "name": "ipython",
    "version": 3
   },
   "file_extension": ".py",
   "mimetype": "text/x-python",
   "name": "python",
   "nbconvert_exporter": "python",
   "pygments_lexer": "ipython3",
   "version": "3.8.8"
  }
 },
 "nbformat": 4,
 "nbformat_minor": 5
}
