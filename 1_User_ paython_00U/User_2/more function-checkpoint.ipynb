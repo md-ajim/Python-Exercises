{
 "cells": [
  {
   "cell_type": "code",
   "execution_count": 6,
   "id": "7e6352f5",
   "metadata": {},
   "outputs": [
    {
     "name": "stdout",
     "output_type": "stream",
     "text": [
      "Enter a degre number  30\n",
      "0.8660254037844387\n",
      "1.0471975511965979\n",
      "1.0\n"
     ]
    }
   ],
   "source": [
    "import math\n",
    "\n",
    "\n",
    "degree = float(input('Enter a degre number  '))\n",
    "redan = (degree * math.pi) /180\n",
    "sig = math.cos(redan) #  cos a number convert\n",
    "Acos = math.acos(0.5) # cos number convert\n",
    "\n",
    "\n",
    "print(sig)\n",
    "print(Acos)\n",
    "print(math.fabs(1)) # fabs hocce jay kono flot ar abslut number ta ber kore day\n",
    "print(math.exp()) # or kaj hoce exposol valou ta ber kore \n",
    "\n"
   ]
  },
  {
   "cell_type": "code",
   "execution_count": 2,
   "id": "a015ed54",
   "metadata": {},
   "outputs": [
    {
     "name": "stdout",
     "output_type": "stream",
     "text": [
      "0.1411200080598672\n"
     ]
    }
   ],
   "source": [
    "print(math.sin(3))"
   ]
  },
  {
   "cell_type": "code",
   "execution_count": null,
   "id": "66395e3b",
   "metadata": {},
   "outputs": [],
   "source": []
  }
 ],
 "metadata": {
  "kernelspec": {
   "display_name": "Python 3",
   "language": "python",
   "name": "python3"
  }
 },
 "nbformat": 4,
 "nbformat_minor": 5
}
