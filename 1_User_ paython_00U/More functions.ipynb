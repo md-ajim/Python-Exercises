{
 "cells": [
  {
   "cell_type": "code",
   "execution_count": 3,
   "id": "2c05bf39",
   "metadata": {},
   "outputs": [
    {
     "name": "stdout",
     "output_type": "stream",
     "text": [
      "0.49999999999999994\n"
     ]
    }
   ],
   "source": [
    "import math\n",
    "\n",
    "x = math.sin(math.pi / 6) #redan a convert\n",
    "\n",
    "\n",
    "print(x)\n",
    "\n",
    "# s = math.asin(0.5)\n",
    "\n",
    "\n",
    "\n",
    "# print (s)\n",
    "# print(p)\n"
   ]
  },
  {
   "cell_type": "code",
   "execution_count": 22,
   "id": "00746224",
   "metadata": {},
   "outputs": [
    {
     "name": "stdout",
     "output_type": "stream",
     "text": [
      "Enter a degre number  0.5\n",
      "0.008726535498373935\n",
      "0.5235987755982989\n"
     ]
    }
   ],
   "source": [
    "import math\n",
    "\n",
    "\n",
    "degree = float(input('Enter a degre number  '))\n",
    "\n",
    "redan = (degree * math.pi) /180 # degre to redan a convert\n",
    "\n",
    "# degre to redan a convert\n",
    "# akhon ami jidi sin ar valou ta dekta chi thole\n",
    "\n",
    "sig = math.sin(redan)\n",
    "\n",
    "print(sig) # sing number ta ber kore delo\n",
    "# print(x)\n",
    "\n",
    "s = math.asin(0.5)\n",
    "\n",
    "print(s)\n",
    "\n"
   ]
  },
  {
   "cell_type": "code",
   "execution_count": 24,
   "id": "addd0c42",
   "metadata": {},
   "outputs": [
    {
     "name": "stdout",
     "output_type": "stream",
     "text": [
      "0.5235987755982989 asin valou number , redan valou ar number same output\n",
      "0.008726646259971648 asin valou number , redan valou ar number same output\n",
      "0.5 sin function ta  redan valou ka \n",
      "1.5707963267948966 ata sin envers function \n"
     ]
    }
   ],
   "source": [
    "\n",
    "print(math.asin(0.5), 'asin valou number , redan valou ar number same output')\n",
    "print(redan ,'asin valou number , redan valou ar number same output' ) # so redan ar sate ar , sate ar math.asin tar valou gulo same aslo \n",
    "print(math.sin(0.5235987755982989) , 'sin function ta  redan valou ka ')\n",
    "\n",
    "\n",
    "\n",
    "print(math.asin(1), 'ata sin envers function ' )"
   ]
  },
  {
   "cell_type": "code",
   "execution_count": 4,
   "id": "26e7154e",
   "metadata": {},
   "outputs": [
    {
     "name": "stdout",
     "output_type": "stream",
     "text": [
      "0.49999999999999994\n"
     ]
    }
   ],
   "source": [
    "import math\n",
    "\n",
    "x = math.sin(math.pi/6)\n",
    "\n",
    "print(x)\n"
   ]
  },
  {
   "cell_type": "code",
   "execution_count": 18,
   "id": "a7925011",
   "metadata": {},
   "outputs": [
    {
     "name": "stdout",
     "output_type": "stream",
     "text": [
      "Enter a redan number0.5\n",
      "-0.3649283775894742\n",
      "0.5235987755982989\n"
     ]
    }
   ],
   "source": [
    "\n",
    "degre =  float(input('Enter a redan number'))\n",
    "\n",
    "redan =(degre/ math.pi)*180\n",
    "\n",
    "sin = math.sin(redan)\n",
    "\n",
    "asin = math.asin(0.5)\n",
    "\n",
    "\n",
    "\n",
    "print(sin)\n",
    "\n",
    "print(asin)\n",
    "\n",
    "\n"
   ]
  },
  {
   "cell_type": "code",
   "execution_count": null,
   "id": "fb68c6f3",
   "metadata": {},
   "outputs": [],
   "source": []
  }
 ],
 "metadata": {
  "kernelspec": {
   "display_name": "Python 3",
   "language": "python",
   "name": "python3"
  },
  "language_info": {
   "codemirror_mode": {
    "name": "ipython",
    "version": 3
   },
   "file_extension": ".py",
   "mimetype": "text/x-python",
   "name": "python",
   "nbconvert_exporter": "python",
   "pygments_lexer": "ipython3",
   "version": "3.8.8"
  }
 },
 "nbformat": 4,
 "nbformat_minor": 5
}
