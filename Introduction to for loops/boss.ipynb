{
 "cells": [
  {
   "cell_type": "code",
   "execution_count": 3,
   "source": [
    "\r\n",
    "String = 'apple banana eag Pinaple'\r\n",
    "\r\n",
    "for itam in String:\r\n",
    "    \r\n",
    "    print(\"This is  a String for loop exampol\",itam)\r\n",
    "\r\n"
   ],
   "outputs": [
    {
     "output_type": "stream",
     "name": "stdout",
     "text": [
      "This is  a String for loop exampol a\n",
      "This is  a String for loop exampol p\n",
      "This is  a String for loop exampol p\n",
      "This is  a String for loop exampol l\n",
      "This is  a String for loop exampol e\n",
      "This is  a String for loop exampol  \n",
      "This is  a String for loop exampol b\n",
      "This is  a String for loop exampol a\n",
      "This is  a String for loop exampol n\n",
      "This is  a String for loop exampol a\n",
      "This is  a String for loop exampol n\n",
      "This is  a String for loop exampol a\n",
      "This is  a String for loop exampol  \n",
      "This is  a String for loop exampol e\n",
      "This is  a String for loop exampol a\n",
      "This is  a String for loop exampol g\n",
      "This is  a String for loop exampol  \n",
      "This is  a String for loop exampol P\n",
      "This is  a String for loop exampol i\n",
      "This is  a String for loop exampol n\n",
      "This is  a String for loop exampol a\n",
      "This is  a String for loop exampol p\n",
      "This is  a String for loop exampol l\n",
      "This is  a String for loop exampol e\n"
     ]
    }
   ],
   "metadata": {}
  },
  {
   "cell_type": "code",
   "execution_count": 8,
   "source": [
    "# next loop \r\n",
    "\r\n",
    "NexLop = ('Appel','Banana')\r\n",
    "\r\n",
    "for Nex in NexLop:\r\n",
    "    \r\n",
    "    for Letter in Nex:\r\n",
    "        \r\n",
    "        print(Letter)\r\n"
   ],
   "outputs": [
    {
     "output_type": "stream",
     "name": "stdout",
     "text": [
      "A\n",
      "p\n",
      "p\n",
      "e\n",
      "l\n",
      "B\n",
      "a\n",
      "n\n",
      "a\n",
      "n\n",
      "a\n"
     ]
    }
   ],
   "metadata": {}
  },
  {
   "cell_type": "code",
   "execution_count": 19,
   "source": [
    "\r\n",
    "NumberIngloop  = 1,2,3,4,5,6,7,8,9,10\r\n",
    "\r\n",
    "for itam2 in NumberIngloop:\r\n",
    "    print(itam2 ** 3 ) #round kore Squre kore dekhalo \r\n",
    "    \r\n",
    "    \r\n",
    "    NumberIngloop\r\n"
   ],
   "outputs": [
    {
     "output_type": "stream",
     "name": "stdout",
     "text": [
      "1\n",
      "8\n",
      "27\n",
      "64\n",
      "125\n",
      "216\n",
      "343\n",
      "512\n",
      "729\n",
      "1000\n"
     ]
    }
   ],
   "metadata": {}
  },
  {
   "cell_type": "code",
   "execution_count": 15,
   "source": [
    "# next loop \r\n",
    "\r\n",
    "NexLop = ('1','2','3,','4','5','6','7','8',9)\r\n",
    "\r\n",
    "for Nex in NexLop:\r\n",
    "     for Letter in Nex:\r\n",
    "        print(Nex)\r\n"
   ],
   "outputs": [
    {
     "output_type": "stream",
     "name": "stdout",
     "text": [
      "1\n",
      "2\n",
      "3,\n",
      "3,\n",
      "4\n",
      "5\n",
      "6\n",
      "7\n",
      "8\n"
     ]
    },
    {
     "output_type": "error",
     "ename": "TypeError",
     "evalue": "'int' object is not iterable",
     "traceback": [
      "\u001b[1;31m---------------------------------------------------------------------------\u001b[0m",
      "\u001b[1;31mTypeError\u001b[0m                                 Traceback (most recent call last)",
      "\u001b[1;32m<ipython-input-15-fc3224c4da6b>\u001b[0m in \u001b[0;36m<module>\u001b[1;34m\u001b[0m\n\u001b[0;32m      4\u001b[0m \u001b[1;33m\u001b[0m\u001b[0m\n\u001b[0;32m      5\u001b[0m \u001b[1;32mfor\u001b[0m \u001b[0mNex\u001b[0m \u001b[1;32min\u001b[0m \u001b[0mNexLop\u001b[0m\u001b[1;33m:\u001b[0m\u001b[1;33m\u001b[0m\u001b[1;33m\u001b[0m\u001b[0m\n\u001b[1;32m----> 6\u001b[1;33m      \u001b[1;32mfor\u001b[0m \u001b[0mLetter\u001b[0m \u001b[1;32min\u001b[0m \u001b[0mNex\u001b[0m\u001b[1;33m:\u001b[0m\u001b[1;33m\u001b[0m\u001b[1;33m\u001b[0m\u001b[0m\n\u001b[0m\u001b[0;32m      7\u001b[0m         \u001b[0mprint\u001b[0m\u001b[1;33m(\u001b[0m\u001b[0mNex\u001b[0m\u001b[1;33m)\u001b[0m\u001b[1;33m\u001b[0m\u001b[1;33m\u001b[0m\u001b[0m\n",
      "\u001b[1;31mTypeError\u001b[0m: 'int' object is not iterable"
     ]
    }
   ],
   "metadata": {}
  },
  {
   "cell_type": "code",
   "execution_count": 1,
   "source": [
    "for i in range(1,5,2):\r\n",
    "    print(i)"
   ],
   "outputs": [
    {
     "output_type": "stream",
     "name": "stdout",
     "text": [
      "1\n",
      "3\n"
     ]
    }
   ],
   "metadata": {}
  },
  {
   "cell_type": "code",
   "execution_count": 40,
   "source": [
    "\r\n",
    "Selicing = ('1,2,3,4,5,6,7,8,9,10')\r\n",
    "for x  in Selicing:\r\n",
    "    \r\n",
    "    x[1:2]\r\n",
    "    print(x)\r\n",
    "  "
   ],
   "outputs": [
    {
     "output_type": "stream",
     "name": "stdout",
     "text": [
      "1\n",
      ",\n",
      "2\n",
      ",\n",
      "3\n",
      ",\n",
      "4\n",
      ",\n",
      "5\n",
      ",\n",
      "6\n",
      ",\n",
      "7\n",
      ",\n",
      "8\n",
      ",\n",
      "9\n",
      ",\n",
      "1\n",
      "0\n"
     ]
    }
   ],
   "metadata": {}
  }
 ],
 "metadata": {
  "orig_nbformat": 4,
  "language_info": {
   "name": "python",
   "version": "3.8.8",
   "mimetype": "text/x-python",
   "codemirror_mode": {
    "name": "ipython",
    "version": 3
   },
   "pygments_lexer": "ipython3",
   "nbconvert_exporter": "python",
   "file_extension": ".py"
  },
  "kernelspec": {
   "name": "python3",
   "display_name": "Python 3.8.8 64-bit ('base': conda)"
  },
  "interpreter": {
   "hash": "6070b739bda494cd05c55c4dd1fefe4bc7f51a70f6d608882e1910222e9cc2a3"
  }
 },
 "nbformat": 4,
 "nbformat_minor": 2
}