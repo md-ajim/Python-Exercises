{
 "cells": [
  {
   "cell_type": "code",
   "execution_count": 125,
   "id": "e0df7e28",
   "metadata": {},
   "outputs": [
    {
     "name": "stdout",
     "output_type": "stream",
     "text": [
      "Enter a  chr numebr d\n",
      "D\n"
     ]
    }
   ],
   "source": [
    "x = ord(input('Enter a  chr numebr '))\n",
    "\n",
    "if(x>=65):\n",
    "    \n",
    "    c = x-32\n",
    "    e = chr(c)\n",
    "    print(e)\n",
    "    \n",
    "elif(x<97):\n",
    "    o = x + 32\n",
    "    w = chr(o)\n",
    "    print(w)\n",
    "    \n",
    "    \n",
    "#  tho ay babe amra charct ar gulo ber korlam\n",
    "\n",
    "    \n",
    "\n",
    "    "
   ]
  },
  {
   "cell_type": "code",
   "execution_count": null,
   "id": "e9e1f232",
   "metadata": {},
   "outputs": [],
   "source": [
    "\n"
   ]
  },
  {
   "cell_type": "code",
   "execution_count": 95,
   "id": "f405e1cf",
   "metadata": {},
   "outputs": [
    {
     "name": "stdout",
     "output_type": "stream",
     "text": [
      "10\n"
     ]
    }
   ],
   "source": [
    "x = 10 \n",
    "\n",
    "c = 20 \n",
    "\n",
    "a = c-x\n",
    "\n",
    "print(a)\n",
    "\n"
   ]
  },
  {
   "cell_type": "code",
   "execution_count": null,
   "id": "ba52f4d3",
   "metadata": {},
   "outputs": [],
   "source": []
  }
 ],
 "metadata": {
  "kernelspec": {
   "display_name": "Python 3",
   "language": "python",
   "name": "python3"
  },
  "language_info": {
   "codemirror_mode": {
    "name": "ipython",
    "version": 3
   },
   "file_extension": ".py",
   "mimetype": "text/x-python",
   "name": "python",
   "nbconvert_exporter": "python",
   "pygments_lexer": "ipython3",
   "version": "3.8.10"
  }
 },
 "nbformat": 4,
 "nbformat_minor": 5
}
