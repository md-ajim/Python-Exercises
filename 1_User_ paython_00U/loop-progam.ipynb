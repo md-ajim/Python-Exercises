{
 "cells": [
  {
   "cell_type": "code",
   "execution_count": 15,
   "id": "8889c88a",
   "metadata": {},
   "outputs": [
    {
     "name": "stdout",
     "output_type": "stream",
     "text": [
      "Enter a  w valou number 10\n",
      "This is lop progam number - :  55\n"
     ]
    }
   ],
   "source": [
    "n = int(input('Enter a  w valou number '))\n",
    "x = 0\n",
    "i = 0  \n",
    "        \n",
    "while i<=n:\n",
    "    x = x +i\n",
    "    i += 1\n",
    "print('This is lop progam number - : ',x ) # problem is tha code block\n",
    "        \n",
    "    \n",
    "        \n",
    "\n",
    "        \n",
    "        \n"
   ]
  },
  {
   "cell_type": "code",
   "execution_count": 3,
   "id": "1b9afe03",
   "metadata": {},
   "outputs": [
    {
     "name": "stdout",
     "output_type": "stream",
     "text": [
      "Enter a  w valou number 3\n",
      "This is lop progam number - :  6\n"
     ]
    }
   ],
   "source": [
    "n = int(input('Enter a  w valou number '))\n",
    "x = 1 \n",
    "i = 1 # jodi gun korta chi thole amke alwas deta hobe \n",
    "        \n",
    "while i<=n:\n",
    "    x = x *i\n",
    "    i += 1\n",
    "print('This is lop progam number - : ',x ) # problem is tha code block\n",
    "        \n",
    "    \n",
    "        \n"
   ]
  },
  {
   "cell_type": "code",
   "execution_count": 4,
   "id": "b72ad9b5",
   "metadata": {},
   "outputs": [
    {
     "name": "stdout",
     "output_type": "stream",
     "text": [
      "Enter a loop row number2\n"
     ]
    }
   ],
   "source": [
    "x = int(input('Enter a loop row number'))\n",
    "\n",
    "i = 0\n",
    "while i < x:\n",
    "    i+= 1\n",
    "    j = 0\n",
    "    while j <i:\n",
    "         \n",
    " \n",
    "\n",
    "\n"
   ]
  },
  {
   "cell_type": "code",
   "execution_count": null,
   "id": "85a737e2",
   "metadata": {},
   "outputs": [],
   "source": []
  }
 ],
 "metadata": {
  "kernelspec": {
   "display_name": "Python 3",
   "language": "python",
   "name": "python3"
  },
  "language_info": {
   "codemirror_mode": {
    "name": "ipython",
    "version": 3
   },
   "file_extension": ".py",
   "mimetype": "text/x-python",
   "name": "python",
   "nbconvert_exporter": "python",
   "pygments_lexer": "ipython3",
   "version": "3.8.8"
  }
 },
 "nbformat": 4,
 "nbformat_minor": 5
}
