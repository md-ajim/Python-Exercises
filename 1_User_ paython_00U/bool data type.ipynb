{
 "cells": [
  {
   "cell_type": "code",
   "execution_count": 1,
   "id": "90d59749",
   "metadata": {
    "ExecuteTime": {
     "end_time": "2024-02-02T10:12:13.594390800Z",
     "start_time": "2024-02-02T10:12:13.577387800Z"
    }
   },
   "outputs": [
    {
     "name": "stdout",
     "output_type": "stream",
     "text": [
      "True\n",
      "False\n"
     ]
    },
    {
     "data": {
      "text/plain": "bool"
     },
     "execution_count": 1,
     "metadata": {},
     "output_type": "execute_result"
    }
   ],
   "source": [
    "# boolian deta type for python\n",
    "\n",
    "\n",
    "x = (10==10) # doolian deta type dabol equal many defult babe tree false counte korba, jodi 2 ta valou sotto hoy hole dabol equal a turee retan korba ar jodi akta false ar akta ture hoy thoele false retan korba\n",
    "\n",
    "print(x)\n",
    "\n",
    "\n",
    "c = 10==15\n",
    "\n",
    "print(c)\n",
    "\n",
    "type(c)\n",
    "\n",
    "\n",
    "#alhamdulla bujta prlam"
   ]
  },
  {
   "cell_type": "code",
   "execution_count": 2,
   "id": "6ea6b125",
   "metadata": {
    "ExecuteTime": {
     "end_time": "2024-02-02T10:12:13.919531100Z",
     "start_time": "2024-02-02T10:12:13.598394Z"
    }
   },
   "outputs": [
    {
     "data": {
      "text/plain": "bool"
     },
     "execution_count": 2,
     "metadata": {},
     "output_type": "execute_result"
    }
   ],
   "source": [
    "type(x)"
   ]
  },
  {
   "cell_type": "code",
   "execution_count": 3,
   "id": "bd8ae2ab",
   "metadata": {
    "ExecuteTime": {
     "end_time": "2024-02-02T10:12:14.724234400Z",
     "start_time": "2024-02-02T10:12:13.918526400Z"
    }
   },
   "outputs": [
    {
     "name": "stdout",
     "output_type": "stream",
     "text": [
      "True\n",
      "False\n",
      "True\n",
      "False\n",
      "True\n",
      "False\n",
      "False\n",
      "True\n",
      "True\n",
      "False\n",
      "False\n",
      "True\n",
      "False\n",
      "True\n",
      "True\n"
     ]
    }
   ],
   "source": [
    "#boolean deta type ar exampol \n",
    "\n",
    "# gretar equal >= \n",
    "\n",
    "y =  (5 >= 5)  # ture    # getar dan equal a  2 ta valou jodi same hoy thole ture hobe ar akta valou jodi false hoy se folse retan korba\n",
    "\n",
    "\n",
    "x =  (6 >= 5)  # true    ar karon hocce 5 / ar take 6 boro\n",
    "\n",
    "\n",
    "x =  (4 >= 5) # false    asba karon 5 ar thke false choto\n",
    "\n",
    "print(y,'firs---y ar man')\n",
    "\n",
    "print(x, 'second--x ar value ar man')\n",
    "\n",
    "\n",
    "\n",
    "\n",
    "\n",
    "# les equal <., =>\n",
    "\n",
    "\n",
    "v =  5 <= 5 # false   #  lesden ar khatr se dutai true pela se flse rtan korba \n",
    "\n",
    "print(v,'leas den ar valou')\n",
    "\n",
    "v2 = 6 <= 5 # false  \n",
    "\n",
    "\n",
    "\n",
    "\n",
    "\n",
    "print(v2)\n",
    "\n",
    "\n",
    "v3 = 4 <= 5  # true\n",
    "\n",
    "print(v3)\n",
    "\n",
    "\n",
    "\n",
    "\n",
    "\n",
    "\n",
    "\n",
    "\n",
    "# gretardan >\n",
    "\n",
    "\n",
    "\n",
    "a = (4 > 5 ) # false\n",
    "b = (5 > 5) # false \n",
    "c =( 6 > 5) # true\n",
    "\n",
    "\n",
    "print(a)\n",
    "\n",
    "print(b)\n",
    "\n",
    "print(c)\n",
    "\n",
    "\n",
    "# lesdan <\n",
    "\n",
    "\n",
    "\n",
    "a = (4 < 5 ) # true\n",
    "b = (5 < 5) # ture \n",
    "c =( 6 < 5) # false\n",
    "\n",
    "\n",
    "print(a)\n",
    "\n",
    "print(b)\n",
    "\n",
    "print(c)\n",
    "\n",
    "\n",
    "\n",
    "# not equal  =! \n",
    "\n",
    "\n",
    "\n",
    "a = (4 != 5 ) # true\n",
    "b = (5 != 5) # false  \n",
    "c =( 6 != 5) # true\n",
    "\n",
    "\n",
    "print(a)\n",
    "\n",
    "print(b)\n",
    "\n",
    "print(c)\n",
    "\n",
    "\n",
    "\n",
    "\n",
    "\n",
    "w = \"Azimulislass\"<\"Ksimjobab\" # str a kahte charect guolo folo kore ( a > b  false  a > a false b > a ture // lesden ar khata ar hulto ta  )\n",
    "\n",
    "print(w)\n",
    "\n",
    "\n",
    "# is not\n",
    "\n",
    "\n",
    "\n",
    "\n",
    "\n"
   ]
  },
  {
   "cell_type": "code",
   "execution_count": 4,
   "id": "dd3a826f",
   "metadata": {
    "ExecuteTime": {
     "end_time": "2024-02-02T10:12:22.227704200Z",
     "start_time": "2024-02-02T10:12:14.729239500Z"
    }
   },
   "outputs": [
    {
     "name": "stdout",
     "output_type": "stream",
     "text": [
      "Yes\n"
     ]
    }
   ],
   "source": [
    "# condisonal \n",
    "\n",
    "x = input()\n",
    "\n",
    "if  int(x) > 0:\n",
    "    \n",
    "    print(\"Yes\")\n",
    "    \n",
    "    \n",
    "else:\n",
    "    \n",
    "    print(\"No\")\n",
    "\n",
    "\n"
   ]
  },
  {
   "cell_type": "code",
   "execution_count": 3,
   "id": "feaaf82e",
   "metadata": {
    "ExecuteTime": {
     "end_time": "2024-03-01T11:58:09.281185900Z",
     "start_time": "2024-03-01T11:58:06.302433200Z"
    }
   },
   "outputs": [
    {
     "name": "stdout",
     "output_type": "stream",
     "text": [
      "Yes\n"
     ]
    }
   ],
   "source": [
    "# x = input(\"Enatr a age: \")\n",
    "# \n",
    "# if  int(x) >= 18:\n",
    "#     \n",
    "#     print(\"Sussessfull your age\",x)\n",
    "#     \n",
    "#     \n",
    "#     \n",
    "# else : \n",
    "#     \n",
    "#     print(\"Not match your age\",x)\n",
    "# \n",
    "# \n",
    "\n",
    "\n",
    "\n",
    "\n",
    "    \n",
    "    \n",
    "y = input(\"Enter a age : \")\n",
    "\n",
    "\n",
    "if float(y) > 0: \n",
    "    \n",
    "    \n",
    "    print(\"Yes\" )\n",
    "    \n",
    "else:  \n",
    "        \n",
    "    print(\"No\")\n",
    "    \n",
    "    \n",
    "    \n",
    "        \n",
    "        \n",
    "    \n",
    "   \n",
    "    \n",
    "\n"
   ]
  },
  {
   "cell_type": "code",
   "execution_count": 4,
   "id": "4c2116df",
   "metadata": {
    "ExecuteTime": {
     "end_time": "2024-03-01T11:58:26.972324900Z",
     "start_time": "2024-03-01T11:58:21.512487100Z"
    }
   },
   "outputs": [
    {
     "name": "stdout",
     "output_type": "stream",
     "text": [
      "Evan\n"
     ]
    }
   ],
   "source": [
    " \n",
    "\n",
    "x = input(\"Enter a number\")\n",
    "\n",
    "\n",
    "if int(x)%2== 0:\n",
    "\n",
    "    print(\"Evan\")\n",
    "    \n",
    "else:\n",
    "    \n",
    "    print(\"Odd\")\n",
    "    \n",
    "\n"
   ]
  },
  {
   "cell_type": "code",
   "execution_count": null,
   "outputs": [],
   "source": [],
   "metadata": {
    "collapsed": false
   },
   "id": "cada37fa776b6895"
  }
 ],
 "metadata": {
  "kernelspec": {
   "display_name": "Python 3",
   "language": "python",
   "name": "python3"
  },
  "language_info": {
   "codemirror_mode": {
    "name": "ipython",
    "version": 3
   },
   "file_extension": ".py",
   "mimetype": "text/x-python",
   "name": "python",
   "nbconvert_exporter": "python",
   "pygments_lexer": "ipython3",
   "version": "3.8.8"
  }
 },
 "nbformat": 4,
 "nbformat_minor": 5
}
