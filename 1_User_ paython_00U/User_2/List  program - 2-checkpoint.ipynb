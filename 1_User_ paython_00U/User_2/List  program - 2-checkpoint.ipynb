{
 "cells": [
  {
   "cell_type": "code",
   "execution_count": 1,
   "id": "ad58b801",
   "metadata": {},
   "outputs": [],
   "source": [
    "Bazar_list = ['Bannana','fish','Pen','tometo','hen', 20, 60, 90,80]\n",
    "\n",
    "Bazar_list.remove('fish') #  betor take list remove\n"
   ]
  },
  {
   "cell_type": "code",
   "execution_count": 2,
   "id": "99f0bb47",
   "metadata": {},
   "outputs": [
    {
     "name": "stdout",
     "output_type": "stream",
     "text": [
      "['Bannana', 'Pen', 'tometo', 'hen', 20, 60, 90, 80]\n"
     ]
    }
   ],
   "source": [
    "print(Bazar_list)"
   ]
  },
  {
   "cell_type": "code",
   "execution_count": 6,
   "id": "471be1cc",
   "metadata": {},
   "outputs": [
    {
     "name": "stdout",
     "output_type": "stream",
     "text": [
      "[]\n"
     ]
    }
   ],
   "source": [
    "Bazar_list = ['Bannana','fish','Pen','tometo','hen', 20, 60, 90,80]\n",
    "\n",
    "Bazar_list.clear()# all removed list\n",
    "\n",
    "print(Bazar_list)\n"
   ]
  },
  {
   "cell_type": "code",
   "execution_count": 7,
   "id": "b077e890",
   "metadata": {},
   "outputs": [
    {
     "data": {
      "text/plain": [
       "80"
      ]
     },
     "execution_count": 7,
     "metadata": {},
     "output_type": "execute_result"
    }
   ],
   "source": [
    "Bazar_list = ['Bannana','fish','Pen','tometo','hen', 20, 60, 90,80]\n",
    "\n",
    "Bazar_list.pop() # gar dakka deya delo pop 80 ka"
   ]
  },
  {
   "cell_type": "code",
   "execution_count": 8,
   "id": "1ee7a83a",
   "metadata": {},
   "outputs": [
    {
     "name": "stdout",
     "output_type": "stream",
     "text": [
      "['Bannana', 'fish', 'Pen', 'tometo', 'hen', 20, 60, 90]\n"
     ]
    }
   ],
   "source": [
    "\n",
    "print(Bazar_list)"
   ]
  },
  {
   "cell_type": "code",
   "execution_count": 7,
   "id": "b956be17",
   "metadata": {},
   "outputs": [
    {
     "name": "stdout",
     "output_type": "stream",
     "text": [
      "['Bannana', 'Pen', 'tometo', 'hen', 20, 60, 90, 80]\n"
     ]
    }
   ],
   "source": [
    "Bazar_list = ['Bannana','fish','Pen','tometo','hen', 20, 60, 90,80]\n",
    "\n",
    "del Bazar_list[1] # akhon ami jdi kono elemnet delede korta chi exampol\n",
    "\n",
    "\n",
    "\n",
    "print(Bazar_list)"
   ]
  },
  {
   "cell_type": "code",
   "execution_count": 11,
   "id": "ff1a402b",
   "metadata": {},
   "outputs": [
    {
     "ename": "NameError",
     "evalue": "name 'Bazar_list' is not defined",
     "output_type": "error",
     "traceback": [
      "\u001b[1;31m---------------------------------------------------------------------------\u001b[0m",
      "\u001b[1;31mNameError\u001b[0m                                 Traceback (most recent call last)",
      "\u001b[1;32m<ipython-input-11-4648a417688b>\u001b[0m in \u001b[0;36m<module>\u001b[1;34m\u001b[0m\n\u001b[0;32m      5\u001b[0m \u001b[1;33m\u001b[0m\u001b[0m\n\u001b[0;32m      6\u001b[0m \u001b[1;33m\u001b[0m\u001b[0m\n\u001b[1;32m----> 7\u001b[1;33m \u001b[0mprint\u001b[0m\u001b[1;33m(\u001b[0m\u001b[0mBazar_list\u001b[0m\u001b[1;33m)\u001b[0m\u001b[1;33m\u001b[0m\u001b[1;33m\u001b[0m\u001b[0m\n\u001b[0m",
      "\u001b[1;31mNameError\u001b[0m: name 'Bazar_list' is not defined"
     ]
    }
   ],
   "source": [
    "Bazar_list = ['Bannana','fish','Pen','tometo','hen', 20, 60, 90,80]\n",
    "\n",
    "del Bazar_list # list purotai delede kore fellam\n",
    "\n",
    "\n",
    "\n",
    "print(Bazar_list) "
   ]
  },
  {
   "cell_type": "code",
   "execution_count": 13,
   "id": "7601a860",
   "metadata": {},
   "outputs": [
    {
     "name": "stdout",
     "output_type": "stream",
     "text": [
      "(['Bannana', 'fish', 'Pen', 'tometo', 'hen', 20, 60, 90, 80, 'goot', 'pepa', 'rich', 'mango', 'ak', 'kachamorice', 10, 90, 80, 70, 90, 70, 40],)\n"
     ]
    }
   ],
   "source": [
    "# akhon ami jdi  chi 2 ta list jog kore thard list banate thole tar exampol\n",
    "\n",
    "Bazar_listFrst = ['Bannana','fish','Pen','tometo','hen', 20, 60, 90,80]\n",
    "\n",
    "Bazar_listSecend = ['goot','pepa','rich','mango','ak','kachamorice',10,90,80,70,90,70,40]  \n",
    "\n",
    "ThardList = Bazar_listFrst + Bazar_listSecend,\n",
    "\n",
    "print(ThardList)\n",
    "\n",
    "\n"
   ]
  },
  {
   "cell_type": "code",
   "execution_count": 20,
   "id": "c46fbda1",
   "metadata": {},
   "outputs": [
    {
     "ename": "SyntaxError",
     "evalue": "invalid syntax (<ipython-input-20-911a36c6d730>, line 11)",
     "output_type": "error",
     "traceback": [
      "\u001b[1;36m  File \u001b[1;32m\"<ipython-input-20-911a36c6d730>\"\u001b[1;36m, line \u001b[1;32m11\u001b[0m\n\u001b[1;33m    ThardList = ThardList.index('ak'):\u001b[0m\n\u001b[1;37m                                     ^\u001b[0m\n\u001b[1;31mSyntaxError\u001b[0m\u001b[1;31m:\u001b[0m invalid syntax\n"
     ]
    }
   ],
   "source": [
    "# akhon ami jodi list ar index , ta bha oi index ta ace kita ta ber chila tar exampol\n",
    "\n",
    "\n",
    "\n",
    "\n",
    "Bazar_listFrst = ['Bannana','fish','Pen','tometo','hen', 20, 60, 90,80]\n",
    "Bazar_listSecend = ['goot','pepa','rich','mango','ak','kachamorice',10,90,80,70,90,70,40]  \n",
    "ThardList = Bazar_listFrst + Bazar_listSecend,\n",
    "\n",
    "\n",
    "ThardList = ThardList.index('ak'):\n",
    "    print(ThardList)\n",
    "    \n",
    "\n",
    "\n",
    "\n"
   ]
  },
  {
   "cell_type": "code",
   "execution_count": null,
   "id": "1e06a2fa",
   "metadata": {},
   "outputs": [],
   "source": []
  }
 ],
 "metadata": {
  "kernelspec": {
   "display_name": "Python 3",
   "language": "python",
   "name": "python3"
  },
  "language_info": {
   "codemirror_mode": {
    "name": "ipython",
    "version": 3
   },
   "file_extension": ".py",
   "mimetype": "text/x-python",
   "name": "python",
   "nbconvert_exporter": "python",
   "pygments_lexer": "ipython3",
   "version": "3.8.8"
  }
 },
 "nbformat": 4,
 "nbformat_minor": 5
}
