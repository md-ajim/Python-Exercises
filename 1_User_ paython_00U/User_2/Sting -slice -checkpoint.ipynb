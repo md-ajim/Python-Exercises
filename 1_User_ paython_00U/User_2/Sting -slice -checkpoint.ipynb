{
 "cells": [
  {
   "cell_type": "code",
   "execution_count": 2,
   "id": "17fdacd8",
   "metadata": {},
   "outputs": [
    {
     "name": "stdout",
     "output_type": "stream",
     "text": [
      "Enter a namber: 5\n",
      "Enter a namber: 10\n",
      "125\n"
     ]
    }
   ],
   "source": [
    "x = int(input(\"Enter a namber: \" ))\n",
    "\n",
    "c = int(input(\"Enter a namber: \"))\n",
    "\n",
    "\n",
    "print(x * x + c * c ) # x^2 + c^c parinting\n",
    "\n",
    "\n",
    "\n"
   ]
  },
  {
   "cell_type": "code",
   "execution_count": 14,
   "id": "91b61385",
   "metadata": {},
   "outputs": [
    {
     "name": "stdout",
     "output_type": "stream",
     "text": [
      "B a n g l a d e s h\n",
      "h s e d a l g n a B\n"
     ]
    }
   ],
   "source": [
    "\n",
    "\n",
    "\n",
    "\n",
    "x = \"Bangladesh\"\n",
    "\n",
    "x[0]\n",
    "\n",
    "\n",
    "\n",
    "print(x[0], x[1], x[2],  x[3], x[4], x[5], x[6], x[7], x[8], x[9]) #   strincg ar cerictir gulo ber kore anlam arry system kore\n",
    "\n",
    "print(x[-1], x[-2],  x[-3], x[-4], x[-5], x[-6], x[-7], x[-8], x[-9], x[-10]) # alhamdulla str ar charat gulo ber kore anlam\n",
    "\n"
   ]
  },
  {
   "cell_type": "code",
   "execution_count": null,
   "id": "a5d998a9",
   "metadata": {},
   "outputs": [],
   "source": []
  },
  {
   "cell_type": "code",
   "execution_count": null,
   "id": "dd84cbef",
   "metadata": {},
   "outputs": [],
   "source": []
  }
 ],
 "metadata": {
  "kernelspec": {
   "display_name": "Python 3",
   "language": "python",
   "name": "python3"
  },
  "language_info": {
   "codemirror_mode": {
    "name": "ipython",
    "version": 3
   },
   "file_extension": ".py",
   "mimetype": "text/x-python",
   "name": "python",
   "nbconvert_exporter": "python",
   "pygments_lexer": "ipython3",
   "version": "3.8.10"
  }
 },
 "nbformat": 4,
 "nbformat_minor": 5
}
