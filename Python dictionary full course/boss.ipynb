{
 "cells": [
  {
   "cell_type": "code",
   "execution_count": 25,
   "id": "f63d1bb6",
   "metadata": {},
   "outputs": [],
   "source": [
    "# 2) তৈর/অ্যাক্সেস/আপডট/ ডলিট\n",
    "#  তৈর করার উপায\n",
    "\n",
    "# লটারিাল\n",
    "profile = { 'name' : 'Ajim' , 'roll' : 'Full-Stack' } \n",
    "\n",
    "\n",
    " # কেনস্ট্রাক্টের\n",
    "empty =  dict()\n",
    "form_pairs = dict([( 'a' , 1 ), (\"b\", 2)])\n",
    "from_kwargs = dict( name = 'Ajim', role = 'Developer')\n",
    "\n",
    " # fromkeys\n",
    "\n",
    "d = dict.fromkeys( [ 'a' , 'b' , 'c'] , 0)\n"
   ]
  },
  {
   "cell_type": "code",
   "execution_count": 26,
   "id": "a74f676a",
   "metadata": {},
   "outputs": [
    {
     "data": {
      "text/plain": [
       "0"
      ]
     },
     "execution_count": 26,
     "metadata": {},
     "output_type": "execute_result"
    }
   ],
   "source": [
    "# অ্যাক্সেস\n",
    "\n",
    "profile['name'] # KeyError হল ক্র্যাশ\n",
    "profile['roll']\n",
    "\n",
    "profile.get('name')\n",
    "profile.get('age' ,0)\n",
    "\n"
   ]
  },
  {
   "cell_type": "code",
   "execution_count": 27,
   "id": "45a84efa",
   "metadata": {},
   "outputs": [
    {
     "data": {
      "text/plain": [
       "{'name': 'Ajim', 'roll': 'backend', 'country': 'BD', 'timezone': 'UCT'}"
      ]
     },
     "execution_count": 27,
     "metadata": {},
     "output_type": "execute_result"
    }
   ],
   "source": [
    "# আপডট/ইনসাট\n",
    "\n",
    "profile['country'] = 'BD'  # set/insert\n",
    "profile\n",
    "\n",
    "profile.update({ 'roll' : 'backend'}) # multiple keys\n",
    "profile\n",
    "\n",
    "profile.setdefault('timezone' , 'UCT') # না থোকেল সেট কেরি, থোকেল আগরিটাই রিখে দেয\n",
    "\n",
    "profile"
   ]
  },
  {
   "cell_type": "code",
   "execution_count": null,
   "id": "dcee5a50",
   "metadata": {},
   "outputs": [
    {
     "ename": "KeyError",
     "evalue": "'popitem(): dictionary is empty'",
     "output_type": "error",
     "traceback": [
      "\u001b[31m---------------------------------------------------------------------------\u001b[39m",
      "\u001b[31mKeyError\u001b[39m                                  Traceback (most recent call last)",
      "\u001b[36mCell\u001b[39m\u001b[36m \u001b[39m\u001b[32mIn[38]\u001b[39m\u001b[32m, line 7\u001b[39m\n\u001b[32m      4\u001b[39m value = profile.pop(\u001b[33m'\u001b[39m\u001b[33mcountry\u001b[39m\u001b[33m'\u001b[39m , \u001b[38;5;28;01mNone\u001b[39;00m)  \u001b[38;5;66;03m# safe remove\u001b[39;00m\n\u001b[32m      5\u001b[39m value\n\u001b[32m----> \u001b[39m\u001b[32m7\u001b[39m lastItem = \u001b[43mprofile\u001b[49m\u001b[43m.\u001b[49m\u001b[43mpopitem\u001b[49m\u001b[43m(\u001b[49m\u001b[43m)\u001b[49m\n\u001b[32m      8\u001b[39m lastItem\n\u001b[32m     10\u001b[39m profile.clear()\n",
      "\u001b[31mKeyError\u001b[39m: 'popitem(): dictionary is empty'"
     ]
    }
   ],
   "source": [
    "# ডলিট\n",
    "# del profile['roll']\n",
    "\n",
    "value = profile.pop('country' , None)  # safe remove\n",
    "value\n",
    "lastItem = profile.popitem()\n",
    "lastItem\n",
    "\n",
    "profile.clear()\n",
    "\n"
   ]
  },
  {
   "cell_type": "code",
   "execution_count": null,
   "id": "a96b3192",
   "metadata": {},
   "outputs": [
    {
     "data": {
      "text/plain": [
       "{0: 0, 2: 4, 4: 16, 6: 36, 8: 64}"
      ]
     },
     "execution_count": 3,
     "metadata": {},
     "output_type": "execute_result"
    }
   ],
   "source": [
    "\n",
    "# ডকশনার কমপ্রহনশন\n",
    "\n",
    "\n",
    "squares = {  n : n*n for n in range( 1 ,6)   }\n",
    "\n",
    "squares\n",
    "\n",
    " # ফল্টারি সেহ\n",
    "\n",
    "even_squares = { n: n*n for n in range( 10) if n % 2 ==0}\n",
    "\n",
    "even_squares"
   ]
  },
  {
   "cell_type": "code",
   "execution_count": null,
   "id": "6e60c3eb",
   "metadata": {},
   "outputs": [
    {
     "data": {
      "text/plain": [
       "{'name': 'Ajim', 'tags': ['django', 'nextJs']}"
      ]
     },
     "execution_count": 4,
     "metadata": {},
     "output_type": "execute_result"
    }
   ],
   "source": [
    "nested = { 'name' : 'Ajim' , 'tags' : [ 'django' , 'nextJs' ] }\n",
    "\n",
    "copy = nested.copy() # inner রিফারিন্স শয়োরি কের\n",
    "copy"
   ]
  },
  {
   "cell_type": "code",
   "execution_count": 5,
   "id": "6e75551b",
   "metadata": {},
   "outputs": [
    {
     "data": {
      "text/plain": [
       "{'name': 'Ajim', 'tags': ['django', 'nextJs']}"
      ]
     },
     "execution_count": 5,
     "metadata": {},
     "output_type": "execute_result"
    }
   ],
   "source": [
    "import copy\n",
    "\n",
    "\n",
    "deep = copy.deepcopy(nested)\n",
    "\n",
    "deep"
   ]
  },
  {
   "cell_type": "code",
   "execution_count": 6,
   "id": "8c6e9004",
   "metadata": {},
   "outputs": [
    {
     "data": {
      "text/plain": [
       "{'name': 'ajim',\n",
       " 'propesion': 'Full-Stack Developer',\n",
       " 'country': 'BD',\n",
       " 'city': 'barisal'}"
      ]
     },
     "execution_count": 6,
     "metadata": {},
     "output_type": "execute_result"
    }
   ],
   "source": [
    "# মার্জ এবং আনপ্যাক করা\n",
    "\n",
    "x  = { 'name' : 'ajim' , 'propesion' : 'Full-Stack Developer' }\n",
    "y = { 'country' : 'BD' , 'city' : 'barisal' }\n",
    "\n",
    "merge = x | y\n",
    "\n",
    "merge"
   ]
  },
  {
   "cell_type": "code",
   "execution_count": 1,
   "id": "7c46f2f7",
   "metadata": {},
   "outputs": [
    {
     "data": {
      "text/plain": [
       "'{\"id\": 1, \"name\": \"ajim\"}'"
      ]
     },
     "execution_count": 1,
     "metadata": {},
     "output_type": "execute_result"
    }
   ],
   "source": [
    "# সিরিয়ালজারশন\n",
    "\n",
    "import json\n",
    "\n",
    "user = { 'id' :  1 , 'name' : 'ajim'}\n",
    "\n",
    "jsn = json.dumps(user)\n",
    "\n",
    "jsn\n"
   ]
  }
 ],
 "metadata": {
  "kernelspec": {
   "display_name": "Python 3",
   "language": "python",
   "name": "python3"
  },
  "language_info": {
   "codemirror_mode": {
    "name": "ipython",
    "version": 3
   },
   "file_extension": ".py",
   "mimetype": "text/x-python",
   "name": "python",
   "nbconvert_exporter": "python",
   "pygments_lexer": "ipython3",
   "version": "3.13.5"
  }
 },
 "nbformat": 4,
 "nbformat_minor": 5
}
