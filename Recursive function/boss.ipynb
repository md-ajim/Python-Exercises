{
 "cells": [
  {
   "cell_type": "code",
   "execution_count": null,
   "source": [
    "def Factorial(X):\r\n",
    "    if X == 0:\r\n",
    "        return 1    \r\n",
    "    else:\r\n",
    "     return X*Factorial(X-1)\r\n",
    "        \r\n",
    "Factorial(10)       \r\n",
    "        \r\n",
    "        "
   ],
   "outputs": [],
   "metadata": {}
  },
  {
   "cell_type": "code",
   "execution_count": null,
   "source": [
    "\r\n",
    "\r\n",
    "def febb (F):\r\n",
    "   if F == 1:\r\n",
    "       return 0\r\n",
    "   elif F==2:\r\n",
    "       return 1\r\n",
    "   else:\r\n",
    "       return febb(F-1)+febb(F-2)\r\n",
    "\r\n",
    "febb(20)      "
   ],
   "outputs": [],
   "metadata": {}
  },
  {
   "cell_type": "code",
   "execution_count": 1,
   "source": [
    " def factorial(n):\r\n",
    "     result = 1\r\n",
    "     for i in range(1, n + 1):\r\n",
    "        result = result * i\r\n",
    "        return result\r\n",
    " \r\n",
    " \r\n",
    " print(f'Factorial of 10 = {factorial(10)}')\r\n",
    " print(f'Factorial of 5 = {factorial(5)}')"
   ],
   "outputs": [
    {
     "output_type": "stream",
     "name": "stdout",
     "text": [
      "Factorial of 10 = 1\n",
      "Factorial of 5 = 1\n"
     ]
    }
   ],
   "metadata": {}
  },
  {
   "cell_type": "code",
   "execution_count": null,
   "source": [
    " def factorial(n):\r\n",
    "    if n == 1:\r\n",
    "        return 1\r\n",
    "    else:\r\n",
    "        return n * factorial(n - 1)\r\n",
    "    \r\n",
    "   \r\n",
    "  "
   ],
   "outputs": [],
   "metadata": {}
  },
  {
   "cell_type": "code",
   "execution_count": 2,
   "source": [
    " factorial(10) "
   ],
   "outputs": [
    {
     "output_type": "execute_result",
     "data": {
      "text/plain": [
       "1"
      ]
     },
     "metadata": {},
     "execution_count": 2
    }
   ],
   "metadata": {}
  },
  {
   "cell_type": "code",
   "execution_count": 21,
   "source": [
    "\r\n",
    "\r\n",
    "\r\n",
    "def func(n):\r\n",
    "    if n == 0:    \r\n",
    "        return 1\r\n",
    "    else:\r\n",
    "        return 2 + func(n-1)\r\n",
    "    "
   ],
   "outputs": [],
   "metadata": {}
  },
  {
   "cell_type": "code",
   "execution_count": 22,
   "source": [
    "func(3)"
   ],
   "outputs": [
    {
     "output_type": "execute_result",
     "data": {
      "text/plain": [
       "7"
      ]
     },
     "metadata": {},
     "execution_count": 22
    }
   ],
   "metadata": {}
  },
  {
   "cell_type": "code",
   "execution_count": null,
   "source": [],
   "outputs": [],
   "metadata": {}
  }
 ],
 "metadata": {
  "orig_nbformat": 4,
  "language_info": {
   "name": "python",
   "version": "3.8.8",
   "mimetype": "text/x-python",
   "codemirror_mode": {
    "name": "ipython",
    "version": 3
   },
   "pygments_lexer": "ipython3",
   "nbconvert_exporter": "python",
   "file_extension": ".py"
  },
  "kernelspec": {
   "name": "python3",
   "display_name": "Python 3.8.8 64-bit ('base': conda)"
  },
  "interpreter": {
   "hash": "6070b739bda494cd05c55c4dd1fefe4bc7f51a70f6d608882e1910222e9cc2a3"
  }
 },
 "nbformat": 4,
 "nbformat_minor": 2
}