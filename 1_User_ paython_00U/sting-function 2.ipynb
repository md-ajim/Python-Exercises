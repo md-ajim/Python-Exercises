{
 "cells": [
  {
   "cell_type": "code",
   "execution_count": 54,
   "id": "7ee0c211",
   "metadata": {},
   "outputs": [
    {
     "name": "stdout",
     "output_type": "stream",
     "text": [
      "2\n"
     ]
    }
   ],
   "source": [
    "string = 'pratice is string function'\n",
    "\n",
    "Count = string.count('p')              # count a kaj hocce 'p' koro jaygay ace seta ka se index kore disply korba\n",
    "\n",
    "print(Count + 1)                       #ay khane + 1 deya many se spice neya se index korba "
   ]
  },
  {
   "cell_type": "code",
   "execution_count": 39,
   "id": "fad9360d",
   "metadata": {},
   "outputs": [
    {
     "name": "stdout",
     "output_type": "stream",
     "text": [
      "9\n",
      "\t\n"
     ]
    }
   ],
   "source": [
    "string = 'pratice is string function'\n",
    "\n",
    "Count = string.find('s') # or kaj hcce koto number take suro hoica seta diply korba\n",
    "print(Count)\n",
    "\n",
    "x = chr(Count)\n",
    "\n",
    "print(x)"
   ]
  },
  {
   "cell_type": "code",
   "execution_count": 5,
   "id": "e0575ec2",
   "metadata": {},
   "outputs": [
    {
     "name": "stdout",
     "output_type": "stream",
     "text": [
      "19\n",
      "-1\n",
      "Contains substring hadding\n"
     ]
    }
   ],
   "source": [
    "quote = \"Contains substring hadding\"\n",
    "\n",
    "# first occurance of 'let it'(case sensitive)\n",
    "result = quote.find('hadding')\n",
    "print(result)\n",
    "\n",
    "# find returns -1 if substring not found\n",
    "result = quote.find('small')\n",
    "print( result)\n",
    "\n",
    "# How to use find()\n",
    "if (quote.find('hadding,') != -19):\n",
    "    print(\"Contains substring hadding\")\n",
    "else:\n",
    "    print(\"Doesn't contain substring\")\n",
    "    \n",
    "    \n",
    "    \n",
    "    \n",
    "    \n",
    "    \n",
    "    \n"
   ]
  },
  {
   "cell_type": "code",
   "execution_count": 40,
   "id": "35697e9e",
   "metadata": {},
   "outputs": [
    {
     "name": "stdout",
     "output_type": "stream",
     "text": [
      "Substring 'let it': 0\n",
      "Substring 'small ': -1\n",
      "Contains substring 'be,'\n"
     ]
    }
   ],
   "source": [
    "\n",
    "quote = 'This  chake endawith python.'\n",
    "\n",
    "# first occurance of 'let it'(case sensitive)\n",
    "result = quote.find('This')\n",
    "print(\"Substring 'let it':\", result)\n",
    "\n",
    "# find returns -1 if substring not found\n",
    "result = quote.find('small')\n",
    "print(\"Substring 'small ':\", result)\n",
    "\n",
    "# How to use find()\n",
    "if (quote.find('it') != -1 ):\n",
    "    print(\"Contains substring 'be,'\")\n",
    "else:\n",
    "    print(\"Doesn't contain substring\")"
   ]
  },
  {
   "cell_type": "code",
   "execution_count": 46,
   "id": "37a60037",
   "metadata": {},
   "outputs": [
    {
     "name": "stdout",
     "output_type": "stream",
     "text": [
      "True\n"
     ]
    }
   ],
   "source": [
    "quote = 'This  chake endawith python.'\n",
    "print(quote.endswith('endawith python.'))"
   ]
  },
  {
   "cell_type": "code",
   "execution_count": 43,
   "id": "8f2c3253",
   "metadata": {},
   "outputs": [
    {
     "name": "stdout",
     "output_type": "stream",
     "text": [
      "False\n",
      "True\n",
      "True\n"
     ]
    }
   ],
   "source": [
    "\n",
    "text = \"Python is easy to learn.\"\n",
    "\n",
    "result = text.endswith('to learn')\n",
    "# returns False\n",
    "print(result)\n",
    "\n",
    "result = text.endswith('to learn.')\n",
    "# returns True\n",
    "print(result)\n",
    "\n",
    "result = text.endswith('Python is easy to learn.')\n",
    "# returns True\n",
    "print(result)"
   ]
  },
  {
   "cell_type": "code",
   "execution_count": 52,
   "id": "26fbe292",
   "metadata": {},
   "outputs": [
    {
     "name": "stdout",
     "output_type": "stream",
     "text": [
      "This chke lower for pyrhon.\n"
     ]
    }
   ],
   "source": [
    "\n",
    "quote = 'THIS CHKE LOWER FOR PYRHON.'\n",
    "\n",
    "Lower = quote.lower()\n",
    "Lower = quote.upper()\n",
    "Lower = quote.capitalize()       \n",
    "print(Lower)"
   ]
  },
  {
   "cell_type": "code",
   "execution_count": 54,
   "id": "520673f0",
   "metadata": {},
   "outputs": [
    {
     "name": "stdout",
     "output_type": "stream",
     "text": [
      "True\n",
      "True\n",
      "True\n",
      "False\n"
     ]
    }
   ],
   "source": [
    "s = '1242323'\n",
    "print(s.isnumeric())\n",
    "\n",
    "#s = '²3455'\n",
    "s = '\\u00B23455'\n",
    "print(s.isnumeric())\n",
    "\n",
    "# s = '½'\n",
    "s = '\\u00BD'\n",
    "print(s.isnumeric())\n",
    "\n",
    "s = '1242323'\n",
    "s='python12'\n",
    "\n",
    "s = 'python program'\n",
    "\n",
    "print(s.isnumeric())"
   ]
  },
  {
   "cell_type": "code",
   "execution_count": 59,
   "id": "8670dee7",
   "metadata": {},
   "outputs": [
    {
     "name": "stdout",
     "output_type": "stream",
     "text": [
      "False\n"
     ]
    }
   ],
   "source": [
    "s = '6kaks5f hasd-f 3q4wi'\n",
    "\n",
    "print(s.isnumeric())"
   ]
  },
  {
   "cell_type": "code",
   "execution_count": 61,
   "id": "c15dcd27",
   "metadata": {},
   "outputs": [
    {
     "name": "stdout",
     "output_type": "stream",
     "text": [
      "All characters are not numeric.\n"
     ]
    }
   ],
   "source": [
    "#s = '²3455'\n",
    "s = '00B23455'\n",
    "\n",
    "if s.isnumeric() == True:\n",
    "  print('All characters are numeric.')\n",
    "else:\n",
    "  print('All characters are not numeric.')"
   ]
  },
  {
   "cell_type": "code",
   "execution_count": 64,
   "id": "60a01ad9",
   "metadata": {},
   "outputs": [
    {
     "name": "stdout",
     "output_type": "stream",
     "text": [
      "All characters are not alphabets.\n"
     ]
    }
   ],
   "source": []
  },
  {
   "cell_type": "code",
   "execution_count": 65,
   "id": "809bdabc",
   "metadata": {},
   "outputs": [
    {
     "name": "stdout",
     "output_type": "stream",
     "text": [
      "True\n",
      "False\n"
     ]
    }
   ],
   "source": [
    "s = \"28212\"\n",
    "print(s.isdigit())\n",
    "\n",
    "# contains alphabets and spaces\n",
    "s = \"Mo3 nicaG el l22er\"\n",
    "print(s.isdigit())"
   ]
  },
  {
   "cell_type": "code",
   "execution_count": 71,
   "id": "f67c0b42",
   "metadata": {},
   "outputs": [
    {
     "name": "stdout",
     "output_type": "stream",
     "text": [
      "['my', 'fevert', 'program', 'python']\n"
     ]
    }
   ],
   "source": [
    "x = 'my fevert program python'\n",
    "\n",
    "koma = x.split()\n",
    "print(koma)"
   ]
  },
  {
   "cell_type": "code",
   "execution_count": 72,
   "id": "8c78dc8b",
   "metadata": {},
   "outputs": [
    {
     "name": "stdout",
     "output_type": "stream",
     "text": [
      "['my fevert program python']\n"
     ]
    }
   ],
   "source": [
    "x = 'my fevert program python'\n",
    "\n",
    "koma = x.split(' ,')\n",
    "print(koma)"
   ]
  },
  {
   "cell_type": "code",
   "execution_count": 78,
   "id": "1cb5b336",
   "metadata": {},
   "outputs": [
    {
     "name": "stdout",
     "output_type": "stream",
     "text": [
      "1 2 3 \n",
      "1 2 3\n"
     ]
    }
   ],
   "source": [
    "x,y,z = input().split()\n",
    "\n",
    "print(x,y,z)"
   ]
  },
  {
   "cell_type": "code",
   "execution_count": 79,
   "id": "dcd4aa60",
   "metadata": {},
   "outputs": [
    {
     "name": "stdout",
     "output_type": "stream",
     "text": [
      "1, 2, 3\n",
      "1  2  3\n"
     ]
    }
   ],
   "source": [
    "x, y, z = input().split(',')\n",
    "\n",
    "print(x,y,z)\n"
   ]
  },
  {
   "cell_type": "code",
   "execution_count": 82,
   "id": "2041920b",
   "metadata": {},
   "outputs": [
    {
     "name": "stdout",
     "output_type": "stream",
     "text": [
      "3.141592653589793\n"
     ]
    }
   ],
   "source": [
    "import math\n",
    "\n",
    "print(math.pi)"
   ]
  },
  {
   "cell_type": "code",
   "execution_count": 17,
   "id": "2f2d3caa",
   "metadata": {},
   "outputs": [
    {
     "name": "stdout",
     "output_type": "stream",
     "text": [
      "2.718281828459045\n",
      "inf\n",
      "nan\n",
      "3.141592653589793\n",
      "6.283185307179586\n"
     ]
    }
   ],
   "source": [
    "import math\n",
    "\n",
    "c = math.e\n",
    "print(c)\n",
    "\n",
    "\n",
    "print(math.inf ) \n",
    "\n",
    "print(math.nan\t)\n",
    "\n",
    "print(math.pi\t)\n",
    "\n",
    "print(math.tau\t)"
   ]
  },
  {
   "cell_type": "code",
   "execution_count": null,
   "id": "ef9a6a92",
   "metadata": {},
   "outputs": [],
   "source": []
  },
  {
   "cell_type": "code",
   "execution_count": 9,
   "id": "f575104f",
   "metadata": {},
   "outputs": [
    {
     "name": "stdout",
     "output_type": "stream",
     "text": [
      "2.718281828459045\n"
     ]
    }
   ],
   "source": [
    "import math\n",
    "\n",
    "c = math.e\t\n",
    "\n",
    "print(c)\n",
    "\n"
   ]
  },
  {
   "cell_type": "code",
   "execution_count": null,
   "id": "f4ee833b",
   "metadata": {},
   "outputs": [],
   "source": []
  },
  {
   "cell_type": "code",
   "execution_count": null,
   "id": "b617a43c",
   "metadata": {},
   "outputs": [],
   "source": []
  },
  {
   "cell_type": "code",
   "execution_count": null,
   "id": "dc574329",
   "metadata": {},
   "outputs": [],
   "source": []
  }
 ],
 "metadata": {
  "kernelspec": {
   "display_name": "Python 3",
   "language": "python",
   "name": "python3"
  },
  "language_info": {
   "codemirror_mode": {
    "name": "ipython",
    "version": 3
   },
   "file_extension": ".py",
   "mimetype": "text/x-python",
   "name": "python",
   "nbconvert_exporter": "python",
   "pygments_lexer": "ipython3",
   "version": "3.8.8"
  }
 },
 "nbformat": 4,
 "nbformat_minor": 5
}
