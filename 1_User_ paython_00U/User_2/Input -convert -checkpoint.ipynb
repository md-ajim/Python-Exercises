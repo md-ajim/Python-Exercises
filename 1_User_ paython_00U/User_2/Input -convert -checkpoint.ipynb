{
 "cells": [
  {
   "cell_type": "code",
   "execution_count": 7,
   "id": "12f2b1f9",
   "metadata": {},
   "outputs": [
    {
     "name": "stdout",
     "output_type": "stream",
     "text": [
      "1\n"
     ]
    },
    {
     "data": {
      "text/plain": [
       "'1'"
      ]
     },
     "execution_count": 7,
     "metadata": {},
     "output_type": "execute_result"
    }
   ],
   "source": [
    "# prtyon ar katre ami jodi input neta chi thoel amke se input hisabe neba exampol\n",
    "\n",
    "\n",
    "x = input()\n",
    "\n",
    "x[0]\n",
    "\n",
    "\n",
    "# jodi string ar khatre se 0 ta 1 kore deba\n",
    "\n",
    " # python jay kono kicu user ar kaj thke string akare ane"
   ]
  },
  {
   "cell_type": "code",
   "execution_count": 8,
   "id": "77cd131c",
   "metadata": {},
   "outputs": [
    {
     "name": "stdout",
     "output_type": "stream",
     "text": [
      "10\n"
     ]
    }
   ],
   "source": [
    "# string a int ar convert kora \n",
    "\n",
    "\n",
    "x = \"10\";\n",
    "\n",
    "x = int(x) # ay x ar varibal ta ke se number a  convert korca\n",
    "\n",
    "print(x)"
   ]
  },
  {
   "cell_type": "code",
   "execution_count": 9,
   "id": "19b54698",
   "metadata": {},
   "outputs": [
    {
     "data": {
      "text/plain": [
       "int"
      ]
     },
     "execution_count": 9,
     "metadata": {},
     "output_type": "execute_result"
    }
   ],
   "source": [
    "type(x)"
   ]
  },
  {
   "cell_type": "code",
   "execution_count": 16,
   "id": "4824d33e",
   "metadata": {},
   "outputs": [
    {
     "name": "stdout",
     "output_type": "stream",
     "text": [
      " Convert your your string 10\n",
      "10\n"
     ]
    },
    {
     "data": {
      "text/plain": [
       "int"
      ]
     },
     "execution_count": 16,
     "metadata": {},
     "output_type": "execute_result"
    }
   ],
   "source": [
    "x = input(\" Convert your your string \" )\n",
    "\n",
    "x = int(x)\n",
    "\n",
    "\n",
    "print(x)\n",
    "\n",
    "type(x)"
   ]
  },
  {
   "cell_type": "code",
   "execution_count": null,
   "id": "d616cd1c",
   "metadata": {},
   "outputs": [],
   "source": [
    "# folor ja kore sdaronto dosomick a convert kore "
   ]
  },
  {
   "cell_type": "code",
   "execution_count": null,
   "id": "e2fbdf29",
   "metadata": {},
   "outputs": [],
   "source": []
  }
 ],
 "metadata": {
  "kernelspec": {
   "display_name": "Python 3",
   "language": "python",
   "name": "python3"
  },
  "language_info": {
   "codemirror_mode": {
    "name": "ipython",
    "version": 3
   },
   "file_extension": ".py",
   "mimetype": "text/x-python",
   "name": "python",
   "nbconvert_exporter": "python",
   "pygments_lexer": "ipython3",
   "version": "3.8.10"
  }
 },
 "nbformat": 4,
 "nbformat_minor": 5
}
