{
 "cells": [
  {
   "cell_type": "code",
   "execution_count": 24,
   "id": "f7180ca0",
   "metadata": {},
   "outputs": [
    {
     "name": "stdout",
     "output_type": "stream",
     "text": [
      "Enter a number 40\n",
      "Enter a number20\n",
      "Enter a number10\n",
      "40 is the beggar\n"
     ]
    }
   ],
   "source": [
    "a = int(input(\"Enter a number \"))\n",
    "\n",
    "b = int(input( \"Enter a number\"))\n",
    "\n",
    "c = int(input( \"Enter a number\"))\n",
    "\n",
    "if(a>b): # ay prigram a c deya 2 ta valo ka chkae kora hoica\n",
    "    \n",
    "    if(a>c):\n",
    "        \n",
    "        print(a,\"is the beggar\")\n",
    "    else:\n",
    "        \n",
    "        print(c,\"is the beggar\")\n",
    "        \n",
    "else:\n",
    "     \n",
    "    if(b>c):\n",
    "        \n",
    "        print(b, \"is the beggar\")\n",
    "    else:\n",
    "        \n",
    "        print(c,\"is the beggar\")\n",
    "        \n",
    "\n",
    "\n",
    "    \n",
    "    \n",
    "\n",
    "\n",
    "    \n",
    "    \n",
    "\n",
    "    \n"
   ]
  },
  {
   "cell_type": "code",
   "execution_count": null,
   "id": "d9f77730",
   "metadata": {},
   "outputs": [],
   "source": []
  },
  {
   "cell_type": "code",
   "execution_count": null,
   "id": "4e92f90d",
   "metadata": {},
   "outputs": [],
   "source": []
  }
 ],
 "metadata": {
  "kernelspec": {
   "display_name": "Python 3",
   "language": "python",
   "name": "python3"
  },
  "language_info": {
   "codemirror_mode": {
    "name": "ipython",
    "version": 3
   },
   "file_extension": ".py",
   "mimetype": "text/x-python",
   "name": "python",
   "nbconvert_exporter": "python",
   "pygments_lexer": "ipython3",
   "version": "3.8.10"
  }
 },
 "nbformat": 4,
 "nbformat_minor": 5
}
