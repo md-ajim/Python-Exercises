{
 "cells": [
  {
   "cell_type": "code",
   "execution_count": null,
   "id": "bd259dfd",
   "metadata": {},
   "outputs": [],
   "source": [
    "x = input(\"Enter a marks: \")\n",
    "\n",
    "x= float(x)\n",
    "\n",
    "if x>= 80: \n",
    "    \n",
    "    print(\"Your marks A +\")\n",
    "\n",
    "elif x>= 70:  \n",
    "    \n",
    "    print(\"Your marks A \")\n",
    "\n",
    "elif x>= 60 : \n",
    "    \n",
    "    print(\"Your marks A \")\n",
    "\n",
    "elif x>= 50 : \n",
    "        \n",
    "    print(\"Your marks B \")\n",
    "\n",
    "elif x>= 40 : \n",
    "        \n",
    "    print(\"Your marks C \")\n",
    "    \n",
    "    \n",
    "else:\n",
    "    \n",
    "    print(\" Your marks Fale\")   \n",
    "\n",
    "    "
   ]
  },
  {
   "cell_type": "code",
   "execution_count": null,
   "id": "3b497450",
   "metadata": {},
   "outputs": [],
   "source": []
  }
 ],
 "metadata": {
  "kernelspec": {
   "display_name": "Python 3",
   "language": "python",
   "name": "python3"
  },
  "language_info": {
   "codemirror_mode": {
    "name": "ipython",
    "version": 3
   },
   "file_extension": ".py",
   "mimetype": "text/x-python",
   "name": "python",
   "nbconvert_exporter": "python",
   "pygments_lexer": "ipython3",
   "version": "3.8.8"
  }
 },
 "nbformat": 4,
 "nbformat_minor": 5
}
