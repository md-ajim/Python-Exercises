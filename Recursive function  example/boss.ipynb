{
 "cells": [
  {
   "cell_type": "code",
   "execution_count": null,
   "source": [
    "\r\n",
    "\r\n",
    "import math\r\n",
    "\r\n",
    "def RecrusionFunction(n):\r\n",
    "    if n ==1:\r\n",
    "        return 4  # ay dui ta hocce bass\r\n",
    "    if n == 2:\r\n",
    "        return 3\r\n",
    "    else:\r\n",
    "        \r\n",
    "      return  math.fabs(RecrusionFunction(n-1)**2 - RecrusionFunction(n-2)**2) # ay take bole reletion recursiven ar \r\n",
    "\r\n",
    "\r\n",
    "# ay khane jayta goctce seta hocce fraist n ar valou 3 - take - 1   tayle frst valou tar number hooce 9, ar por porir ta valou hooce 4 , tho 4 take abar - korce 9 - rejult 7        \r\n",
    "        "
   ],
   "outputs": [],
   "metadata": {}
  },
  {
   "cell_type": "code",
   "execution_count": null,
   "source": [
    "RecrusionFunction(3)"
   ],
   "outputs": [],
   "metadata": {}
  },
  {
   "cell_type": "code",
   "execution_count": 13,
   "source": [
    "\r\n",
    "\r\n",
    "def Recursive (x):\r\n",
    "    if x == 1:\r\n",
    "        return 0\r\n",
    "    elif x ==2:\r\n",
    "        return 1 \r\n",
    "    \r\n",
    "    else:\r\n",
    "     return    Recursive(x-1 ) + Recursive(x-1)   # ay khane kaj hocce frist  x ar valu 5, fast fuction take 1 - hole 2 function thake 2 - holo tar por ay rokom komte komate jokhon 2 pailo return 1 korlo, frist ar function ta necar dike komte thakolo joto khon porjonto se 1 pailo toto khon porjoto se komte thklo, ar valou gulo bosiya delo \r\n",
    "        \r\n",
    "Recursive(5)\r\n",
    " \r\n",
    "        "
   ],
   "outputs": [
    {
     "output_type": "execute_result",
     "data": {
      "text/plain": [
       "8"
      ]
     },
     "metadata": {},
     "execution_count": 13
    }
   ],
   "metadata": {}
  },
  {
   "cell_type": "code",
   "execution_count": 18,
   "source": [
    "\r\n",
    "\r\n",
    "def Factorial (n):\r\n",
    "    \r\n",
    "    if n==0:\r\n",
    "        return 1\r\n",
    "    else:\r\n",
    "      return  n*Factorial(n-1)\r\n",
    "    \r\n",
    "Factorial(7)"
   ],
   "outputs": [
    {
     "output_type": "execute_result",
     "data": {
      "text/plain": [
       "5040"
      ]
     },
     "metadata": {},
     "execution_count": 18
    }
   ],
   "metadata": {}
  },
  {
   "cell_type": "code",
   "execution_count": 7,
   "source": [
    "\r\n",
    "\r\n",
    "def Fcat (s):\r\n",
    "    if s== 1:\r\n",
    "        return 1\r\n",
    "    elif s == 2:\r\n",
    "        return 0\r\n",
    "    \r\n",
    "    else:\r\n",
    "        return Fcat(s-1) + Fcat(s-2)\r\n",
    "        \r\n",
    "    \r\n",
    "Fcat(10)  "
   ],
   "outputs": [
    {
     "output_type": "execute_result",
     "data": {
      "text/plain": [
       "21"
      ]
     },
     "metadata": {},
     "execution_count": 7
    }
   ],
   "metadata": {}
  },
  {
   "cell_type": "code",
   "execution_count": null,
   "source": [],
   "outputs": [],
   "metadata": {}
  }
 ],
 "metadata": {
  "orig_nbformat": 4,
  "language_info": {
   "name": "python",
   "version": "3.8.8",
   "mimetype": "text/x-python",
   "codemirror_mode": {
    "name": "ipython",
    "version": 3
   },
   "pygments_lexer": "ipython3",
   "nbconvert_exporter": "python",
   "file_extension": ".py"
  },
  "kernelspec": {
   "name": "python3",
   "display_name": "Python 3.8.8 64-bit ('base': conda)"
  },
  "interpreter": {
   "hash": "6070b739bda494cd05c55c4dd1fefe4bc7f51a70f6d608882e1910222e9cc2a3"
  }
 },
 "nbformat": 4,
 "nbformat_minor": 2
}