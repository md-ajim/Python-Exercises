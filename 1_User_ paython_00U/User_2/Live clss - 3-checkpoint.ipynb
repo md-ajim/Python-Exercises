{
 "cells": [
  {
   "cell_type": "code",
   "execution_count": 9,
   "id": "310151aa",
   "metadata": {},
   "outputs": [
    {
     "name": "stdout",
     "output_type": "stream",
     "text": [
      "Enter a beg number rejult10\n",
      "Enter a beg number rejult15\n",
      "Enter a beg number rejult20\n",
      "15\n"
     ]
    }
   ],
   "source": [
    "a = int(input('Enter a beg number rejult'))\n",
    "b = int(input('Enter a beg number rejult'))\n",
    "c = int(input('Enter a beg number rejult'))\n",
    "\n",
    "#beg is number chake\n",
    "\n",
    "if(a>b):\n",
    "    big = a\n",
    "else:\n",
    "    big = b\n",
    "    \n",
    "if(c>big):\n",
    "    \n",
    "    big = c\n",
    "    \n",
    "    \n",
    "# smol is number chake    \n",
    "    \n",
    "    \n",
    "if(a<b):\n",
    "    smol = a\n",
    "else:\n",
    "    smol = b\n",
    "    \n",
    "if(c<big):\n",
    "    \n",
    "    smol = c\n",
    "    \n",
    "    \n",
    "rejult = a+b+c - big - smol #  ay khane just 3 ta input ka jog kore boro shonkha  ar choto shonkha dui ta - mainag kora hoyca\n",
    "\n",
    "print(rejult)\n",
    "    \n",
    "    \n",
    "\n"
   ]
  },
  {
   "cell_type": "code",
   "execution_count": 7,
   "id": "dd565fd1",
   "metadata": {},
   "outputs": [
    {
     "name": "stdout",
     "output_type": "stream",
     "text": [
      "45\n",
      "15\n"
     ]
    }
   ],
   "source": [
    "\n",
    "x = 10\n",
    "\n",
    "y = 15\n",
    "\n",
    "z = 20\n",
    "\n",
    "j = x+y+z\n",
    "\n",
    "print(j)\n",
    "\n",
    "\n",
    "s = j - x \n",
    "\n",
    "q = s-z\n",
    "\n",
    "print(q)\n",
    "\n",
    "\n",
    "\n",
    "\n"
   ]
  },
  {
   "cell_type": "code",
   "execution_count": null,
   "id": "aa21031a",
   "metadata": {},
   "outputs": [],
   "source": []
  }
 ],
 "metadata": {
  "kernelspec": {
   "display_name": "Python 3",
   "language": "python",
   "name": "python3"
  },
  "language_info": {
   "codemirror_mode": {
    "name": "ipython",
    "version": 3
   },
   "file_extension": ".py",
   "mimetype": "text/x-python",
   "name": "python",
   "nbconvert_exporter": "python",
   "pygments_lexer": "ipython3",
   "version": "3.8.10"
  }
 },
 "nbformat": 4,
 "nbformat_minor": 5
}
