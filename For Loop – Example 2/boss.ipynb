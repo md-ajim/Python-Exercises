{
 "cells": [
  {
   "cell_type": "code",
   "execution_count": 33,
   "source": [
    "\r\n",
    "List = []\r\n",
    "print(type(List))\r\n",
    "\r\n",
    "for  I in range(5):\r\n",
    "    print('Enter the ',I+1,'th Number:',x)\r\n",
    "    x = input('')\r\n",
    "    List.append(int(x))\r\n",
    "    \r\n",
    "\r\n",
    "beggar = List[0]\r\n",
    "smallar = List[0]  \r\n",
    "\r\n",
    "for number in List:\r\n",
    "    \r\n",
    "    if number > beggar:\r\n",
    "        beggar = number\r\n",
    "    \r\n",
    "    if number < smallar:\r\n",
    "        smallar = number        \r\n",
    "      \r\n",
    "print('This list number is beggar',beggar)\r\n",
    "print('This list number is beggar',smallar)\r\n",
    "\r\n",
    "\r\n",
    "\r\n",
    "sum = 0\r\n",
    "\r\n",
    "for number in List:\r\n",
    "    sum = sum+number\r\n",
    "    print(sum)\r\n",
    "\r\n",
    "avrage = sum/len(List)\r\n",
    "\r\n",
    "print(avrage)    \r\n",
    "    "
   ],
   "outputs": [
    {
     "output_type": "stream",
     "name": "stdout",
     "text": [
      "<class 'list'>\n",
      "Enter the  1 th Number: 54\n",
      "Enter the  2 th Number: 5\n",
      "Enter the  3 th Number: 5\n",
      "Enter the  4 th Number: 5\n",
      "Enter the  5 th Number: 5\n",
      "This list number is beggar 5\n",
      "This list number is beggar 5\n",
      "5\n",
      "10\n",
      "15\n",
      "20\n",
      "25\n",
      "5.0\n"
     ]
    }
   ],
   "metadata": {}
  },
  {
   "cell_type": "code",
   "execution_count": 45,
   "source": [
    "\r\n",
    "\r\n",
    "beggar = x \r\n",
    "smallar = x\r\n",
    "\r\n",
    "s = 1\r\n",
    "for I in range(5):\r\n",
    "    print('Enter the ',I+1,'th Number:',x)\r\n",
    "    x = int(input(''))\r\n",
    "\r\n",
    "if x > beggar:\r\n",
    "    beggar = x \r\n",
    "if  x < smallar:\r\n",
    "    smallar = x\r\n",
    "\r\n",
    "s = s+I\r\n",
    "\r\n",
    "print('Is  the beggar number',beggar)\r\n",
    "print('Is tha smallar number',smallar)\r\n",
    "print('Is tha avarage number',s/10)\r\n",
    "        \r\n",
    "    \r\n",
    "        \r\n",
    "    "
   ],
   "outputs": [
    {
     "output_type": "stream",
     "name": "stdout",
     "text": [
      "Enter the  1 th Number: 60\n"
     ]
    }
   ],
   "metadata": {}
  },
  {
   "cell_type": "code",
   "execution_count": null,
   "source": [],
   "outputs": [],
   "metadata": {}
  }
 ],
 "metadata": {
  "orig_nbformat": 4,
  "language_info": {
   "name": "python",
   "version": "3.8.8"
  },
  "kernelspec": {
   "name": "python3",
   "display_name": "Python 3.8.8 64-bit ('base': conda)"
  },
  "interpreter": {
   "hash": "6070b739bda494cd05c55c4dd1fefe4bc7f51a70f6d608882e1910222e9cc2a3"
  }
 },
 "nbformat": 4,
 "nbformat_minor": 2
}