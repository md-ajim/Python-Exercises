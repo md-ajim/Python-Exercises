{
 "cells": [
  {
   "cell_type": "code",
   "execution_count": 25,
   "id": "f63d1bb6",
   "metadata": {},
   "outputs": [],
   "source": [
    "# 2) তৈর/অ্যাক্সেস/আপডট/ ডলিট\n",
    "#  তৈর করার উপায\n",
    "\n",
    "# লটারিাল\n",
    "profile = { 'name' : 'Ajim' , 'roll' : 'Full-Stack' } \n",
    "\n",
    "\n",
    " # কেনস্ট্রাক্টের\n",
    "empty =  dict()\n",
    "form_pairs = dict([( 'a' , 1 ), (\"b\", 2)])\n",
    "from_kwargs = dict( name = 'Ajim', role = 'Developer')\n",
    "\n",
    " # fromkeys\n",
    "\n",
    "d = dict.fromkeys( [ 'a' , 'b' , 'c'] , 0)\n"
   ]
  },
  {
   "cell_type": "code",
   "execution_count": 26,
   "id": "a74f676a",
   "metadata": {},
   "outputs": [
    {
     "data": {
      "text/plain": [
       "0"
      ]
     },
     "execution_count": 26,
     "metadata": {},
     "output_type": "execute_result"
    }
   ],
   "source": [
    "# অ্যাক্সেস\n",
    "\n",
    "profile['name'] # KeyError হল ক্র্যাশ\n",
    "profile['roll']\n",
    "\n",
    "profile.get('name')\n",
    "profile.get('age' ,0)\n",
    "\n"
   ]
  },
  {
   "cell_type": "code",
   "execution_count": 27,
   "id": "45a84efa",
   "metadata": {},
   "outputs": [
    {
     "data": {
      "text/plain": [
       "{'name': 'Ajim', 'roll': 'backend', 'country': 'BD', 'timezone': 'UCT'}"
      ]
     },
     "execution_count": 27,
     "metadata": {},
     "output_type": "execute_result"
    }
   ],
   "source": [
    "# আপডট/ইনসাট\n",
    "\n",
    "profile['country'] = 'BD'  # set/insert\n",
    "profile\n",
    "\n",
    "profile.update({ 'roll' : 'backend'}) # multiple keys\n",
    "profile\n",
    "\n",
    "profile.setdefault('timezone' , 'UCT') # না থোকেল সেট কেরি, থোকেল আগরিটাই রিখে দেয\n",
    "\n",
    "profile"
   ]
  },
  {
   "cell_type": "code",
   "execution_count": null,
   "id": "dcee5a50",
   "metadata": {},
   "outputs": [
    {
     "data": {
      "text/plain": [
       "{'name': 'Ajim', 'roll': 'backend', 'timezone': 'UCT'}"
      ]
     },
     "execution_count": 31,
     "metadata": {},
     "output_type": "execute_result"
    }
   ],
   "source": [
    "# ডলিট\n",
    "# del profile['roll']\n",
    "\n",
    "value = profile.pop('country' , None)  # safe remove\n",
    "value\n",
    "\n",
    "lastItem = profile.popitem()\n",
    "\n",
    "lastItem\n"
   ]
  }
 ],
 "metadata": {
  "kernelspec": {
   "display_name": "Python 3",
   "language": "python",
   "name": "python3"
  },
  "language_info": {
   "codemirror_mode": {
    "name": "ipython",
    "version": 3
   },
   "file_extension": ".py",
   "mimetype": "text/x-python",
   "name": "python",
   "nbconvert_exporter": "python",
   "pygments_lexer": "ipython3",
   "version": "3.13.5"
  }
 },
 "nbformat": 4,
 "nbformat_minor": 5
}
