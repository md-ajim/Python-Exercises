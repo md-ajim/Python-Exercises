{
 "cells": [
  {
   "cell_type": "code",
   "execution_count": 1,
   "id": "17ceafb0",
   "metadata": {},
   "outputs": [
    {
     "name": "stdout",
     "output_type": "stream",
     "text": [
      "Hello, world!\n"
     ]
    }
   ],
   "source": [
    "# এটি একটি কমেন্ট\n",
    "print(\"Hello, world!\")  # আউটপুট: Hello, world!\n"
   ]
  },
  {
   "cell_type": "code",
   "execution_count": 3,
   "id": "04126ca1",
   "metadata": {},
   "outputs": [],
   "source": [
    "name = 'Ajim'\n",
    "age = 24 \n",
    "hight = 5.6\n",
    "is_developer = True\n"
   ]
  },
  {
   "cell_type": "code",
   "execution_count": 6,
   "id": "71322312",
   "metadata": {},
   "outputs": [
    {
     "name": "stdout",
     "output_type": "stream",
     "text": [
      "Welcome Md Ajim\n"
     ]
    }
   ],
   "source": [
    "your_name = input('Enter a name')\n",
    "\n",
    "print( 'Welcome', your_name)"
   ]
  },
  {
   "cell_type": "code",
   "execution_count": null,
   "id": "a6d917a7",
   "metadata": {},
   "outputs": [
    {
     "name": "stdout",
     "output_type": "stream",
     "text": [
      "sum: 140\n"
     ]
    },
    {
     "ename": "",
     "evalue": "",
     "output_type": "error",
     "traceback": [
      "\u001b[1;31mThe Kernel crashed while executing code in the current cell or a previous cell. \n",
      "\u001b[1;31mPlease review the code in the cell(s) to identify a possible cause of the failure. \n",
      "\u001b[1;31mClick <a href='https://aka.ms/vscodeJupyterKernelCrash'>here</a> for more info. \n",
      "\u001b[1;31mView Jupyter <a href='command:jupyter.viewOutput'>log</a> for further details."
     ]
    }
   ],
   "source": [
    "\n",
    "a = int(input(\"First number: \"))\n",
    "b = int(input(\"Second Number: \"))\n",
    "result = a + b\n",
    "print(\"sum:\", result)\n"
   ]
  }
 ],
 "metadata": {
  "kernelspec": {
   "display_name": "Python 3",
   "language": "python",
   "name": "python3"
  },
  "language_info": {
   "codemirror_mode": {
    "name": "ipython",
    "version": 3
   },
   "file_extension": ".py",
   "mimetype": "text/x-python",
   "name": "python",
   "nbconvert_exporter": "python",
   "pygments_lexer": "ipython3",
   "version": "3.13.3"
  }
 },
 "nbformat": 4,
 "nbformat_minor": 5
}
