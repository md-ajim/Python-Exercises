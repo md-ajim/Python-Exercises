{
 "cells": [
  {
   "cell_type": "code",
   "execution_count": 1,
   "id": "bd1a2d1d",
   "metadata": {},
   "outputs": [],
   "source": [
    "Bazar_list = ['Bannana','fish','Pen','tometo','hen', 20, 60, 90,80]\n",
    "\n",
    "Bazar_list.remove('fish') #  betor take list remove\n"
   ]
  },
  {
   "cell_type": "code",
   "execution_count": 2,
   "id": "a06226f6",
   "metadata": {},
   "outputs": [
    {
     "name": "stdout",
     "output_type": "stream",
     "text": [
      "['Bannana', 'Pen', 'tometo', 'hen', 20, 60, 90, 80]\n"
     ]
    }
   ],
   "source": [
    "print(Bazar_list)"
   ]
  },
  {
   "cell_type": "code",
   "execution_count": 6,
   "id": "08e47c8c",
   "metadata": {},
   "outputs": [
    {
     "name": "stdout",
     "output_type": "stream",
     "text": [
      "[]\n"
     ]
    }
   ],
   "source": [
    "Bazar_list = ['Bannana','fish','Pen','tometo','hen', 20, 60, 90,80]\n",
    "\n",
    "Bazar_list.clear()# all removed list\n",
    "\n",
    "print(Bazar_list)\n"
   ]
  },
  {
   "cell_type": "code",
   "execution_count": 7,
   "id": "6b9cfe69",
   "metadata": {},
   "outputs": [
    {
     "data": {
      "text/plain": [
       "80"
      ]
     },
     "execution_count": 7,
     "metadata": {},
     "output_type": "execute_result"
    }
   ],
   "source": [
    "Bazar_list = ['Bannana','fish','Pen','tometo','hen', 20, 60, 90,80]\n",
    "\n",
    "Bazar_list.pop() # gar dakka deya delo pop 80 ka"
   ]
  },
  {
   "cell_type": "code",
   "execution_count": 8,
   "id": "a2aa386d",
   "metadata": {},
   "outputs": [
    {
     "name": "stdout",
     "output_type": "stream",
     "text": [
      "['Bannana', 'fish', 'Pen', 'tometo', 'hen', 20, 60, 90]\n"
     ]
    }
   ],
   "source": [
    "\n",
    "print(Bazar_list)"
   ]
  },
  {
   "cell_type": "code",
   "execution_count": 7,
   "id": "bd85a30f",
   "metadata": {},
   "outputs": [
    {
     "name": "stdout",
     "output_type": "stream",
     "text": [
      "['Bannana', 'Pen', 'tometo', 'hen', 20, 60, 90, 80]\n"
     ]
    }
   ],
   "source": [
    "Bazar_list = ['Bannana','fish','Pen','tometo','hen', 20, 60, 90,80]\n",
    "\n",
    "del Bazar_list[1] # akhon ami jdi kono elemnet delede korta chi exampol\n",
    "\n",
    "\n",
    "\n",
    "print(Bazar_list)"
   ]
  },
  {
   "cell_type": "code",
   "execution_count": 11,
   "id": "c642f497",
   "metadata": {},
   "outputs": [
    {
     "ename": "NameError",
     "evalue": "name 'Bazar_list' is not defined",
     "output_type": "error",
     "traceback": [
      "\u001b[1;31m---------------------------------------------------------------------------\u001b[0m",
      "\u001b[1;31mNameError\u001b[0m                                 Traceback (most recent call last)",
      "\u001b[1;32m<ipython-input-11-4648a417688b>\u001b[0m in \u001b[0;36m<module>\u001b[1;34m\u001b[0m\n\u001b[0;32m      5\u001b[0m \u001b[1;33m\u001b[0m\u001b[0m\n\u001b[0;32m      6\u001b[0m \u001b[1;33m\u001b[0m\u001b[0m\n\u001b[1;32m----> 7\u001b[1;33m \u001b[0mprint\u001b[0m\u001b[1;33m(\u001b[0m\u001b[0mBazar_list\u001b[0m\u001b[1;33m)\u001b[0m\u001b[1;33m\u001b[0m\u001b[1;33m\u001b[0m\u001b[0m\n\u001b[0m",
      "\u001b[1;31mNameError\u001b[0m: name 'Bazar_list' is not defined"
     ]
    }
   ],
   "source": [
    "Bazar_list = ['Bannana','fish','Pen','tometo','hen', 20, 60, 90,80]\n",
    "\n",
    "del Bazar_list # list purotai delede kore fellam\n",
    "\n",
    "\n",
    "\n",
    "print(Bazar_list) "
   ]
  },
  {
   "cell_type": "code",
   "execution_count": 13,
   "id": "d79e6498",
   "metadata": {},
   "outputs": [
    {
     "name": "stdout",
     "output_type": "stream",
     "text": [
      "(['Bannana', 'fish', 'Pen', 'tometo', 'hen', 20, 60, 90, 80, 'goot', 'pepa', 'rich', 'mango', 'ak', 'kachamorice', 10, 90, 80, 70, 90, 70, 40],)\n"
     ]
    }
   ],
   "source": [
    "# akhon ami jdi  chi 2 ta list jog kore thard list banate thole tar exampol\n",
    "\n",
    "Bazar_listFrst = ['Bannana','fish','Pen','tometo','hen', 20, 60, 90,80]\n",
    "\n",
    "Bazar_listSecend = ['goot','pepa','rich','mango','ak','kachamorice',10,90,80,70,90,70,40]  \n",
    "\n",
    "ThardList = Bazar_listFrst + Bazar_listSecend,\n",
    "\n",
    "print(ThardList)\n",
    "\n",
    "\n"
   ]
  },
  {
   "cell_type": "code",
   "execution_count": 33,
   "id": "54ea33ce",
   "metadata": {},
   "outputs": [
    {
     "data": {
      "text/plain": [
       "False"
      ]
     },
     "execution_count": 33,
     "metadata": {},
     "output_type": "execute_result"
    }
   ],
   "source": [
    "# ami jidi chake korta chi list koto number a ace seta index function ta deya dekta parbo inoallh\n",
    "\n",
    "\n",
    "Bazar_listFrst = ['Bannana','fish','Pen','tometo','hen', 20, 60, 90,80]\n",
    "Bazar_listSecend = ['goot','pepa','rich','mango','ak','kachamorice',10,90,80,70,90,70,40]  \n",
    "\n",
    "ThardList = Bazar_listFrst + Bazar_listSecend\n",
    "\n",
    "\n",
    "'pomba' in ThardList\n",
    "\n",
    "\n",
    "    \n",
    "\n",
    "\n",
    "\n"
   ]
  },
  {
   "cell_type": "code",
   "execution_count": null,
   "id": "ed0154ff",
   "metadata": {},
   "outputs": [],
   "source": []
  }
 ],
 "metadata": {
  "kernelspec": {
   "display_name": "Python 3",
   "language": "python",
   "name": "python3"
  },
  "language_info": {
   "codemirror_mode": {
    "name": "ipython",
    "version": 3
   },
   "file_extension": ".py",
   "mimetype": "text/x-python",
   "name": "python",
   "nbconvert_exporter": "python",
   "pygments_lexer": "ipython3",
   "version": "3.8.8"
  }
 },
 "nbformat": 4,
 "nbformat_minor": 5
}
